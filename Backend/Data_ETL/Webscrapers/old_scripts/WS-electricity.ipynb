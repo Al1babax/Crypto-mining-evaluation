{
 "cells": [
  {
   "cell_type": "code",
   "execution_count": 8,
   "metadata": {
    "collapsed": true
   },
   "outputs": [
    {
     "name": "stdout",
     "output_type": "stream",
     "text": [
      "\n"
     ]
    },
    {
     "name": "stderr",
     "output_type": "stream",
     "text": [
      "[WDM] - ====== WebDriver manager ======\n",
      "[WDM] - Current google-chrome version is 103.0.5060\n",
      "[WDM] - Get LATEST chromedriver version for 103.0.5060 google-chrome\n",
      "[WDM] - Driver [C:\\Users\\user\\.wdm\\drivers\\chromedriver\\win32\\103.0.5060.53\\chromedriver.exe] found in cache\n",
      "C:\\Users\\user\\AppData\\Local\\Temp\\ipykernel_30428\\4128416741.py:26: DeprecationWarning: executable_path has been deprecated, please pass in a Service object\n",
      "  driver = webdriver.Chrome(ChromeDriverManager().install(), options=options)\n"
     ]
    }
   ],
   "source": [
    "import requests\n",
    "import pandas as pd\n",
    "import selenium.common.exceptions\n",
    "from selenium import webdriver\n",
    "from selenium.webdriver.chrome.service import Service\n",
    "from selenium.webdriver.common.by import By\n",
    "from selenium.webdriver.support.ui import WebDriverWait\n",
    "from selenium.webdriver.support import expected_conditions as EC\n",
    "from webdriver_manager.chrome import ChromeDriverManager\n",
    "from bs4 import BeautifulSoup\n",
    "from selenium.webdriver.common.keys import Keys\n",
    "import datetime as dt\n",
    "import time\n",
    "import re\n",
    "import os\n",
    "import numpy as np\n",
    "import pymongo\n",
    "\n",
    "\n",
    "# Settings\n",
    "options = webdriver.ChromeOptions()\n",
    "options.headless = True\n",
    "options.add_argument(\"window-size=1920,1080\")\n",
    "options.add_argument('--no-sandbox')\n",
    "options.add_argument('--disable-dev-shm-usage')\n",
    "driver = webdriver.Chrome(ChromeDriverManager().install(), options=options)\n",
    "start_url = \"https://vare.fi/sahkosopimus/porssisahko/\"\n",
    "usa_url = \"https://www.energybot.com/electricity-rates-by-state.html\"\n",
    "wait = WebDriverWait(driver, 1)\n",
    "time1 = dt.datetime.now()\n",
    "current_time = time1.strftime(\"%Y-%m-%dT%H_%M_%S\")"
   ]
  },
  {
   "cell_type": "code",
   "execution_count": 9,
   "metadata": {
    "collapsed": false,
    "pycharm": {
     "name": "#%%\n"
    }
   },
   "outputs": [],
   "source": [
    "def element_by_id(id1:str):\n",
    "    element = driver.find_element(by=By.ID, value=id1)\n",
    "    return element\n",
    "\n",
    "def element_by_selector(selector:str):\n",
    "    element = driver.find_element(by= By.CSS_SELECTOR, value=selector)\n",
    "    return element"
   ]
  },
  {
   "cell_type": "code",
   "execution_count": 10,
   "metadata": {
    "collapsed": false,
    "pycharm": {
     "name": "#%%\n"
    }
   },
   "outputs": [],
   "source": [
    "def finland_electricity():\n",
    "    time.sleep(3)\n",
    "    driver.get(start_url)\n",
    "    time.sleep(20)\n",
    "    info_box = element_by_selector(\"#blokki-3 > div > section > div > div > div.column.is-6-desktop.is-offset-1-desktop > div > div > div.hourly-prices-chart-data > div.hourly-prices-chart-data-pricecards.mb-4\")\n",
    "    daily_info = element_by_selector(\"#blokki-3 > div > section > div > div > div.column.is-6-desktop.is-offset-1-desktop > div > div > div.hourly-prices-chart-data > div.hourly-prices-chart-average-prices\")\n",
    "\n",
    "    overall_info_list = info_box.text.split(\"\\n\")\n",
    "    daily_info_list = daily_info.text.split(\"\\n\")\n",
    "\n",
    "    # Finding all the prices from elements\n",
    "    current_price = float(overall_info_list[1].split(\" \")[0].replace(\",\", \".\")) + 0.25\n",
    "    day_average = float(daily_info_list[0].split(\":\")[1].lstrip().split(\" \")[0].replace(\",\", \".\")) + 0.25\n",
    "    night_average = float(daily_info_list[1].split(\":\")[1].lstrip().split(\" \")[0].replace(\",\", \".\")) + 0.25\n",
    "    yearly_average = float(overall_info_list[-2].split(\" \")[0].replace(\",\",\".\")) + 0.25\n",
    "\n",
    "    data = [{\"currency\":\"cent/kWh €\", \"current_price\":current_price, \"day_average\":day_average, \"night_average\":night_average, \"yearly_average\":yearly_average, \"electricity_company_cut\":0.25}]\n",
    "    df2 = pd.DataFrame(data)\n",
    "    return df2"
   ]
  },
  {
   "cell_type": "code",
   "execution_count": 11,
   "metadata": {
    "collapsed": false,
    "pycharm": {
     "name": "#%%\n"
    }
   },
   "outputs": [],
   "source": [
    "def usa_electricity():\n",
    "    driver.get(usa_url)\n",
    "    time.sleep(20)\n",
    "    data = element_by_selector(\"body > div.eb-state-container > div > div.eb-landing-page-container > div.html-embed-scroll.w-embed\")\n",
    "\n",
    "    state_data = data.text.split(\"\\n\")[3:]\n",
    "    all_data = []\n",
    "    for state in state_data:\n",
    "        temp_data = {\"currency\":\"cent/kWh $\"}\n",
    "        temp_info = state.split(\" \")\n",
    "\n",
    "        while temp_info[1].isalpha():\n",
    "            temp_info[0] += \" \" + temp_info[1]\n",
    "            temp_info.pop(1)\n",
    "\n",
    "        # Setup all info to dict\n",
    "        temp_data[\"state\"] = temp_info[0]\n",
    "        temp_data[\"current_month\"] = temp_info[1]\n",
    "        temp_data[\"previous_month\"] = temp_info[2]\n",
    "        temp_data[\"change (%)\"] = temp_info[3]\n",
    "\n",
    "        all_data.append(temp_data)\n",
    "\n",
    "    df3 = pd.DataFrame(all_data)\n",
    "    return df3"
   ]
  },
  {
   "cell_type": "code",
   "execution_count": 12,
   "metadata": {
    "collapsed": false,
    "pycharm": {
     "name": "#%%\n"
    }
   },
   "outputs": [],
   "source": [
    "def write_mongodb(df1, df2):\n",
    "    client = pymongo.MongoClient()\n",
    "    db = client[\"Electricity\"]\n",
    "\n",
    "    #USA database write\n",
    "    collection = db[\"USA\"]\n",
    "    collection.insert_one({\"date\": current_time, \"data\":df2.to_dict(orient=\"records\")})\n",
    "\n",
    "    #Finland database write\n",
    "    collection = db[\"Finland\"]\n",
    "    collection.insert_one({\"date\": current_time, \"data\":df1.to_dict(orient=\"records\")})"
   ]
  },
  {
   "cell_type": "code",
   "execution_count": 13,
   "metadata": {
    "collapsed": false,
    "pycharm": {
     "name": "#%%\n"
    }
   },
   "outputs": [],
   "source": [
    "def main():\n",
    "    start_time = dt.datetime.now()\n",
    "    finland_df = finland_electricity()\n",
    "    usa_df = usa_electricity()\n",
    "    write_mongodb(finland_df, usa_df)\n",
    "    driver.quit()\n",
    "    print(f\"Runtime: {dt.datetime.now() - start_time} seconds\")"
   ]
  },
  {
   "cell_type": "code",
   "execution_count": 7,
   "metadata": {
    "collapsed": false,
    "pycharm": {
     "name": "#%%\n"
    }
   },
   "outputs": [
    {
     "name": "stdout",
     "output_type": "stream",
     "text": [
      "Runtime: 0:01:08.851498 seconds\n"
     ]
    }
   ],
   "source": [
    "if __name__ == '__main__':\n",
    "    main()"
   ]
  }
 ],
 "metadata": {
  "kernelspec": {
   "display_name": "Python 3.10.4 64-bit",
   "language": "python",
   "name": "python3"
  },
  "language_info": {
   "codemirror_mode": {
    "name": "ipython",
    "version": 3
   },
   "file_extension": ".py",
   "mimetype": "text/x-python",
   "name": "python",
   "nbconvert_exporter": "python",
   "pygments_lexer": "ipython3",
   "version": "3.10.4"
  },
  "vscode": {
   "interpreter": {
    "hash": "fb4569285eef3a3450cb62085a5b1e0da4bce0af555edc33dcf29baf3acc1368"
   }
  }
 },
 "nbformat": 4,
 "nbformat_minor": 0
}
