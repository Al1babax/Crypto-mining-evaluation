{
 "cells": [
  {
   "cell_type": "markdown",
   "source": [
    "# GPU webscraping --- GPU not worth checking atm"
   ],
   "metadata": {
    "collapsed": false
   }
  },
  {
   "cell_type": "code",
   "execution_count": 1,
   "metadata": {
    "collapsed": true
   },
   "outputs": [
    {
     "name": "stderr",
     "output_type": "stream",
     "text": [
      "\n",
      "\n",
      "====== WebDriver manager ======\n",
      "Current google-chrome version is 103.0.5060\n",
      "Get LATEST chromedriver version for 103.0.5060 google-chrome\n",
      "Driver [C:\\Users\\Alibaba\\.wdm\\drivers\\chromedriver\\win32\\103.0.5060.53\\chromedriver.exe] found in cache\n",
      "C:\\Users\\Alibaba\\AppData\\Local\\Temp/ipykernel_18264/839049927.py:27: DeprecationWarning: executable_path has been deprecated, please pass in a Service object\n",
      "  driver = webdriver.Chrome(ChromeDriverManager().install(), options=options)\n"
     ]
    }
   ],
   "source": [
    "import requests\n",
    "import pandas as pd\n",
    "import selenium.common.exceptions\n",
    "from selenium import webdriver\n",
    "from selenium.webdriver.chrome.service import Service\n",
    "from selenium.webdriver.common.by import By\n",
    "from selenium.webdriver.support.ui import WebDriverWait\n",
    "from selenium.webdriver.support import expected_conditions as EC\n",
    "from webdriver_manager.chrome import ChromeDriverManager\n",
    "from bs4 import BeautifulSoup\n",
    "from selenium.webdriver.common.keys import Keys\n",
    "import datetime as dt\n",
    "import time\n",
    "import re\n",
    "import os\n",
    "import numpy as np\n",
    "import pymongo\n",
    "import json\n",
    "\n",
    "\n",
    "# Settings\n",
    "options = webdriver.ChromeOptions()\n",
    "options.headless = False\n",
    "options.add_argument(\"window-size=1920,1080\")\n",
    "options.add_argument('--no-sandbox')\n",
    "options.add_argument('--disable-dev-shm-usage')\n",
    "driver = webdriver.Chrome(ChromeDriverManager().install(), options=options)\n",
    "start_url = \"https://www.nowinstock.net/computers/videocards/\"\n",
    "wait = WebDriverWait(driver, 1)\n",
    "time1 = dt.datetime.now()\n",
    "current_time = time1.strftime(\"%Y-%m-%dT%H_%M_%S\")\n",
    "client = pymongo.MongoClient()"
   ]
  },
  {
   "cell_type": "code",
   "execution_count": 2,
   "outputs": [
    {
     "data": {
      "text/plain": "                         name   brand  \\\n0            Nvidia CMP 170HX  Nvidia   \n1            Nvidia CMP 220HX  Nvidia   \n2             Nvidia CMP 30HX  Nvidia   \n3             Nvidia CMP 40HX  Nvidia   \n4             Nvidia CMP 50HX  Nvidia   \n..                        ...     ...   \n78           Nvidia Titan RTX  Nvidia   \n79             Nvidia Titan V  Nvidia   \n80             Nvidia Titan X  Nvidia   \n81            Nvidia Titan XP  Nvidia   \n82  AMD Vega Frontier Edition     AMD   \n\n                                           algorithms  \n0   {'Ethash': {'speed': 161550000, 'power': 223},...  \n1   {'Ethash': {'speed': 210000000, 'power': 0}, '...  \n2   {'Ethash': {'speed': 29426000, 'power': 80}, '...  \n3   {'Argon2d4096': {'speed': 35224.13, 'power': 8...  \n4   {'Ethash': {'speed': 54120000, 'power': 180}, ...  \n..                                                ...  \n78                                               None  \n79  {'Allium': {'speed': 15511160, 'power': 0}, 'B...  \n80                                               None  \n81  {'Ethash': {'speed': 49023000, 'power': 252}, ...  \n82  {'CryptoNightR': {'speed': 1928.75, 'power': 1...  \n\n[83 rows x 3 columns]",
      "text/html": "<div>\n<style scoped>\n    .dataframe tbody tr th:only-of-type {\n        vertical-align: middle;\n    }\n\n    .dataframe tbody tr th {\n        vertical-align: top;\n    }\n\n    .dataframe thead th {\n        text-align: right;\n    }\n</style>\n<table border=\"1\" class=\"dataframe\">\n  <thead>\n    <tr style=\"text-align: right;\">\n      <th></th>\n      <th>name</th>\n      <th>brand</th>\n      <th>algorithms</th>\n    </tr>\n  </thead>\n  <tbody>\n    <tr>\n      <th>0</th>\n      <td>Nvidia CMP 170HX</td>\n      <td>Nvidia</td>\n      <td>{'Ethash': {'speed': 161550000, 'power': 223},...</td>\n    </tr>\n    <tr>\n      <th>1</th>\n      <td>Nvidia CMP 220HX</td>\n      <td>Nvidia</td>\n      <td>{'Ethash': {'speed': 210000000, 'power': 0}, '...</td>\n    </tr>\n    <tr>\n      <th>2</th>\n      <td>Nvidia CMP 30HX</td>\n      <td>Nvidia</td>\n      <td>{'Ethash': {'speed': 29426000, 'power': 80}, '...</td>\n    </tr>\n    <tr>\n      <th>3</th>\n      <td>Nvidia CMP 40HX</td>\n      <td>Nvidia</td>\n      <td>{'Argon2d4096': {'speed': 35224.13, 'power': 8...</td>\n    </tr>\n    <tr>\n      <th>4</th>\n      <td>Nvidia CMP 50HX</td>\n      <td>Nvidia</td>\n      <td>{'Ethash': {'speed': 54120000, 'power': 180}, ...</td>\n    </tr>\n    <tr>\n      <th>...</th>\n      <td>...</td>\n      <td>...</td>\n      <td>...</td>\n    </tr>\n    <tr>\n      <th>78</th>\n      <td>Nvidia Titan RTX</td>\n      <td>Nvidia</td>\n      <td>None</td>\n    </tr>\n    <tr>\n      <th>79</th>\n      <td>Nvidia Titan V</td>\n      <td>Nvidia</td>\n      <td>{'Allium': {'speed': 15511160, 'power': 0}, 'B...</td>\n    </tr>\n    <tr>\n      <th>80</th>\n      <td>Nvidia Titan X</td>\n      <td>Nvidia</td>\n      <td>None</td>\n    </tr>\n    <tr>\n      <th>81</th>\n      <td>Nvidia Titan XP</td>\n      <td>Nvidia</td>\n      <td>{'Ethash': {'speed': 49023000, 'power': 252}, ...</td>\n    </tr>\n    <tr>\n      <th>82</th>\n      <td>AMD Vega Frontier Edition</td>\n      <td>AMD</td>\n      <td>{'CryptoNightR': {'speed': 1928.75, 'power': 1...</td>\n    </tr>\n  </tbody>\n</table>\n<p>83 rows × 3 columns</p>\n</div>"
     },
     "execution_count": 2,
     "metadata": {},
     "output_type": "execute_result"
    }
   ],
   "source": [
    "db = client[\"Crypto-mining\"]\n",
    "col = db[\"GPU-PoW\"]\n",
    "data = col.find_one({\"time\":\"2022-07-06T12_43_17\"})\n",
    "gpu_df = pd.DataFrame(data[\"data\"])\n",
    "gpu_df"
   ],
   "metadata": {
    "collapsed": false,
    "pycharm": {
     "name": "#%%\n"
    }
   }
  },
  {
   "cell_type": "code",
   "execution_count": 9,
   "outputs": [
    {
     "data": {
      "text/plain": "67    {'Autolykos2': {'speed': 56130000, 'power': 10...\nName: algorithms, dtype: object"
     },
     "execution_count": 9,
     "metadata": {},
     "output_type": "execute_result"
    }
   ],
   "source": [
    "gpu_df[gpu_df[\"name\"] == \"AMD RX 6600 XT\"][\"algorithms\"]"
   ],
   "metadata": {
    "collapsed": false,
    "pycharm": {
     "name": "#%%\n"
    }
   }
  },
  {
   "cell_type": "code",
   "execution_count": null,
   "outputs": [],
   "source": [],
   "metadata": {
    "collapsed": false,
    "pycharm": {
     "name": "#%%\n"
    }
   }
  }
 ],
 "metadata": {
  "kernelspec": {
   "display_name": "Python 3",
   "language": "python",
   "name": "python3"
  },
  "language_info": {
   "codemirror_mode": {
    "name": "ipython",
    "version": 2
   },
   "file_extension": ".py",
   "mimetype": "text/x-python",
   "name": "python",
   "nbconvert_exporter": "python",
   "pygments_lexer": "ipython2",
   "version": "2.7.6"
  }
 },
 "nbformat": 4,
 "nbformat_minor": 0
}