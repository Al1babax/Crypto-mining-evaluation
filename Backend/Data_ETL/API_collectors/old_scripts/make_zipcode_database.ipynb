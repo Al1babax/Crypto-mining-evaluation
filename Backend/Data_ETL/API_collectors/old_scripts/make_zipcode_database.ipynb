{
 "cells": [
  {
   "cell_type": "code",
   "execution_count": 1,
   "metadata": {
    "collapsed": true
   },
   "outputs": [
    {
     "name": "stderr",
     "output_type": "stream",
     "text": [
      "C:\\Users\\Alibaba\\AppData\\Local\\Programs\\Python\\Python39\\lib\\site-packages\\requests\\__init__.py:102: RequestsDependencyWarning: urllib3 (1.26.9) or chardet (5.0.0)/charset_normalizer (2.0.12) doesn't match a supported version!\n",
      "  warnings.warn(\"urllib3 ({}) or chardet ({})/charset_normalizer ({}) doesn't match a supported \"\n"
     ]
    }
   ],
   "source": [
    "import requests\n",
    "import pandas as pd"
   ]
  },
  {
   "cell_type": "code",
   "execution_count": 21,
   "outputs": [],
   "source": [
    "def get_data(country_code, country):\n",
    "    cookies = {\n",
    "        'ezoadgid_232529': '-1',\n",
    "        'ezoref_232529': 'google.com',\n",
    "        'ezoab_232529': 'mod43-c',\n",
    "        'ezepvv': '0',\n",
    "        'ezovid_232529': '72172677',\n",
    "        'lp_232529': 'https://randommer.io/random-address',\n",
    "        'ezovuuid_232529': 'f29191e3-fb3e-40b5-49a6-79b2ce751ef5',\n",
    "        'ezds': 'ffid%3D1%2Cw%3D1920%2Ch%3D1080',\n",
    "        'ezohw': 'w%3D1920%2Ch%3D937',\n",
    "        'ezCMPCookieConsent': '-1=1|1=1|2=1|3=1|4=1',\n",
    "        'ezux_ifep_232529': 'true',\n",
    "        'ezosuibasgeneris-1': '278817d5-d1f8-4792-67d6-b46693ef0ecf',\n",
    "        'ezCMPCCS': 'true',\n",
    "        '__qca': 'P0-1037817253-1657481833459',\n",
    "        '.AspNetCore.Antiforgery.9TtSrW0hzOs': 'CfDJ8IHyMUllUkRMnqJ3YlgaUfccYjL9_bQMAg5iXkkWlBrLDIxU_wfbRT6pUoPnqYwULw5KvbNHq4MrEYunNzDwNI9jFOn5G_YaJM5VJHlB2sEOgwhF0mPijXop5XXzn-D7EX00HRnvJ7-nqkgHykisvaE',\n",
    "        '__cf_bm': 'IUqT3x27v6DcMQK0JsuGPEAHhUtCprJr1H8g151jEQc-1657482227-0-AdY2q56YqEtJFOv5MMsyBDzXMT5qFAxqoHu1n+QWSrA01MbVZBcSYrjNi0Ucx2WH6qlQ8hgP7C+H4XXFzaQ4YALG0knYkc3IVbJ57E3CjoNrgtENv072ETVQbL61qCeSdg==',\n",
    "        '.AspNetCore.Identity.Application': 'CfDJ8IHyMUllUkRMnqJ3YlgaUffOibzGt3Lgr92rChOYgG4O5FXdej2eaJa2c4EpHFtiuv96bxRn34QzfOtU4gr05qEWLr6lxWqps8yaRI5opU3a__Dw_lYEQrajKSmbKLlOhMmGOPeAl_g6-PV0fLvnvFk51AaGHn16oPMXU-vrJLduXnddd2JpPpdJn2GU4ttHIsDYkhrK_71hX0Y0Zq9t6OUKDKS26IdA_xkGhxNwi78edEFtoaSk3O_gxMNKzrCcVtVXFPMFDbbT4XvTgQFha8uhr3ft23TFvQCEOIqlhth7lkySduEkwnhuBMt2ZQM7CBy7iLPEYj9NrU3kDBmXveyfSqpx5G7NdomIa_0I5YDKj9Uauq8rsIKJX4I7KwREBK9fUS5zQdGj18Ms2MsDPdIo1t78rP-L4d511wIgia_ZcPxxaZSW083mY5cHhhPiYsTkteZqkephJOfZAxlw0v405owOtqSH--9Xl97bap0D5TsimpiXksVyR_GDsa9SQHXuVQ_9bplQujWyTTt1l8AmEzkCuwwCF-ZVdCfSFIVpZY7YCrlcjdY9SFmx7kaJxhB1IXnebwrkIkLQmzX_nyW54iLQ92Qk5F_Gf76CAnEqAQUNd41rjq903IamwQbv7_UaupP0EnV2wH6ujqDKESwGYN3vhSkt1c4wyV58T79sYpbuyBLPqIADUV_IikF0xuH0Ze-T5vze5qOLNJTUpUGEQMcktNsaaIy5W-79Tn9Iukdx_4sb3F0B1TbPXbjz0A',\n",
    "        'ezux_lpl_232529': '1657482448915|491ab2be-f1ea-46e7-6358-1f6bc646ed59|false',\n",
    "        'ezux_et_232529': '295',\n",
    "        'ezux_tos_232529': '1115',\n",
    "        'active_template::232529': 'pub_site.1657482477',\n",
    "        'ezopvc_232529': '29',\n",
    "        'ezovuuidtime_232529': '1657482478',\n",
    "    }\n",
    "\n",
    "    headers = {\n",
    "        'authority': 'randommer.io',\n",
    "        'accept': '*/*',\n",
    "        'accept-language': 'en-GB,en;q=0.9,en-US;q=0.8,fi;q=0.7,ko;q=0.6',\n",
    "        'content-type': 'application/x-www-form-urlencoded; charset=UTF-8',\n",
    "        'origin': 'https://randommer.io',\n",
    "        'sec-ch-ua': '\".Not/A)Brand\";v=\"99\", \"Google Chrome\";v=\"103\", \"Chromium\";v=\"103\"',\n",
    "        'sec-ch-ua-mobile': '?0',\n",
    "        'sec-ch-ua-platform': '\"Windows\"',\n",
    "        'sec-fetch-dest': 'empty',\n",
    "        'sec-fetch-mode': 'cors',\n",
    "        'sec-fetch-site': 'same-origin',\n",
    "        'user-agent': 'Mozilla/5.0 (Windows NT 10.0; Win64; x64) AppleWebKit/537.36 (KHTML, like Gecko) Chrome/103.0.0.0 Safari/537.36',\n",
    "        'x-requested-with': 'XMLHttpRequest',\n",
    "    }\n",
    "\n",
    "    data = {\n",
    "        'number': '1',\n",
    "        'culture': country_code,\n",
    "        'X-Requested-With': 'XMLHttpRequest',\n",
    "    }\n",
    "\n",
    "    response = requests.post('https://randommer.io/random-address', cookies=cookies, headers=headers, data=data)\n",
    "    data = response.json()\n",
    "\n",
    "    address = {\n",
    "        \"country\": country,\n",
    "        \"zip\": str(data[0].split(\",\")[2]).rstrip().lstrip()\n",
    "    }\n",
    "\n",
    "    return address"
   ],
   "metadata": {
    "collapsed": false,
    "pycharm": {
     "name": "#%%\n"
    }
   }
  },
  {
   "cell_type": "code",
   "execution_count": 22,
   "outputs": [],
   "source": [
    "def make_db(data_df: pd.DataFrame):\n",
    "    import pymongo\n",
    "    import datetime as dt\n",
    "    client = pymongo.MongoClient()\n",
    "    db = client[\"Shipments\"]\n",
    "    col = db[\"addresses\"]\n",
    "    col.insert_one({\"time\": dt.datetime.now(), \"data\": data_df.to_dict(orient=\"records\")})"
   ],
   "metadata": {
    "collapsed": false,
    "pycharm": {
     "name": "#%%\n"
    }
   }
  },
  {
   "cell_type": "code",
   "execution_count": 23,
   "outputs": [
    {
     "data": {
      "text/plain": "           country         zip\n0     South Africa        1267\n1          Georgia        0136\n2     Saudi Arabia         103\n3        Indonesia       01830\n4       Azerbaijan      m. 609\n5            Italy       51413\n6   Czech Republic      755 22\n7            Japan    740-7693\n8          Germany       64468\n9            Korea     261-586\n10         Austria        3274\n11          Latvia     LV-8472\n12     Switzerland        4426\n13          Norway        0619\n14          Greece  54530-5311\n15     Netherlands     2281 TD\n16       Australia        7866\n17         Belgium        3255\n18          Poland      22-716\n19          Brazil   99119-600\n20          Canada     A2H 1D7\n21        Portugal    2100-855\n22         England    NQ55 3EN\n23         Romania     Ap. 699\n24         Ireland  52003-5449\n25          Russia     кв. 346\n26        Slovakia      47 424\n27          Sweden       02398\n28          Turkey       87571\n29           Spain       56846\n30         Ukraine     кв. 437\n31          Mexico       23062\n32         Vietnam       94717\n33            Iran      واحد 7\n34           China      913830\n35          France       23301\n36          Taiwan      716960\n37          Quebec     K9F 2O1\n38            Zulu        6698",
      "text/html": "<div>\n<style scoped>\n    .dataframe tbody tr th:only-of-type {\n        vertical-align: middle;\n    }\n\n    .dataframe tbody tr th {\n        vertical-align: top;\n    }\n\n    .dataframe thead th {\n        text-align: right;\n    }\n</style>\n<table border=\"1\" class=\"dataframe\">\n  <thead>\n    <tr style=\"text-align: right;\">\n      <th></th>\n      <th>country</th>\n      <th>zip</th>\n    </tr>\n  </thead>\n  <tbody>\n    <tr>\n      <th>0</th>\n      <td>South Africa</td>\n      <td>1267</td>\n    </tr>\n    <tr>\n      <th>1</th>\n      <td>Georgia</td>\n      <td>0136</td>\n    </tr>\n    <tr>\n      <th>2</th>\n      <td>Saudi Arabia</td>\n      <td>103</td>\n    </tr>\n    <tr>\n      <th>3</th>\n      <td>Indonesia</td>\n      <td>01830</td>\n    </tr>\n    <tr>\n      <th>4</th>\n      <td>Azerbaijan</td>\n      <td>m. 609</td>\n    </tr>\n    <tr>\n      <th>5</th>\n      <td>Italy</td>\n      <td>51413</td>\n    </tr>\n    <tr>\n      <th>6</th>\n      <td>Czech Republic</td>\n      <td>755 22</td>\n    </tr>\n    <tr>\n      <th>7</th>\n      <td>Japan</td>\n      <td>740-7693</td>\n    </tr>\n    <tr>\n      <th>8</th>\n      <td>Germany</td>\n      <td>64468</td>\n    </tr>\n    <tr>\n      <th>9</th>\n      <td>Korea</td>\n      <td>261-586</td>\n    </tr>\n    <tr>\n      <th>10</th>\n      <td>Austria</td>\n      <td>3274</td>\n    </tr>\n    <tr>\n      <th>11</th>\n      <td>Latvia</td>\n      <td>LV-8472</td>\n    </tr>\n    <tr>\n      <th>12</th>\n      <td>Switzerland</td>\n      <td>4426</td>\n    </tr>\n    <tr>\n      <th>13</th>\n      <td>Norway</td>\n      <td>0619</td>\n    </tr>\n    <tr>\n      <th>14</th>\n      <td>Greece</td>\n      <td>54530-5311</td>\n    </tr>\n    <tr>\n      <th>15</th>\n      <td>Netherlands</td>\n      <td>2281 TD</td>\n    </tr>\n    <tr>\n      <th>16</th>\n      <td>Australia</td>\n      <td>7866</td>\n    </tr>\n    <tr>\n      <th>17</th>\n      <td>Belgium</td>\n      <td>3255</td>\n    </tr>\n    <tr>\n      <th>18</th>\n      <td>Poland</td>\n      <td>22-716</td>\n    </tr>\n    <tr>\n      <th>19</th>\n      <td>Brazil</td>\n      <td>99119-600</td>\n    </tr>\n    <tr>\n      <th>20</th>\n      <td>Canada</td>\n      <td>A2H 1D7</td>\n    </tr>\n    <tr>\n      <th>21</th>\n      <td>Portugal</td>\n      <td>2100-855</td>\n    </tr>\n    <tr>\n      <th>22</th>\n      <td>England</td>\n      <td>NQ55 3EN</td>\n    </tr>\n    <tr>\n      <th>23</th>\n      <td>Romania</td>\n      <td>Ap. 699</td>\n    </tr>\n    <tr>\n      <th>24</th>\n      <td>Ireland</td>\n      <td>52003-5449</td>\n    </tr>\n    <tr>\n      <th>25</th>\n      <td>Russia</td>\n      <td>кв. 346</td>\n    </tr>\n    <tr>\n      <th>26</th>\n      <td>Slovakia</td>\n      <td>47 424</td>\n    </tr>\n    <tr>\n      <th>27</th>\n      <td>Sweden</td>\n      <td>02398</td>\n    </tr>\n    <tr>\n      <th>28</th>\n      <td>Turkey</td>\n      <td>87571</td>\n    </tr>\n    <tr>\n      <th>29</th>\n      <td>Spain</td>\n      <td>56846</td>\n    </tr>\n    <tr>\n      <th>30</th>\n      <td>Ukraine</td>\n      <td>кв. 437</td>\n    </tr>\n    <tr>\n      <th>31</th>\n      <td>Mexico</td>\n      <td>23062</td>\n    </tr>\n    <tr>\n      <th>32</th>\n      <td>Vietnam</td>\n      <td>94717</td>\n    </tr>\n    <tr>\n      <th>33</th>\n      <td>Iran</td>\n      <td>واحد 7</td>\n    </tr>\n    <tr>\n      <th>34</th>\n      <td>China</td>\n      <td>913830</td>\n    </tr>\n    <tr>\n      <th>35</th>\n      <td>France</td>\n      <td>23301</td>\n    </tr>\n    <tr>\n      <th>36</th>\n      <td>Taiwan</td>\n      <td>716960</td>\n    </tr>\n    <tr>\n      <th>37</th>\n      <td>Quebec</td>\n      <td>K9F 2O1</td>\n    </tr>\n    <tr>\n      <th>38</th>\n      <td>Zulu</td>\n      <td>6698</td>\n    </tr>\n  </tbody>\n</table>\n</div>"
     },
     "execution_count": 23,
     "metadata": {},
     "output_type": "execute_result"
    }
   ],
   "source": [
    "accepted_country_codes = {\n",
    "    \"South Africa\": \"af_ZA\",\n",
    "    \"Georgia\": \"ge\",\n",
    "    \"Saudi Arabia\": \"ar\",\n",
    "    \"Indonesia\": \"id_ID\",\n",
    "    \"Azerbaijan\": \"az\",\n",
    "    \"Italy\": \"it\",\n",
    "    \"Czech Republic\": \"cz\",\n",
    "    \"Japan\": \"ja\",\n",
    "    \"Germany\": \"de\",\n",
    "    \"Korea\": \"ko\",\n",
    "    \"Austria\": \"de_AT\",\n",
    "    \"Latvia\": \"lv\",\n",
    "    \"Switzerland\": \"de_CH\",\n",
    "    \"Norway\": \"nb_NO\",\n",
    "    \"Greece\": \"el\",\n",
    "    \"Netherlands\": \"nl\",\n",
    "    \"Australia\": \"en_AU\",\n",
    "    \"Belgium\": \"nl_BE\",\n",
    "    \"Poland\": \"pl\",\n",
    "    \"Brazil\": \"pt_BR\",\n",
    "    \"Canada\": \"en_CA\",\n",
    "    \"Portugal\": \"pt_PT\",\n",
    "    \"England\": \"en_GB\",\n",
    "    \"Romania\": \"ro\",\n",
    "    \"Ireland\": \"en_IE\",\n",
    "    \"Russia\": \"ru\",\n",
    "    \"Slovakia\": \"sk\",\n",
    "    \"Sweden\": \"sv\",\n",
    "    \"Turkey\": \"tr\",\n",
    "    \"Spain\": \"es\",\n",
    "    \"Ukraine\": \"uk\",\n",
    "    \"Mexico\": \"es_MX\",\n",
    "    \"Vietnam\": \"vi\",\n",
    "    \"Iran\": \"fa\",\n",
    "    \"China\": \"zh_CN\",\n",
    "    \"France\": \"fr\",\n",
    "    \"Taiwan\": \"zh_TW\",\n",
    "    \"Quebec\": \"fr_CA\",\n",
    "    \"Zulu\": \"zu_ZA\",\n",
    "}\n",
    "\n",
    "total_data = []\n",
    "for k, v in accepted_country_codes.items():\n",
    "    try:\n",
    "        address = get_data(v, k)\n",
    "        total_data.append(address)\n",
    "    except:\n",
    "        print(k, v)\n",
    "\n",
    "df = pd.DataFrame(total_data)\n",
    "df"
   ],
   "metadata": {
    "collapsed": false,
    "pycharm": {
     "name": "#%%\n"
    }
   }
  },
  {
   "cell_type": "code",
   "execution_count": 35,
   "outputs": [
    {
     "data": {
      "text/plain": "'m. 609'"
     },
     "execution_count": 35,
     "metadata": {},
     "output_type": "execute_result"
    }
   ],
   "source": [
    "df.iloc[4, 1]"
   ],
   "metadata": {
    "collapsed": false,
    "pycharm": {
     "name": "#%%\n"
    }
   }
  },
  {
   "cell_type": "code",
   "execution_count": 48,
   "outputs": [],
   "source": [
    "df.iloc[33, 1] = \"84084-73701\""
   ],
   "metadata": {
    "collapsed": false,
    "pycharm": {
     "name": "#%%\n"
    }
   }
  },
  {
   "cell_type": "code",
   "execution_count": 49,
   "outputs": [
    {
     "data": {
      "text/plain": "           country          zip\n0     South Africa         1267\n1          Georgia         0136\n2     Saudi Arabia        35424\n3        Indonesia        01830\n4       Azerbaijan       AZ7130\n5            Italy        51413\n6   Czech Republic        61400\n7            Japan     740-7693\n8          Germany        64468\n9            Korea      261-586\n10         Austria         3274\n11          Latvia      LV-8472\n12     Switzerland         4426\n13          Norway         0619\n14          Greece   54530-5311\n15     Netherlands      2281 TD\n16       Australia         7866\n17         Belgium         3255\n18          Poland       22-716\n19          Brazil    99119-600\n20          Canada      A2H 1D7\n21        Portugal     2100-855\n22         England     NQ55 3EN\n23         Romania       185989\n24         Ireland   52003-5449\n25          Russia       633761\n26        Slovakia       47 424\n27          Sweden        02398\n28          Turkey        87571\n29           Spain        56846\n30         Ukraine        84342\n31          Mexico        23062\n32         Vietnam        94717\n33            Iran  84084-73701\n34           China       913830\n35          France        23301\n36          Taiwan       716960\n37          Quebec      K9F 2O1\n38            Zulu         6698",
      "text/html": "<div>\n<style scoped>\n    .dataframe tbody tr th:only-of-type {\n        vertical-align: middle;\n    }\n\n    .dataframe tbody tr th {\n        vertical-align: top;\n    }\n\n    .dataframe thead th {\n        text-align: right;\n    }\n</style>\n<table border=\"1\" class=\"dataframe\">\n  <thead>\n    <tr style=\"text-align: right;\">\n      <th></th>\n      <th>country</th>\n      <th>zip</th>\n    </tr>\n  </thead>\n  <tbody>\n    <tr>\n      <th>0</th>\n      <td>South Africa</td>\n      <td>1267</td>\n    </tr>\n    <tr>\n      <th>1</th>\n      <td>Georgia</td>\n      <td>0136</td>\n    </tr>\n    <tr>\n      <th>2</th>\n      <td>Saudi Arabia</td>\n      <td>35424</td>\n    </tr>\n    <tr>\n      <th>3</th>\n      <td>Indonesia</td>\n      <td>01830</td>\n    </tr>\n    <tr>\n      <th>4</th>\n      <td>Azerbaijan</td>\n      <td>AZ7130</td>\n    </tr>\n    <tr>\n      <th>5</th>\n      <td>Italy</td>\n      <td>51413</td>\n    </tr>\n    <tr>\n      <th>6</th>\n      <td>Czech Republic</td>\n      <td>61400</td>\n    </tr>\n    <tr>\n      <th>7</th>\n      <td>Japan</td>\n      <td>740-7693</td>\n    </tr>\n    <tr>\n      <th>8</th>\n      <td>Germany</td>\n      <td>64468</td>\n    </tr>\n    <tr>\n      <th>9</th>\n      <td>Korea</td>\n      <td>261-586</td>\n    </tr>\n    <tr>\n      <th>10</th>\n      <td>Austria</td>\n      <td>3274</td>\n    </tr>\n    <tr>\n      <th>11</th>\n      <td>Latvia</td>\n      <td>LV-8472</td>\n    </tr>\n    <tr>\n      <th>12</th>\n      <td>Switzerland</td>\n      <td>4426</td>\n    </tr>\n    <tr>\n      <th>13</th>\n      <td>Norway</td>\n      <td>0619</td>\n    </tr>\n    <tr>\n      <th>14</th>\n      <td>Greece</td>\n      <td>54530-5311</td>\n    </tr>\n    <tr>\n      <th>15</th>\n      <td>Netherlands</td>\n      <td>2281 TD</td>\n    </tr>\n    <tr>\n      <th>16</th>\n      <td>Australia</td>\n      <td>7866</td>\n    </tr>\n    <tr>\n      <th>17</th>\n      <td>Belgium</td>\n      <td>3255</td>\n    </tr>\n    <tr>\n      <th>18</th>\n      <td>Poland</td>\n      <td>22-716</td>\n    </tr>\n    <tr>\n      <th>19</th>\n      <td>Brazil</td>\n      <td>99119-600</td>\n    </tr>\n    <tr>\n      <th>20</th>\n      <td>Canada</td>\n      <td>A2H 1D7</td>\n    </tr>\n    <tr>\n      <th>21</th>\n      <td>Portugal</td>\n      <td>2100-855</td>\n    </tr>\n    <tr>\n      <th>22</th>\n      <td>England</td>\n      <td>NQ55 3EN</td>\n    </tr>\n    <tr>\n      <th>23</th>\n      <td>Romania</td>\n      <td>185989</td>\n    </tr>\n    <tr>\n      <th>24</th>\n      <td>Ireland</td>\n      <td>52003-5449</td>\n    </tr>\n    <tr>\n      <th>25</th>\n      <td>Russia</td>\n      <td>633761</td>\n    </tr>\n    <tr>\n      <th>26</th>\n      <td>Slovakia</td>\n      <td>47 424</td>\n    </tr>\n    <tr>\n      <th>27</th>\n      <td>Sweden</td>\n      <td>02398</td>\n    </tr>\n    <tr>\n      <th>28</th>\n      <td>Turkey</td>\n      <td>87571</td>\n    </tr>\n    <tr>\n      <th>29</th>\n      <td>Spain</td>\n      <td>56846</td>\n    </tr>\n    <tr>\n      <th>30</th>\n      <td>Ukraine</td>\n      <td>84342</td>\n    </tr>\n    <tr>\n      <th>31</th>\n      <td>Mexico</td>\n      <td>23062</td>\n    </tr>\n    <tr>\n      <th>32</th>\n      <td>Vietnam</td>\n      <td>94717</td>\n    </tr>\n    <tr>\n      <th>33</th>\n      <td>Iran</td>\n      <td>84084-73701</td>\n    </tr>\n    <tr>\n      <th>34</th>\n      <td>China</td>\n      <td>913830</td>\n    </tr>\n    <tr>\n      <th>35</th>\n      <td>France</td>\n      <td>23301</td>\n    </tr>\n    <tr>\n      <th>36</th>\n      <td>Taiwan</td>\n      <td>716960</td>\n    </tr>\n    <tr>\n      <th>37</th>\n      <td>Quebec</td>\n      <td>K9F 2O1</td>\n    </tr>\n    <tr>\n      <th>38</th>\n      <td>Zulu</td>\n      <td>6698</td>\n    </tr>\n  </tbody>\n</table>\n</div>"
     },
     "execution_count": 49,
     "metadata": {},
     "output_type": "execute_result"
    }
   ],
   "source": [
    "df"
   ],
   "metadata": {
    "collapsed": false,
    "pycharm": {
     "name": "#%%\n"
    }
   }
  },
  {
   "cell_type": "code",
   "execution_count": 50,
   "outputs": [],
   "source": [
    "make_db(df)"
   ],
   "metadata": {
    "collapsed": false,
    "pycharm": {
     "name": "#%%\n"
    }
   }
  },
  {
   "cell_type": "code",
   "execution_count": 5,
   "outputs": [
    {
     "data": {
      "text/plain": "           country          zip\n0     South Africa         1267\n1          Georgia         0136\n2     Saudi Arabia        35424\n3        Indonesia        01830\n4       Azerbaijan       AZ7130\n5            Italy        51413\n6   Czech Republic        61400\n7            Japan     740-7693\n8          Germany        64468\n9            Korea      261-586\n10         Austria         3274\n11          Latvia      LV-8472\n12     Switzerland         4426\n13          Norway         0619\n14          Greece   54530-5311\n15     Netherlands      2281 TD\n16       Australia         7866\n17         Belgium         3255\n18          Poland       22-716\n19          Brazil    99119-600\n20          Canada      A2H 1D7\n21        Portugal     2100-855\n22         England     NQ55 3EN\n23         Romania       185989\n24         Ireland   52003-5449\n25          Russia       633761\n26        Slovakia       47 424\n27          Sweden        02398\n28          Turkey        87571\n29           Spain        56846\n30         Ukraine        84342\n31          Mexico        23062\n32         Vietnam        94717\n33            Iran  84084-73701\n34           China       913830\n35          France        23301\n36          Taiwan       716960\n37          Quebec      K9F 2O1\n38            Zulu         6698",
      "text/html": "<div>\n<style scoped>\n    .dataframe tbody tr th:only-of-type {\n        vertical-align: middle;\n    }\n\n    .dataframe tbody tr th {\n        vertical-align: top;\n    }\n\n    .dataframe thead th {\n        text-align: right;\n    }\n</style>\n<table border=\"1\" class=\"dataframe\">\n  <thead>\n    <tr style=\"text-align: right;\">\n      <th></th>\n      <th>country</th>\n      <th>zip</th>\n    </tr>\n  </thead>\n  <tbody>\n    <tr>\n      <th>0</th>\n      <td>South Africa</td>\n      <td>1267</td>\n    </tr>\n    <tr>\n      <th>1</th>\n      <td>Georgia</td>\n      <td>0136</td>\n    </tr>\n    <tr>\n      <th>2</th>\n      <td>Saudi Arabia</td>\n      <td>35424</td>\n    </tr>\n    <tr>\n      <th>3</th>\n      <td>Indonesia</td>\n      <td>01830</td>\n    </tr>\n    <tr>\n      <th>4</th>\n      <td>Azerbaijan</td>\n      <td>AZ7130</td>\n    </tr>\n    <tr>\n      <th>5</th>\n      <td>Italy</td>\n      <td>51413</td>\n    </tr>\n    <tr>\n      <th>6</th>\n      <td>Czech Republic</td>\n      <td>61400</td>\n    </tr>\n    <tr>\n      <th>7</th>\n      <td>Japan</td>\n      <td>740-7693</td>\n    </tr>\n    <tr>\n      <th>8</th>\n      <td>Germany</td>\n      <td>64468</td>\n    </tr>\n    <tr>\n      <th>9</th>\n      <td>Korea</td>\n      <td>261-586</td>\n    </tr>\n    <tr>\n      <th>10</th>\n      <td>Austria</td>\n      <td>3274</td>\n    </tr>\n    <tr>\n      <th>11</th>\n      <td>Latvia</td>\n      <td>LV-8472</td>\n    </tr>\n    <tr>\n      <th>12</th>\n      <td>Switzerland</td>\n      <td>4426</td>\n    </tr>\n    <tr>\n      <th>13</th>\n      <td>Norway</td>\n      <td>0619</td>\n    </tr>\n    <tr>\n      <th>14</th>\n      <td>Greece</td>\n      <td>54530-5311</td>\n    </tr>\n    <tr>\n      <th>15</th>\n      <td>Netherlands</td>\n      <td>2281 TD</td>\n    </tr>\n    <tr>\n      <th>16</th>\n      <td>Australia</td>\n      <td>7866</td>\n    </tr>\n    <tr>\n      <th>17</th>\n      <td>Belgium</td>\n      <td>3255</td>\n    </tr>\n    <tr>\n      <th>18</th>\n      <td>Poland</td>\n      <td>22-716</td>\n    </tr>\n    <tr>\n      <th>19</th>\n      <td>Brazil</td>\n      <td>99119-600</td>\n    </tr>\n    <tr>\n      <th>20</th>\n      <td>Canada</td>\n      <td>A2H 1D7</td>\n    </tr>\n    <tr>\n      <th>21</th>\n      <td>Portugal</td>\n      <td>2100-855</td>\n    </tr>\n    <tr>\n      <th>22</th>\n      <td>England</td>\n      <td>NQ55 3EN</td>\n    </tr>\n    <tr>\n      <th>23</th>\n      <td>Romania</td>\n      <td>185989</td>\n    </tr>\n    <tr>\n      <th>24</th>\n      <td>Ireland</td>\n      <td>52003-5449</td>\n    </tr>\n    <tr>\n      <th>25</th>\n      <td>Russia</td>\n      <td>633761</td>\n    </tr>\n    <tr>\n      <th>26</th>\n      <td>Slovakia</td>\n      <td>47 424</td>\n    </tr>\n    <tr>\n      <th>27</th>\n      <td>Sweden</td>\n      <td>02398</td>\n    </tr>\n    <tr>\n      <th>28</th>\n      <td>Turkey</td>\n      <td>87571</td>\n    </tr>\n    <tr>\n      <th>29</th>\n      <td>Spain</td>\n      <td>56846</td>\n    </tr>\n    <tr>\n      <th>30</th>\n      <td>Ukraine</td>\n      <td>84342</td>\n    </tr>\n    <tr>\n      <th>31</th>\n      <td>Mexico</td>\n      <td>23062</td>\n    </tr>\n    <tr>\n      <th>32</th>\n      <td>Vietnam</td>\n      <td>94717</td>\n    </tr>\n    <tr>\n      <th>33</th>\n      <td>Iran</td>\n      <td>84084-73701</td>\n    </tr>\n    <tr>\n      <th>34</th>\n      <td>China</td>\n      <td>913830</td>\n    </tr>\n    <tr>\n      <th>35</th>\n      <td>France</td>\n      <td>23301</td>\n    </tr>\n    <tr>\n      <th>36</th>\n      <td>Taiwan</td>\n      <td>716960</td>\n    </tr>\n    <tr>\n      <th>37</th>\n      <td>Quebec</td>\n      <td>K9F 2O1</td>\n    </tr>\n    <tr>\n      <th>38</th>\n      <td>Zulu</td>\n      <td>6698</td>\n    </tr>\n  </tbody>\n</table>\n</div>"
     },
     "execution_count": 5,
     "metadata": {},
     "output_type": "execute_result"
    }
   ],
   "source": [
    "import pymongo\n",
    "client = pymongo.MongoClient()\n",
    "db = client[\"Shipments\"]\n",
    "col = db[\"addresses\"]\n",
    "data = col.find_one({})\n",
    "df = pd.DataFrame(data[\"data\"])\n",
    "df"
   ],
   "metadata": {
    "collapsed": false,
    "pycharm": {
     "name": "#%%\n"
    }
   }
  },
  {
   "cell_type": "code",
   "execution_count": 6,
   "outputs": [],
   "source": [
    "df.to_json(\"other_countries_zipcodes.json\")"
   ],
   "metadata": {
    "collapsed": false,
    "pycharm": {
     "name": "#%%\n"
    }
   }
  },
  {
   "cell_type": "code",
   "execution_count": null,
   "outputs": [],
   "source": [],
   "metadata": {
    "collapsed": false,
    "pycharm": {
     "name": "#%%\n"
    }
   }
  }
 ],
 "metadata": {
  "kernelspec": {
   "display_name": "Python 3",
   "language": "python",
   "name": "python3"
  },
  "language_info": {
   "codemirror_mode": {
    "name": "ipython",
    "version": 2
   },
   "file_extension": ".py",
   "mimetype": "text/x-python",
   "name": "python",
   "nbconvert_exporter": "python",
   "pygments_lexer": "ipython2",
   "version": "2.7.6"
  }
 },
 "nbformat": 4,
 "nbformat_minor": 0
}