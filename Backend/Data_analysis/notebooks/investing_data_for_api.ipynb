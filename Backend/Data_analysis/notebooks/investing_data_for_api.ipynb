{
 "cells": [
  {
   "cell_type": "code",
   "execution_count": 128,
   "outputs": [],
   "source": [
    "import pandas as pd\n",
    "import pymongo\n",
    "import datetime as dt"
   ],
   "metadata": {
    "collapsed": false,
    "pycharm": {
     "name": "#%%\n"
    }
   }
  },
  {
   "cell_type": "code",
   "execution_count": 129,
   "outputs": [],
   "source": [
    "client = pymongo.MongoClient('localhost', 27017)\n",
    "time = dt.datetime.now().strftime(\"%Y-%m-%dT%H_%M_%S\")"
   ],
   "metadata": {
    "collapsed": false,
    "pycharm": {
     "name": "#%%\n"
    }
   }
  },
  {
   "cell_type": "code",
   "execution_count": 130,
   "outputs": [],
   "source": [
    "def clean_df(df, machine_name):\n",
    "    df = df.drop([\"network_hashrate\", \"difficulty\", \"reward_block\", \"profit_hourly\", \"profit_daily\", \"profit_monthly\",\n",
    "                  \"hourly_electricity_cost\", \"daily_electricity_cost\", \"monthly_electricity_cost\"], axis=1)\n",
    "    df = df[df[\"type\"] == \"coin\"]\n",
    "    df[\"machine_name\"] = machine_name\n",
    "    first_column = df.pop(\"machine_name\")\n",
    "    df.insert(0, \"machine_name\", first_column)\n",
    "    return df"
   ],
   "metadata": {
    "collapsed": false,
    "pycharm": {
     "name": "#%%\n"
    }
   }
  },
  {
   "cell_type": "code",
   "execution_count": 131,
   "outputs": [],
   "source": [
    "def get_data(col_name):\n",
    "    # Profit data\n",
    "    col = client[\"Asic_machine_profit_full\"][col_name]\n",
    "    docs = col.find({})\n",
    "\n",
    "    total_df = pd.DataFrame()\n",
    "    for doc in docs:\n",
    "        if len(doc[\"data\"]) != 0:\n",
    "            df = pd.DataFrame(doc[\"data\"])\n",
    "            machine_name = doc[\"machine_name\"]\n",
    "            df = clean_df(df, machine_name)\n",
    "            total_df = pd.concat([total_df, df])\n",
    "    return total_df"
   ],
   "metadata": {
    "collapsed": false,
    "pycharm": {
     "name": "#%%\n"
    }
   }
  },
  {
   "cell_type": "code",
   "execution_count": 132,
   "outputs": [],
   "source": [
    "def save_to_mongo(df, country):\n",
    "    col = client[\"API_data\"][\"invest_profit\"]\n",
    "    result = col.find({\"country/state\": country})\n",
    "    if not list(result):\n",
    "        col.insert_one({\"time\": time, \"country/state\": country, \"data\": df.to_dict(orient=\"records\")})\n",
    "    else:\n",
    "        new_data = {\"$set\": {\"time\": time, \"data\": df.to_dict(orient=\"records\")}}\n",
    "        col.update_one({\"country/state\": country}, new_data)"
   ],
   "metadata": {
    "collapsed": false,
    "pycharm": {
     "name": "#%%\n"
    }
   }
  },
  {
   "cell_type": "code",
   "execution_count": 133,
   "outputs": [],
   "source": [
    "def main():\n",
    "    for col in client[\"Asic_machine_profit_full\"].list_collection_names():\n",
    "        df = get_data(col)\n",
    "\n",
    "        df[\"final_profit_hourly\"] = df[\"final_profit_hourly\"].apply(lambda x: float(x.replace(\",\", \".\")))\n",
    "        df[\"final_profit_daily\"] = df[\"final_profit_daily\"].apply(lambda x: float(x.replace(\",\", \".\")))\n",
    "        df[\"final_profit_monthly\"] = df[\"final_profit_monthly\"].apply(lambda x: float(x.replace(\",\", \".\")))\n",
    "        df[\"total_profit\"] = df[\"total_profit\"].apply(lambda x: float(x.replace(\",\", \".\")))\n",
    "        df[\"profit_after_ROI\"] = df[\"profit_after_ROI\"].apply(lambda x: float(x.replace(\",\", \".\")))\n",
    "\n",
    "        df[\"final_profit_hourly\"] = df[\"final_profit_hourly\"].round(2)\n",
    "        df[\"final_profit_daily\"] = df[\"final_profit_daily\"].round(2)\n",
    "        df[\"final_profit_monthly\"] = df[\"final_profit_monthly\"].round(2)\n",
    "        df[\"total_profit\"] = df[\"total_profit\"].round(2)\n",
    "        df[\"profit_after_ROI\"] = df[\"profit_after_ROI\"].round(2)\n",
    "\n",
    "        df[\"ROI_days\"] = df[\"ROI_days\"].apply(lambda x: \"never\" if x == \"0\" else x)\n",
    "\n",
    "\n",
    "        df = df.reset_index()\n",
    "        df = df.drop([\"index\"], axis=1)\n",
    "        df = df.applymap(str)\n",
    "        save_to_mongo(df, col)"
   ],
   "metadata": {
    "collapsed": false,
    "pycharm": {
     "name": "#%%\n"
    }
   }
  },
  {
   "cell_type": "code",
   "execution_count": 134,
   "outputs": [],
   "source": [
    "main()"
   ],
   "metadata": {
    "collapsed": false,
    "pycharm": {
     "name": "#%%\n"
    }
   }
  }
 ],
 "metadata": {
  "kernelspec": {
   "display_name": "Python 3",
   "language": "python",
   "name": "python3"
  },
  "language_info": {
   "codemirror_mode": {
    "name": "ipython",
    "version": 2
   },
   "file_extension": ".py",
   "mimetype": "text/x-python",
   "name": "python",
   "nbconvert_exporter": "python",
   "pygments_lexer": "ipython2",
   "version": "2.7.6"
  }
 },
 "nbformat": 4,
 "nbformat_minor": 0
}