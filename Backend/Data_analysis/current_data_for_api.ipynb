{
 "cells": [
  {
   "cell_type": "code",
   "execution_count": 102,
   "metadata": {
    "collapsed": true
   },
   "outputs": [],
   "source": [
    "import pandas as pd\n",
    "import pymongo\n",
    "import datetime as dt\n",
    "\n",
    "client = pymongo.MongoClient()\n",
    "time = dt.datetime.now().strftime(\"%Y-%m-%dT%H_%M_%S\")"
   ]
  },
  {
   "cell_type": "code",
   "execution_count": 103,
   "outputs": [],
   "source": [
    "def get_data(col_name):\n",
    "    # Profit data\n",
    "    col = client[\"Asic_machine_profit\"][col_name]\n",
    "    docs = col.find({})\n",
    "\n",
    "    total_df = pd.DataFrame()\n",
    "    for doc in docs:\n",
    "        if len(doc[\"data\"]) != 0:\n",
    "            df = pd.DataFrame(doc[\"data\"])\n",
    "            machine_name = doc[\"machine_name\"]\n",
    "            df = clean_df(df, machine_name)\n",
    "            total_df = pd.concat([total_df, df])\n",
    "    return total_df"
   ],
   "metadata": {
    "collapsed": false,
    "pycharm": {
     "name": "#%%\n"
    }
   }
  },
  {
   "cell_type": "code",
   "execution_count": 104,
   "outputs": [],
   "source": [
    "def clean_df(df, machine_name):\n",
    "    df = df.drop([\"network_hashrate\", \"difficulty\", \"reward_block\", \"profit_hourly\", \"profit_daily\", \"profit_monthly\",\n",
    "                  \"hourly_electricity_cost\", \"daily_electricity_cost\", \"monthly_electricity_cost\"], axis=1)\n",
    "    df = df[df[\"type\"] == \"coin\"]\n",
    "    df[\"machine_name\"] = machine_name\n",
    "    first_column = df.pop(\"machine_name\")\n",
    "    df.insert(0, \"machine_name\", first_column)\n",
    "    return df"
   ],
   "metadata": {
    "collapsed": false,
    "pycharm": {
     "name": "#%%\n"
    }
   }
  },
  {
   "cell_type": "code",
   "execution_count": 105,
   "outputs": [],
   "source": [
    "def round_data(df):\n",
    "    df[\"final_profit_hourly\"] = df[\"final_profit_hourly\"].apply(lambda x: round(x, 2))\n",
    "    df[\"final_profit_daily\"] = df[\"final_profit_daily\"].apply(lambda x: round(x, 2))\n",
    "    df[\"final_profit_monthly\"] = df[\"final_profit_monthly\"].apply(lambda x: round(x, 2))\n",
    "    return df"
   ],
   "metadata": {
    "collapsed": false,
    "pycharm": {
     "name": "#%%\n"
    }
   }
  },
  {
   "cell_type": "code",
   "execution_count": 106,
   "outputs": [],
   "source": [
    "def save_to_mongo(df, country):\n",
    "    col = client[\"API_data\"][\"current_profit\"]\n",
    "    result = col.find({\"country/state\": country})\n",
    "    col.insert_one({\"time\": time, \"country/state\": country, \"data\": df.to_dict(orient=\"index\")})\n",
    "    if not list(result):\n",
    "        col.insert_one({\"time\": time, \"country/state\": country, \"data\": df.to_dict(orient=\"index\")})\n",
    "    else:\n",
    "        new_data = {\"$set\": {\"time\": time, \"data\": df.to_dict(orient=\"index\")}}\n",
    "        col.update_one({\"country/state\": country}, new_data)"
   ],
   "metadata": {
    "collapsed": false,
    "pycharm": {
     "name": "#%%\n"
    }
   }
  },
  {
   "cell_type": "code",
   "execution_count": 107,
   "outputs": [],
   "source": [
    "def main(country, coin=None, pool=None, algorithm=None,\n",
    "         machine_name= None):\n",
    "    all_data_df = pd.DataFrame()\n",
    "\n",
    "    # Check country\n",
    "    if country is None:\n",
    "        for col in client[\"Asic_machine_profit\"].list_collection_names():\n",
    "            all_data_df = pd.concat([all_data_df, get_data(col)])\n",
    "    else:\n",
    "        all_data_df = get_data(country)\n",
    "        \"\"\"for country in countries:\n",
    "            all_data_df = pd.concat([all_data_df, get_data(country)])\"\"\"\n",
    "\n",
    "    # Check coin type\n",
    "    if coin is not None:\n",
    "        all_data_df = all_data_df[all_data_df[\"coin\"] == coin.upper()]\n",
    "        \"\"\"for coin in coins:\n",
    "            all_data_df = all_data_df[all_data_df[\"coin\"] == coin.upper()]\"\"\"\n",
    "\n",
    "    # Check pools\n",
    "    # Passing pools for now\n",
    "\n",
    "    # Check algo\n",
    "    if algorithm is not None:\n",
    "        all_data_df = all_data_df[all_data_df[\"algorithm\"] == algorithm.lower()]\n",
    "        \"\"\"for algo in algorithms:\n",
    "            all_data_df = all_data_df[all_data_df[\"algorithm\"] == algo.lower()]\"\"\"\n",
    "\n",
    "    # Check machine names\n",
    "    if machine_name is not None:\n",
    "        all_data_df = all_data_df[all_data_df[\"coin\"] == machine_name]\n",
    "        \"\"\"for machine in machine_names:\n",
    "            all_data_df = all_data_df[all_data_df[\"coin\"] == machine]\"\"\"\n",
    "\n",
    "    # return all_data_df\n",
    "    all_data_df.sort_values(\"final_profit_monthly\", ascending=False, inplace=True)\n",
    "    all_data_df[\"index\"] = [str(x) for x in range(all_data_df.shape[0])]\n",
    "    all_data_df = all_data_df.set_index(\"index\")\n",
    "\n",
    "    # Round numbers for api\n",
    "    all_data_df = round_data(all_data_df)\n",
    "    # save to mongo\n",
    "    save_to_mongo(all_data_df, country)"
   ],
   "metadata": {
    "collapsed": false,
    "pycharm": {
     "name": "#%%\n"
    }
   }
  },
  {
   "cell_type": "code",
   "execution_count": 108,
   "outputs": [],
   "source": [
    "for country in client[\"Asic_machine_profit\"].list_collection_names():\n",
    "    main(country)"
   ],
   "metadata": {
    "collapsed": false,
    "pycharm": {
     "name": "#%%\n"
    }
   }
  },
  {
   "cell_type": "code",
   "execution_count": 108,
   "outputs": [],
   "source": [],
   "metadata": {
    "collapsed": false,
    "pycharm": {
     "name": "#%%\n"
    }
   }
  }
 ],
 "metadata": {
  "kernelspec": {
   "display_name": "Python 3",
   "language": "python",
   "name": "python3"
  },
  "language_info": {
   "codemirror_mode": {
    "name": "ipython",
    "version": 2
   },
   "file_extension": ".py",
   "mimetype": "text/x-python",
   "name": "python",
   "nbconvert_exporter": "python",
   "pygments_lexer": "ipython2",
   "version": "2.7.6"
  }
 },
 "nbformat": 4,
 "nbformat_minor": 0
}