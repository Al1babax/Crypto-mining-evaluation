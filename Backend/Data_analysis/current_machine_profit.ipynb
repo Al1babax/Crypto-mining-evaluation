{
 "cells": [
  {
   "cell_type": "code",
   "execution_count": 1,
   "metadata": {
    "collapsed": true
   },
   "outputs": [
    {
     "name": "stderr",
     "output_type": "stream",
     "text": [
      "C:\\Users\\Alibaba\\AppData\\Local\\Programs\\Python\\Python39\\lib\\site-packages\\requests\\__init__.py:102: RequestsDependencyWarning: urllib3 (1.26.9) or chardet (5.0.0)/charset_normalizer (2.0.12) doesn't match a supported version!\n",
      "  warnings.warn(\"urllib3 ({}) or chardet ({})/charset_normalizer ({}) doesn't match a supported \"\n"
     ]
    }
   ],
   "source": [
    "import pandas as pd\n",
    "import pymongo\n",
    "import utility.currency_conversion_rate as ccr\n",
    "import datetime as dt"
   ]
  },
  {
   "cell_type": "markdown",
   "source": [
    "# Things to note in calculating current profit\n",
    "- Expenses\n",
    "-- Machine price\n",
    "-- Shipment cost\n",
    "-- Taxes\n",
    "-- Electricity price\n",
    "-----------------------------------\n",
    "- Revenue\n",
    "-- Profit per mining power per hour"
   ],
   "metadata": {
    "collapsed": false
   }
  },
  {
   "cell_type": "markdown",
   "source": [
    "### Getting all the variables"
   ],
   "metadata": {
    "collapsed": false
   }
  },
  {
   "cell_type": "code",
   "execution_count": null,
   "outputs": [],
   "source": [
    "client = pymongo.MongoClient()\n",
    "pd.set_option(\"mode.chained_assignment\", None)"
   ],
   "metadata": {
    "collapsed": false,
    "pycharm": {
     "name": "#%%\n"
    }
   }
  },
  {
   "cell_type": "code",
   "execution_count": 10,
   "outputs": [],
   "source": [
    "def get_coin_data():\n",
    "    # Coin database\n",
    "    col = client[\"Coin-Data\"][\"Current_coin\"]\n",
    "    sort=list({'_id': -1}.items())\n",
    "    result = col.find(sort=sort,limit=1)\n",
    "\n",
    "    coin_df = pd.DataFrame(result[0][\"data\"])\n",
    "    return coin_df"
   ],
   "metadata": {
    "collapsed": false,
    "pycharm": {
     "name": "#%%\n"
    }
   }
  },
  {
   "cell_type": "code",
   "execution_count": null,
   "outputs": [],
   "source": [
    "def make_country_list():\n",
    "    with open(\"resources/us_states.txt\") as r:\n",
    "        data = r.readlines()\n",
    "        data = list(map(lambda x: x[:-1], data))\n",
    "        data.append(\"Finland\")\n",
    "        return data"
   ],
   "metadata": {
    "collapsed": false,
    "pycharm": {
     "name": "#%%\n"
    }
   }
  },
  {
   "cell_type": "code",
   "execution_count": 11,
   "outputs": [],
   "source": [
    "def get_machines_data():\n",
    "    # Machine database\n",
    "    col = client[\"Crypto-mining\"][\"ASICS-PoW-final\"]\n",
    "    sort=list({'_id': -1}.items())\n",
    "    result = col.find(sort=sort,limit=1)\n",
    "\n",
    "    machine_df = pd.DataFrame(result[0][\"data\"])\n",
    "    return machine_df"
   ],
   "metadata": {
    "collapsed": false,
    "pycharm": {
     "name": "#%%\n"
    }
   }
  },
  {
   "cell_type": "code",
   "execution_count": 12,
   "outputs": [],
   "source": [
    "def currency_conversion_rate():\n",
    "    rates = ccr.get_currency_ratio()\n",
    "    return rates[\"us(dollar)\"]"
   ],
   "metadata": {
    "collapsed": false,
    "pycharm": {
     "name": "#%%\n"
    }
   }
  },
  {
   "cell_type": "code",
   "execution_count": 13,
   "outputs": [],
   "source": [
    "def get_electricity_data(country):\n",
    "    \"\"\"\n",
    "    Takes country and returns dollar/kWh\n",
    "    For example takes \"Finland\" and returns 0.15 dollar/kWh\n",
    "    :param country:\n",
    "    :return:\n",
    "    \"\"\"\n",
    "    # Electricity database\n",
    "    if country == \"Finland\":\n",
    "        col = client[\"Electricity\"][\"Finland\"]\n",
    "        sort=list({'_id': -1}.items())\n",
    "        result = col.find(sort=sort,limit=1)\n",
    "\n",
    "        electricity_df = pd.DataFrame(result[0][\"data\"])\n",
    "        return (electricity_df.iloc[0, 4] / 100)  * currency_conversion_rate()\n",
    "\n",
    "    col = client[\"Electricity\"][\"USA\"]\n",
    "    sort=list({'_id': -1}.items())\n",
    "    result = col.find(sort=sort,limit=1)\n",
    "\n",
    "    electricity_df = pd.DataFrame(result[0][\"data\"])\n",
    "    electricity_df = electricity_df[electricity_df[\"state\"] == country]\n",
    "    if len(electricity_df) == 1:\n",
    "        return float((electricity_df.iloc[0, 2])) / 100"
   ],
   "metadata": {
    "collapsed": false,
    "pycharm": {
     "name": "#%%\n"
    }
   }
  },
  {
   "cell_type": "code",
   "execution_count": 23,
   "outputs": [],
   "source": [
    "def dataframe_for_algo(algo, country):\n",
    "    # Get all the databases needed for profit calculation without shipping/taxes\n",
    "    coin_df = get_coin_data()\n",
    "\n",
    "    # Modify dataframes\n",
    "    coin_df[\"algorithm\"] = coin_df[\"algorithm\"].apply(lambda x: x.lower())\n",
    "\n",
    "    # Make variables\n",
    "    algo_name = algo[\"Algorithm_name\"].lower()\n",
    "    algo_hashrate = algo[\"hashrate(H/second) \"]\n",
    "    algo_power_consumption = algo[\"power_consumption(W)\"]\n",
    "    algo_df = coin_df[coin_df[\"algorithm\"] == algo_name]\n",
    "\n",
    "    temp_df = algo_df\n",
    "\n",
    "    # Raw profit for this algo\n",
    "    # Make profit columns\n",
    "    temp_df[\"profit_hourly\"] = algo_hashrate * temp_df[\"profit/hash/hour\"]\n",
    "    temp_df[\"profit_daily\"] = algo_hashrate * temp_df[\"profit/hash/hour\"] * 24\n",
    "    temp_df[\"profit_monthly\"] = algo_hashrate * temp_df[\"profit/hash/hour\"] * 24 * 30\n",
    "    temp_df = temp_df[[\"coin\", \"name\", \"type\", \"algorithm\", \"network_hashrate\", \"difficulty\", \"reward_block\", \"reward_unit\", \"profit_hourly\", \"profit_daily\", \"profit_monthly\"]]\n",
    "\n",
    "    # Make electricity cost columns\n",
    "    hourly_electricity_cost = algo_power_consumption * get_electricity_data(country)\n",
    "    daily_electricity_cost = hourly_electricity_cost * 24\n",
    "    monthly_electricity_cost = daily_electricity_cost * 30\n",
    "    temp_df[\"hourly_electricity_cost\"] = hourly_electricity_cost\n",
    "    temp_df[\"daily_electricity_cost\"] = daily_electricity_cost\n",
    "    temp_df[\"monthly_electricity_cost\"] = monthly_electricity_cost\n",
    "\n",
    "    # Final profit columns\n",
    "    temp_df[\"final_profit_hourly\"] = temp_df[\"profit_hourly\"] - temp_df[\"hourly_electricity_cost\"]\n",
    "    temp_df[\"final_profit_daily\"] = temp_df[\"profit_daily\"] - temp_df[\"daily_electricity_cost\"]\n",
    "    temp_df[\"final_profit_monthly\"] = temp_df[\"profit_monthly\"] - temp_df[\"monthly_electricity_cost\"]\n",
    "\n",
    "    return temp_df"
   ],
   "metadata": {
    "collapsed": false,
    "pycharm": {
     "name": "#%%\n"
    }
   }
  },
  {
   "cell_type": "code",
   "execution_count": 24,
   "outputs": [],
   "source": [
    "def main(country=\"Finland\"):\n",
    "    # Get all the databases needed for profit calculation without shipping/taxes\n",
    "    machine_df = get_machines_data()\n",
    "    time = dt.datetime.now().strftime(\"%Y-%m-%dT%H_%M_%S\")\n",
    "\n",
    "    # Loop through each machine on the list and create dataframe for each algorithm for each machine with profit information\n",
    "    for x in range(machine_df.shape[0]):\n",
    "        name = f'{machine_df[\"Manufacturer\"].iloc[x]}_{machine_df[\"Model\"].iloc[x]}'\n",
    "        size_cubic_inch = (machine_df[\"Size(mm)\"].iloc[x][\"x\"] * machine_df[\"Size(mm)\"].iloc[x][\"y\"] * machine_df[\"Size(mm)\"].iloc[x][\"z\"]) / 16390\n",
    "        weight = machine_df[\"Weight(g)\"].iloc[x] / 453.6\n",
    "        algorithms = machine_df[\"Algorithm_and_power\"].iloc[x]\n",
    "\n",
    "        total_df = pd.DataFrame()\n",
    "        # Loop through each algorithm found for machine and create dataframes\n",
    "        for algo in algorithms:\n",
    "            temp_df = dataframe_for_algo(algo, country)\n",
    "            total_df = pd.concat([total_df, temp_df])\n",
    "\n",
    "        # Save dataframe to database under country and coin name\n",
    "        col = client[\"Asic_machine_profit\"][country]\n",
    "        col.insert_one({\"time\": time, \"machine_name\":name, \"data\":total_df.to_dict(orient=\"records\")})"
   ],
   "metadata": {
    "collapsed": false,
    "pycharm": {
     "name": "#%%\n"
    }
   }
  },
  {
   "cell_type": "code",
   "execution_count": 25,
   "outputs": [
    {
     "name": "stdout",
     "output_type": "stream",
     "text": [
      "dict_keys(['Algorithm_name', 'hashrate(H/second) ', 'power_consumption(W)'])\n",
      "Index(['id', 'coin', 'name', 'type', 'algorithm', 'network_hashrate',\n",
      "       'difficulty', 'reward', 'reward_unit', 'reward_block', 'price',\n",
      "       'volume', 'updated', 'profit/hash/hour'],\n",
      "      dtype='object')\n"
     ]
    },
    {
     "ename": "KeyError",
     "evalue": "'Algorithm_name'",
     "output_type": "error",
     "traceback": [
      "\u001B[1;31m---------------------------------------------------------------------------\u001B[0m",
      "\u001B[1;31mKeyError\u001B[0m                                  Traceback (most recent call last)",
      "\u001B[1;32m~\\AppData\\Local\\Programs\\Python\\Python39\\lib\\site-packages\\pandas\\core\\indexes\\base.py\u001B[0m in \u001B[0;36mget_loc\u001B[1;34m(self, key, method, tolerance)\u001B[0m\n\u001B[0;32m   3360\u001B[0m             \u001B[1;32mtry\u001B[0m\u001B[1;33m:\u001B[0m\u001B[1;33m\u001B[0m\u001B[1;33m\u001B[0m\u001B[0m\n\u001B[1;32m-> 3361\u001B[1;33m                 \u001B[1;32mreturn\u001B[0m \u001B[0mself\u001B[0m\u001B[1;33m.\u001B[0m\u001B[0m_engine\u001B[0m\u001B[1;33m.\u001B[0m\u001B[0mget_loc\u001B[0m\u001B[1;33m(\u001B[0m\u001B[0mcasted_key\u001B[0m\u001B[1;33m)\u001B[0m\u001B[1;33m\u001B[0m\u001B[1;33m\u001B[0m\u001B[0m\n\u001B[0m\u001B[0;32m   3362\u001B[0m             \u001B[1;32mexcept\u001B[0m \u001B[0mKeyError\u001B[0m \u001B[1;32mas\u001B[0m \u001B[0merr\u001B[0m\u001B[1;33m:\u001B[0m\u001B[1;33m\u001B[0m\u001B[1;33m\u001B[0m\u001B[0m\n",
      "\u001B[1;32m~\\AppData\\Local\\Programs\\Python\\Python39\\lib\\site-packages\\pandas\\_libs\\index.pyx\u001B[0m in \u001B[0;36mpandas._libs.index.IndexEngine.get_loc\u001B[1;34m()\u001B[0m\n",
      "\u001B[1;32m~\\AppData\\Local\\Programs\\Python\\Python39\\lib\\site-packages\\pandas\\_libs\\index.pyx\u001B[0m in \u001B[0;36mpandas._libs.index.IndexEngine.get_loc\u001B[1;34m()\u001B[0m\n",
      "\u001B[1;32mpandas\\_libs\\hashtable_class_helper.pxi\u001B[0m in \u001B[0;36mpandas._libs.hashtable.PyObjectHashTable.get_item\u001B[1;34m()\u001B[0m\n",
      "\u001B[1;32mpandas\\_libs\\hashtable_class_helper.pxi\u001B[0m in \u001B[0;36mpandas._libs.hashtable.PyObjectHashTable.get_item\u001B[1;34m()\u001B[0m\n",
      "\u001B[1;31mKeyError\u001B[0m: 'Algorithm_name'",
      "\nThe above exception was the direct cause of the following exception:\n",
      "\u001B[1;31mKeyError\u001B[0m                                  Traceback (most recent call last)",
      "\u001B[1;32m~\\AppData\\Local\\Temp/ipykernel_9816/1759737772.py\u001B[0m in \u001B[0;36m<module>\u001B[1;34m\u001B[0m\n\u001B[1;32m----> 1\u001B[1;33m \u001B[0mmain\u001B[0m\u001B[1;33m(\u001B[0m\u001B[1;33m)\u001B[0m\u001B[1;33m\u001B[0m\u001B[1;33m\u001B[0m\u001B[0m\n\u001B[0m",
      "\u001B[1;32m~\\AppData\\Local\\Temp/ipykernel_9816/3544310065.py\u001B[0m in \u001B[0;36mmain\u001B[1;34m(country)\u001B[0m\n\u001B[0;32m     14\u001B[0m         \u001B[1;31m# Loop through each algorithm found for machine and create dataframes\u001B[0m\u001B[1;33m\u001B[0m\u001B[1;33m\u001B[0m\u001B[0m\n\u001B[0;32m     15\u001B[0m         \u001B[1;32mfor\u001B[0m \u001B[0malgo\u001B[0m \u001B[1;32min\u001B[0m \u001B[0malgorithms\u001B[0m\u001B[1;33m:\u001B[0m\u001B[1;33m\u001B[0m\u001B[1;33m\u001B[0m\u001B[0m\n\u001B[1;32m---> 16\u001B[1;33m             \u001B[0mtemp_df\u001B[0m \u001B[1;33m=\u001B[0m \u001B[0mdataframe_for_algo\u001B[0m\u001B[1;33m(\u001B[0m\u001B[0malgo\u001B[0m\u001B[1;33m,\u001B[0m \u001B[0mcountry\u001B[0m\u001B[1;33m)\u001B[0m\u001B[1;33m\u001B[0m\u001B[1;33m\u001B[0m\u001B[0m\n\u001B[0m\u001B[0;32m     17\u001B[0m             \u001B[0mtotal_df\u001B[0m \u001B[1;33m=\u001B[0m \u001B[0mpd\u001B[0m\u001B[1;33m.\u001B[0m\u001B[0mconcat\u001B[0m\u001B[1;33m(\u001B[0m\u001B[1;33m[\u001B[0m\u001B[0mtotal_df\u001B[0m\u001B[1;33m,\u001B[0m \u001B[0mtemp_df\u001B[0m\u001B[1;33m]\u001B[0m\u001B[1;33m)\u001B[0m\u001B[1;33m\u001B[0m\u001B[1;33m\u001B[0m\u001B[0m\n\u001B[0;32m     18\u001B[0m \u001B[1;33m\u001B[0m\u001B[0m\n",
      "\u001B[1;32m~\\AppData\\Local\\Temp/ipykernel_9816/2672133376.py\u001B[0m in \u001B[0;36mdataframe_for_algo\u001B[1;34m(algo, country)\u001B[0m\n\u001B[0;32m     12\u001B[0m     \u001B[0malgo_power_consumption\u001B[0m \u001B[1;33m=\u001B[0m \u001B[0malgo\u001B[0m\u001B[1;33m[\u001B[0m\u001B[1;34m\"power_consumption(W)\"\u001B[0m\u001B[1;33m]\u001B[0m\u001B[1;33m\u001B[0m\u001B[1;33m\u001B[0m\u001B[0m\n\u001B[0;32m     13\u001B[0m     \u001B[0malgo_df\u001B[0m \u001B[1;33m=\u001B[0m \u001B[0mcoin_df\u001B[0m\u001B[1;33m[\u001B[0m\u001B[0mcoin_df\u001B[0m\u001B[1;33m[\u001B[0m\u001B[1;34m\"algorithm\"\u001B[0m\u001B[1;33m]\u001B[0m \u001B[1;33m==\u001B[0m \u001B[0malgo_name\u001B[0m\u001B[1;33m]\u001B[0m\u001B[1;33m\u001B[0m\u001B[1;33m\u001B[0m\u001B[0m\n\u001B[1;32m---> 14\u001B[1;33m     \u001B[0mtemp_df\u001B[0m \u001B[1;33m=\u001B[0m \u001B[0mdataframe_for_algo\u001B[0m\u001B[1;33m(\u001B[0m\u001B[0malgo_df\u001B[0m\u001B[1;33m,\u001B[0m \u001B[0mcountry\u001B[0m\u001B[1;33m)\u001B[0m\u001B[1;33m\u001B[0m\u001B[1;33m\u001B[0m\u001B[0m\n\u001B[0m\u001B[0;32m     15\u001B[0m \u001B[1;33m\u001B[0m\u001B[0m\n\u001B[0;32m     16\u001B[0m     \u001B[1;31m# Raw profit for this algo\u001B[0m\u001B[1;33m\u001B[0m\u001B[1;33m\u001B[0m\u001B[0m\n",
      "\u001B[1;32m~\\AppData\\Local\\Temp/ipykernel_9816/2672133376.py\u001B[0m in \u001B[0;36mdataframe_for_algo\u001B[1;34m(algo, country)\u001B[0m\n\u001B[0;32m      8\u001B[0m     \u001B[1;31m# Make variables\u001B[0m\u001B[1;33m\u001B[0m\u001B[1;33m\u001B[0m\u001B[0m\n\u001B[0;32m      9\u001B[0m     \u001B[0mprint\u001B[0m\u001B[1;33m(\u001B[0m\u001B[0malgo\u001B[0m\u001B[1;33m.\u001B[0m\u001B[0mkeys\u001B[0m\u001B[1;33m(\u001B[0m\u001B[1;33m)\u001B[0m\u001B[1;33m)\u001B[0m\u001B[1;33m\u001B[0m\u001B[1;33m\u001B[0m\u001B[0m\n\u001B[1;32m---> 10\u001B[1;33m     \u001B[0malgo_name\u001B[0m \u001B[1;33m=\u001B[0m \u001B[0malgo\u001B[0m\u001B[1;33m[\u001B[0m\u001B[1;34m\"Algorithm_name\"\u001B[0m\u001B[1;33m]\u001B[0m\u001B[1;33m.\u001B[0m\u001B[0mlower\u001B[0m\u001B[1;33m(\u001B[0m\u001B[1;33m)\u001B[0m\u001B[1;33m\u001B[0m\u001B[1;33m\u001B[0m\u001B[0m\n\u001B[0m\u001B[0;32m     11\u001B[0m     \u001B[0malgo_hashrate\u001B[0m \u001B[1;33m=\u001B[0m \u001B[0malgo\u001B[0m\u001B[1;33m[\u001B[0m\u001B[1;34m\"hashrate(H/second) \"\u001B[0m\u001B[1;33m]\u001B[0m\u001B[1;33m\u001B[0m\u001B[1;33m\u001B[0m\u001B[0m\n\u001B[0;32m     12\u001B[0m     \u001B[0malgo_power_consumption\u001B[0m \u001B[1;33m=\u001B[0m \u001B[0malgo\u001B[0m\u001B[1;33m[\u001B[0m\u001B[1;34m\"power_consumption(W)\"\u001B[0m\u001B[1;33m]\u001B[0m\u001B[1;33m\u001B[0m\u001B[1;33m\u001B[0m\u001B[0m\n",
      "\u001B[1;32m~\\AppData\\Local\\Programs\\Python\\Python39\\lib\\site-packages\\pandas\\core\\frame.py\u001B[0m in \u001B[0;36m__getitem__\u001B[1;34m(self, key)\u001B[0m\n\u001B[0;32m   3456\u001B[0m             \u001B[1;32mif\u001B[0m \u001B[0mself\u001B[0m\u001B[1;33m.\u001B[0m\u001B[0mcolumns\u001B[0m\u001B[1;33m.\u001B[0m\u001B[0mnlevels\u001B[0m \u001B[1;33m>\u001B[0m \u001B[1;36m1\u001B[0m\u001B[1;33m:\u001B[0m\u001B[1;33m\u001B[0m\u001B[1;33m\u001B[0m\u001B[0m\n\u001B[0;32m   3457\u001B[0m                 \u001B[1;32mreturn\u001B[0m \u001B[0mself\u001B[0m\u001B[1;33m.\u001B[0m\u001B[0m_getitem_multilevel\u001B[0m\u001B[1;33m(\u001B[0m\u001B[0mkey\u001B[0m\u001B[1;33m)\u001B[0m\u001B[1;33m\u001B[0m\u001B[1;33m\u001B[0m\u001B[0m\n\u001B[1;32m-> 3458\u001B[1;33m             \u001B[0mindexer\u001B[0m \u001B[1;33m=\u001B[0m \u001B[0mself\u001B[0m\u001B[1;33m.\u001B[0m\u001B[0mcolumns\u001B[0m\u001B[1;33m.\u001B[0m\u001B[0mget_loc\u001B[0m\u001B[1;33m(\u001B[0m\u001B[0mkey\u001B[0m\u001B[1;33m)\u001B[0m\u001B[1;33m\u001B[0m\u001B[1;33m\u001B[0m\u001B[0m\n\u001B[0m\u001B[0;32m   3459\u001B[0m             \u001B[1;32mif\u001B[0m \u001B[0mis_integer\u001B[0m\u001B[1;33m(\u001B[0m\u001B[0mindexer\u001B[0m\u001B[1;33m)\u001B[0m\u001B[1;33m:\u001B[0m\u001B[1;33m\u001B[0m\u001B[1;33m\u001B[0m\u001B[0m\n\u001B[0;32m   3460\u001B[0m                 \u001B[0mindexer\u001B[0m \u001B[1;33m=\u001B[0m \u001B[1;33m[\u001B[0m\u001B[0mindexer\u001B[0m\u001B[1;33m]\u001B[0m\u001B[1;33m\u001B[0m\u001B[1;33m\u001B[0m\u001B[0m\n",
      "\u001B[1;32m~\\AppData\\Local\\Programs\\Python\\Python39\\lib\\site-packages\\pandas\\core\\indexes\\base.py\u001B[0m in \u001B[0;36mget_loc\u001B[1;34m(self, key, method, tolerance)\u001B[0m\n\u001B[0;32m   3361\u001B[0m                 \u001B[1;32mreturn\u001B[0m \u001B[0mself\u001B[0m\u001B[1;33m.\u001B[0m\u001B[0m_engine\u001B[0m\u001B[1;33m.\u001B[0m\u001B[0mget_loc\u001B[0m\u001B[1;33m(\u001B[0m\u001B[0mcasted_key\u001B[0m\u001B[1;33m)\u001B[0m\u001B[1;33m\u001B[0m\u001B[1;33m\u001B[0m\u001B[0m\n\u001B[0;32m   3362\u001B[0m             \u001B[1;32mexcept\u001B[0m \u001B[0mKeyError\u001B[0m \u001B[1;32mas\u001B[0m \u001B[0merr\u001B[0m\u001B[1;33m:\u001B[0m\u001B[1;33m\u001B[0m\u001B[1;33m\u001B[0m\u001B[0m\n\u001B[1;32m-> 3363\u001B[1;33m                 \u001B[1;32mraise\u001B[0m \u001B[0mKeyError\u001B[0m\u001B[1;33m(\u001B[0m\u001B[0mkey\u001B[0m\u001B[1;33m)\u001B[0m \u001B[1;32mfrom\u001B[0m \u001B[0merr\u001B[0m\u001B[1;33m\u001B[0m\u001B[1;33m\u001B[0m\u001B[0m\n\u001B[0m\u001B[0;32m   3364\u001B[0m \u001B[1;33m\u001B[0m\u001B[0m\n\u001B[0;32m   3365\u001B[0m         \u001B[1;32mif\u001B[0m \u001B[0mis_scalar\u001B[0m\u001B[1;33m(\u001B[0m\u001B[0mkey\u001B[0m\u001B[1;33m)\u001B[0m \u001B[1;32mand\u001B[0m \u001B[0misna\u001B[0m\u001B[1;33m(\u001B[0m\u001B[0mkey\u001B[0m\u001B[1;33m)\u001B[0m \u001B[1;32mand\u001B[0m \u001B[1;32mnot\u001B[0m \u001B[0mself\u001B[0m\u001B[1;33m.\u001B[0m\u001B[0mhasnans\u001B[0m\u001B[1;33m:\u001B[0m\u001B[1;33m\u001B[0m\u001B[1;33m\u001B[0m\u001B[0m\n",
      "\u001B[1;31mKeyError\u001B[0m: 'Algorithm_name'"
     ]
    }
   ],
   "source": [
    "start_time = dt.datetime.now()\n",
    "\n",
    "print(f\"[Program] Starting...\")\n",
    "country_list = make_country_list()\n",
    "\n",
    "for x, country in enumerate(country_list):\n",
    "    print(f\"[Progress] {(x + 1)}/{len(country_list)} ----- {round(((x + 1) / len(country_list) * 100), 2)}%\")\n",
    "    print(f\"[Algorithm] {country} in progress...\")\n",
    "    main(country)\n",
    "    print(f\"[Algorithm] {country} done\")\n",
    "\n",
    "print(f\"[RUNTIME] Total runtime: {dt.datetime.now() - start_time} seconds\")"
   ],
   "metadata": {
    "collapsed": false,
    "pycharm": {
     "name": "#%%\n"
    }
   }
  }
 ],
 "metadata": {
  "kernelspec": {
   "display_name": "Python 3",
   "language": "python",
   "name": "python3"
  },
  "language_info": {
   "codemirror_mode": {
    "name": "ipython",
    "version": 2
   },
   "file_extension": ".py",
   "mimetype": "text/x-python",
   "name": "python",
   "nbconvert_exporter": "python",
   "pygments_lexer": "ipython2",
   "version": "2.7.6"
  }
 },
 "nbformat": 4,
 "nbformat_minor": 0
}