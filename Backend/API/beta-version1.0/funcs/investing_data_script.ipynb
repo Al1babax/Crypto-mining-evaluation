{
 "cells": [
  {
   "cell_type": "code",
   "execution_count": 480,
   "metadata": {
    "collapsed": true,
    "pycharm": {
     "name": "#%%\n"
    }
   },
   "outputs": [],
   "source": [
    "import pandas as pd\n",
    "import pymongo\n",
    "import datetime as dt\n",
    "client = pymongo.MongoClient()\n",
    "time1 = dt.datetime.now().strftime(\"%Y-%m-%dT%H_%M_%S\")"
   ]
  },
  {
   "cell_type": "code",
   "execution_count": 481,
   "outputs": [],
   "source": [
    "def get_profit_dataframe(country):\n",
    "    # Profit dataframe without any costs\n",
    "    result_list = list(client['Asic_machine_profit'][country].find({}))\n",
    "    full_df = pd.DataFrame()\n",
    "\n",
    "    for result in result_list:\n",
    "        temp_df = pd.DataFrame(result[\"data\"])\n",
    "        temp_df[\"machine_name\"] = result[\"machine_name\"]\n",
    "        full_df = pd.concat([full_df, temp_df])\n",
    "\n",
    "    return full_df"
   ],
   "metadata": {
    "collapsed": false,
    "pycharm": {
     "name": "#%%\n"
    }
   }
  },
  {
   "cell_type": "code",
   "execution_count": 482,
   "outputs": [],
   "source": [
    "def get_dataframes():\n",
    "    # Shipment dataframe\n",
    "    sort=list({'_id': -1}.items())\n",
    "    limit=1\n",
    "    result = client['Shipments']['international_routes'].find(\n",
    "        sort=sort,\n",
    "        limit=limit\n",
    "    )\n",
    "    shipment_df = pd.DataFrame(result[0][\"data\"])\n",
    "\n",
    "    # Machine and market info dataframes\n",
    "    sort=list({'_id': -1}.items())\n",
    "    limit=1\n",
    "    result = client['Crypto-mining']['ASICS-PoW-final'].find(\n",
    "        sort=sort,\n",
    "        limit=limit\n",
    "    )\n",
    "    market_df = pd.DataFrame(result[0][\"data\"])\n",
    "    market_df[\"machine_name\"] = market_df[\"Manufacturer\"] + \"_\" + market_df[\"Model\"]\n",
    "    machine_info_df = market_df\n",
    "    market_df = market_df[[\"machine_name\",'available_stores']]\n",
    "\n",
    "    # returns all the dataframes\n",
    "    return shipment_df, machine_info_df, market_df"
   ],
   "metadata": {
    "collapsed": false,
    "pycharm": {
     "name": "#%%\n"
    }
   }
  },
  {
   "cell_type": "markdown",
   "source": [
    "## Do two different dataframes one for us one for Finland to determine the cheapest machine for each location --> US calculate location is New York"
   ],
   "metadata": {
    "collapsed": false,
    "pycharm": {
     "name": "#%% md\n"
    }
   }
  },
  {
   "cell_type": "code",
   "execution_count": 483,
   "outputs": [],
   "source": [
    "def make_destination_market_dataframes(market_df):\n",
    "    fin_market_df = market_df\n",
    "    fin_market_df = fin_market_df[~fin_market_df[\"available_stores\"].isna()]\n",
    "    us_market_df = market_df\n",
    "    us_market_df = us_market_df[~us_market_df[\"available_stores\"].isna()]\n",
    "    return fin_market_df, us_market_df"
   ],
   "metadata": {
    "collapsed": false,
    "pycharm": {
     "name": "#%%\n"
    }
   }
  },
  {
   "cell_type": "code",
   "execution_count": 484,
   "outputs": [],
   "source": [
    "def create_country_mapping(fin_market_df):\n",
    "    # This can be run if new countries are needed to be mapped\n",
    "    \"\"\"countries = []\n",
    "    for x in range(fin_market_df.shape[0]):\n",
    "        machine_market_data = fin_market_df.iloc[x, 1]\n",
    "        for market in machine_market_data:\n",
    "            # print(market)\n",
    "            countries.append(market[\"country\"])\n",
    "            # print()\n",
    "\n",
    "    inv_countries = list(set(countries))\n",
    "    country_mapping = {\n",
    "        \"EU\": [inv_countries[1], inv_countries[7], inv_countries[5]],\n",
    "        \"US\": [inv_countries[6], inv_countries[0]],\n",
    "        \"ASIA\": [inv_countries[2], inv_countries[3], inv_countries[8], inv_countries[4]]\n",
    "    }\"\"\"\n",
    "    country_mapping = {'EU': ['Italia', 'United Kingdom', 'Germany'],\n",
    "     'US': ['United States', 'Canada'],\n",
    "     'ASIA': ['Israel', 'Hong Kong', 'China', 'Honk Kong']}\n",
    "    return country_mapping"
   ],
   "metadata": {
    "collapsed": false,
    "pycharm": {
     "name": "#%%\n"
    }
   }
  },
  {
   "cell_type": "markdown",
   "source": [
    "## cube mm to cube inch divide value by 16390\n",
    "## g to lb for an approximate result, divide the mass value by 453.6"
   ],
   "metadata": {
    "collapsed": false,
    "pycharm": {
     "name": "#%% md\n"
    }
   }
  },
  {
   "cell_type": "code",
   "execution_count": 485,
   "outputs": [],
   "source": [
    "def modify_machine_info_df(machine_info_df):\n",
    "    x_list = []\n",
    "    y_list = []\n",
    "    z_list = []\n",
    "    for x in range(machine_info_df.shape[0]):\n",
    "        size = machine_info_df.iloc[x, 3]\n",
    "        if str(size) != \"nan\":\n",
    "            x_list.append(size[\"x\"])\n",
    "            y_list.append(size[\"y\"])\n",
    "            z_list.append(size[\"z\"])\n",
    "        else:\n",
    "            x_list.append(0)\n",
    "            y_list.append(0)\n",
    "            z_list.append(0)\n",
    "\n",
    "    machine_info_df[\"width\"] = x_list\n",
    "    machine_info_df[\"length\"] = z_list\n",
    "    machine_info_df[\"height\"] = y_list\n",
    "    machine_info_df[\"total_size\"] = machine_info_df[\"width\"] * machine_info_df[\"length\"] * machine_info_df[\"height\"]\n",
    "\n",
    "    machine_info_df[\"cube_inch\"] = machine_info_df[\"total_size\"] / 16390\n",
    "    machine_info_df[\"lb\"] = machine_info_df[\"Weight(g)\"] / 453.6\n",
    "    return machine_info_df"
   ],
   "metadata": {
    "collapsed": false,
    "pycharm": {
     "name": "#%%\n"
    }
   }
  },
  {
   "cell_type": "code",
   "execution_count": 486,
   "outputs": [],
   "source": [
    "def check_machine_category(machine_name, machine_info_df): # Checks what is category of size the machines is closest to calculate shipment cost\n",
    "    machine_df = machine_info_df[(machine_info_df[\"machine_name\"] == machine_name)]\n",
    "    custom_var_number = (machine_df[\"cube_inch\"] * machine_df[\"lb\"]).iloc[0]\n",
    "    category_custom_var_numbers = [35002, 24307, 15556, 8750, 3889]\n",
    "    difference_list = []\n",
    "\n",
    "    for index, number in enumerate(category_custom_var_numbers):\n",
    "        difference = abs(number - custom_var_number)\n",
    "        difference_list.append(difference)\n",
    "\n",
    "    # print(difference_list)\n",
    "    smallest_numbers_index = difference_list.index(min(difference_list))\n",
    "    category_dict = {\n",
    "        0: \"150%\",\n",
    "        1: \"125%\",\n",
    "        2: \"100%\",\n",
    "        3: \"75%\",\n",
    "        4: \"50%\"\n",
    "    }\n",
    "    return category_dict[smallest_numbers_index]"
   ],
   "metadata": {
    "collapsed": false,
    "pycharm": {
     "name": "#%%\n"
    }
   }
  },
  {
   "cell_type": "markdown",
   "source": [
    "![](resources/images/blJg20D.jpg)"
   ],
   "metadata": {
    "collapsed": false,
    "pycharm": {
     "name": "#%% md\n"
    }
   }
  },
  {
   "cell_type": "markdown",
   "source": [
    "## This function above is for choose_best_market function to choose what is the best machine --> For now I will just use what is the cheapest machine available"
   ],
   "metadata": {
    "collapsed": false,
    "pycharm": {
     "name": "#%% md\n"
    }
   }
  },
  {
   "cell_type": "code",
   "execution_count": 487,
   "outputs": [],
   "source": [
    "def choose_best_market(market_list:list, to_country):\n",
    "    \"\"\"\n",
    "    Best machine market is chosen based on real price which includes shipping price --> There needs to be custom weights on markets lists with saying that item will be in stock within certain time --> Best way to calculate these weights would be to use coin profit prediction algorithms to determine how much profit will said machine lose each month and use that information to make weights --> but because I don't have that information yet I need to make my own custom weights. Let's say that machine is outdate in 3years to 0 profit and with average ROI of 1.5 years we can access how much they lose profit per one month. Let's also assume mining profit per month loss is linear -->\n",
    "    Total profit: machine_price * 2\n",
    "    One month of 2 years(one month profit loss): 1/(12*2)\n",
    "    At 1.5year machine making 50% of original profit\n",
    "    :param market_list:\n",
    "    :return:\n",
    "    \"\"\"\n",
    "    stock_name_dict = {'In stock',\n",
    "     'In stock(10 \\\\ndays\\\\n)',\n",
    "     'In stock(12 \\\\ndays\\\\n)',\n",
    "     'In stock(15 \\\\ndays\\\\n)',\n",
    "     'In stock(2 \\\\ndays\\\\n)',\n",
    "     'In stock(3 \\\\ndays\\\\n)',\n",
    "     'In stock(30 \\\\ndays\\\\n)',\n",
    "     'In stock(5 \\\\ndays\\\\n)',\n",
    "     'In stock(7 \\\\ndays\\\\n)',\n",
    "     'Out of stock',\n",
    "     'Pre-order(Aug\\\\xa02022)',\n",
    "     'Pre-order(Jul\\\\xa02022)',\n",
    "     'Pre-order(Jun\\\\xa02022)',\n",
    "     'Pre-order(May\\\\xa02022)',\n",
    "     'Pre-order(Oct\\\\xa02022)',\n",
    "     'Used'}\n",
    "\n",
    "    # Adding import taxes here\n",
    "    \"\"\"\n",
    "    For Finland it is 24% outside of eu\n",
    "    For US it is 2% outside US and 25% if from China\n",
    "    \"\"\"\n",
    "    if to_country == \"Finland\":\n",
    "        for market in market_list:\n",
    "            if market[\"continent\"] == \"US\" or market[\"continent\"] == \"ASIA\" or market[\"country\"] == \"United Kingdom\":\n",
    "                market[\"tax_added_price\"] = market[\"real_price\"] * 1.24\n",
    "            else:\n",
    "                market[\"tax_added_price\"] = market[\"real_price\"]\n",
    "\n",
    "    elif to_country == \"New York\":\n",
    "        for market in market_list:\n",
    "            if market[\"continent\"] == \"EU\":\n",
    "                market[\"tax_added_price\"] = market[\"real_price\"] * 1.02\n",
    "            elif market[\"country\"] in [\"China\", \"Hong Kong\", \"Honk Kong\"]:\n",
    "                market[\"tax_added_price\"] = market[\"real_price\"] * 1.25\n",
    "            elif market[\"continent\"] == \"ASIA\":\n",
    "                market[\"tax_added_price\"] = market[\"real_price\"] * 1.02\n",
    "            else:\n",
    "                market[\"tax_added_price\"] = market[\"real_price\"]\n",
    "\n",
    "    # Sorting list\n",
    "    market_list.sort(key = lambda x: x[\"tax_added_price\"])\n",
    "\n",
    "    for market in market_list:\n",
    "        if market[\"stock\"] != \"Used\" and market[\"stock\"] != \"Out of stock\":\n",
    "            return market"
   ],
   "metadata": {
    "collapsed": false,
    "pycharm": {
     "name": "#%%\n"
    }
   }
  },
  {
   "cell_type": "code",
   "execution_count": 488,
   "outputs": [],
   "source": [
    "def format_price(price:str):\n",
    "    price = price[1:]\n",
    "    price = price.replace(\",\", \"\").split(\".\")[0]\n",
    "    return int(price)"
   ],
   "metadata": {
    "collapsed": false,
    "pycharm": {
     "name": "#%%\n"
    }
   }
  },
  {
   "cell_type": "code",
   "execution_count": 489,
   "outputs": [],
   "source": [
    "def calculate_shipment(data, shipment_df:pd.DataFrame, to_country):\n",
    "    if data[\"isFreeShipping\"] is True:\n",
    "        return 0\n",
    "    # print(to_country)\n",
    "    # print(data[\"size_category\"])\n",
    "\n",
    "    ship_df = shipment_df[(shipment_df[\"to\"] == to_country) & (shipment_df[\"class\"] == data[\"size_category\"])]\n",
    "    if data[\"continent\"] == \"EU\":\n",
    "        ship_df = ship_df[ship_df[\"from\"] == \"Germany\"]\n",
    "    elif data[\"continent\"] == \"US\":\n",
    "        ship_df = ship_df[ship_df[\"from\"] == \"Texas\"]\n",
    "    elif data[\"continent\"] == \"ASIA\":\n",
    "        ship_df = ship_df[ship_df[\"from\"] == \"China\"]\n",
    "    return ship_df.iloc[0, 5]"
   ],
   "metadata": {
    "collapsed": false,
    "pycharm": {
     "name": "#%%\n"
    }
   }
  },
  {
   "cell_type": "code",
   "execution_count": 490,
   "outputs": [],
   "source": [
    "def include_shipping_taxes(country1, country_market_df, country_mapping, machine_info_df, shipment_df):\n",
    "    country_modified_market = []\n",
    "\n",
    "    for x in range(country_market_df.shape[0]):\n",
    "        machine_market_data = country_market_df.iloc[x, 1]\n",
    "        machine_name = country_market_df.iloc[x, 0]\n",
    "        all_markets_list = []\n",
    "\n",
    "        for market in machine_market_data:\n",
    "            country = market[\"country\"]\n",
    "            temp_dict = {\n",
    "                \"store_name\": market[\"store_name\"],\n",
    "                \"non_ship_price\": format_price(market[\"price\"]),    # Formatting price\n",
    "                \"country\": country,\n",
    "                \"stock\": market[\"stock\"],\n",
    "                \"isFreeShipping\": market[\"isFreeShipping\"]\n",
    "            }\n",
    "            machine_size_category = check_machine_category(machine_name, machine_info_df)\n",
    "            temp_dict[\"size_category\"] = machine_size_category\n",
    "            if country in country_mapping[\"EU\"]:\n",
    "                temp_dict[\"continent\"] = \"EU\"\n",
    "            elif country in country_mapping[\"US\"]:\n",
    "                temp_dict[\"continent\"] = \"US\"\n",
    "            elif country in country_mapping[\"ASIA\"]:\n",
    "                temp_dict[\"continent\"] = \"ASIA\"\n",
    "\n",
    "            # print(temp_dict)\n",
    "            shipment_cost = calculate_shipment(temp_dict,shipment_df, country1)\n",
    "            temp_dict[\"shipment_cost\"] = shipment_cost\n",
    "            temp_dict[\"real_price\"] = float(temp_dict[\"non_ship_price\"]) + float(temp_dict[\"shipment_cost\"])\n",
    "            # print(temp_dict)\n",
    "            # print()\n",
    "            all_markets_list.append(temp_dict)\n",
    "\n",
    "        cheapest_market = choose_best_market(all_markets_list, country1)\n",
    "        machine_market = {\"machine_name\": machine_name, \"cheapest_market\": cheapest_market, \"cheapest_price\": cheapest_market[\"tax_added_price\"] if cheapest_market is not None else 0}\n",
    "        country_modified_market.append(machine_market)\n",
    "        # print(cheapest_market)\n",
    "        # print()\n",
    "\n",
    "    return pd.DataFrame(country_modified_market)"
   ],
   "metadata": {
    "collapsed": false,
    "pycharm": {
     "name": "#%%\n"
    }
   }
  },
  {
   "cell_type": "code",
   "execution_count": 491,
   "outputs": [],
   "source": [
    "def update_mongodb(df, country, machine_name):\n",
    "    col = client[\"Asic_machine_profit_full\"][country]\n",
    "    df_dict = df.to_dict(\"records\")\n",
    "    new_data = {\"time\": time1,\"data\": df_dict}\n",
    "    if col.find({\"machine_name\": machine_name}) is None:\n",
    "        col.insert_one({\"time\": time1, \"machine_name\":machine_name, \"data\": df_dict})\n",
    "    else:\n",
    "        col.update_one({\"machine_name\": machine_name}, {\"$set\": new_data})"
   ],
   "metadata": {
    "collapsed": false,
    "pycharm": {
     "name": "#%%\n"
    }
   }
  },
  {
   "cell_type": "code",
   "execution_count": 492,
   "outputs": [],
   "source": [
    "def calculate_roi(fin_df, us_df):\n",
    "    countries = client[\"Asic_machine_profit\"].list_collection_names()\n",
    "\n",
    "    for country in countries:\n",
    "        final_df = get_profit_dataframe(country)\n",
    "\n",
    "        if country == \"Finland\":\n",
    "            country_df = fin_df\n",
    "        else:\n",
    "            country_df = us_df\n",
    "\n",
    "        final_df = final_df.merge(country_df, how=\"left\", on=\"machine_name\")\n",
    "        final_df[\"cheapest_market\"] = final_df[\"cheapest_market\"].fillna(\"Out of stock\")\n",
    "        final_df[\"cheapest_price\"] = final_df[\"cheapest_price\"].fillna(0)\n",
    "\n",
    "        final_df[\"ROI_days\"] = final_df[\"cheapest_price\"] / final_df[\"final_profit_daily\"]\n",
    "        final_df[\"ROI_days\"] = final_df[\"ROI_days\"].apply(lambda x: int(x))\n",
    "        final_df[\"ROI_days\"] = final_df[\"ROI_days\"].apply(lambda x: 0 if x > 2 * 365 else x)\n",
    "        final_df[\"ROI_days\"] = final_df[\"ROI_days\"].apply(lambda x: 0 if x < 0 else x)\n",
    "\n",
    "        final_df[\"total_profit\"] = final_df[\"final_profit_daily\"] * 365 * 2\n",
    "        final_df[\"total_profit\"] = final_df[\"total_profit\"].apply(lambda x: 0 if x < 0 else x)\n",
    "\n",
    "        final_df[\"profit_after_ROI\"] = final_df[\"total_profit\"] - final_df[\"cheapest_price\"]\n",
    "        final_df[\"profit_after_ROI\"] = final_df[\"profit_after_ROI\"].apply(lambda x: 0 if x < 0 else x)\n",
    "\n",
    "        # convert all values in final_df to strings\n",
    "        final_df = final_df.applymap(str)\n",
    "\n",
    "        # list of unique machine_name in final_df\n",
    "        machine_names = list(final_df[\"machine_name\"].unique())\n",
    "        for machine_name in machine_names:\n",
    "            update_mongodb(final_df[final_df[\"machine_name\"] == machine_name], country, machine_name)"
   ],
   "metadata": {
    "collapsed": false,
    "pycharm": {
     "name": "#%%\n"
    }
   }
  },
  {
   "cell_type": "code",
   "execution_count": 493,
   "outputs": [],
   "source": [
    "def main():\n",
    "    # Getting all the dataframes\n",
    "    shipment_df, machine_info_df, market_df = get_dataframes()\n",
    "\n",
    "    # Split into two markets\n",
    "    fin_market_df, us_market_df = make_destination_market_dataframes(market_df)\n",
    "\n",
    "    # Make countries mapped to continents\n",
    "    country_mapping = create_country_mapping(fin_market_df)\n",
    "\n",
    "    # Modify machine measurements to imperial units\n",
    "    machine_info_df = modify_machine_info_df(machine_info_df)\n",
    "\n",
    "    # Market dataframes with shipments and taxes included\n",
    "    fin_modified_market_df = include_shipping_taxes(\"Finland\", fin_market_df, country_mapping, machine_info_df, shipment_df)\n",
    "    us_modified_market_df = include_shipping_taxes(\"New York\", us_market_df, country_mapping, machine_info_df, shipment_df)\n",
    "\n",
    "    # Calculate ROI\n",
    "    calculate_roi(fin_modified_market_df, us_modified_market_df)\n"
   ],
   "metadata": {
    "collapsed": false,
    "pycharm": {
     "name": "#%%\n"
    }
   }
  },
  {
   "cell_type": "code",
   "execution_count": 494,
   "outputs": [],
   "source": [
    "main()"
   ],
   "metadata": {
    "collapsed": false,
    "pycharm": {
     "name": "#%%\n"
    }
   }
  }
 ],
 "metadata": {
  "kernelspec": {
   "display_name": "Python 3",
   "language": "python",
   "name": "python3"
  },
  "language_info": {
   "codemirror_mode": {
    "name": "ipython",
    "version": 2
   },
   "file_extension": ".py",
   "mimetype": "text/x-python",
   "name": "python",
   "nbconvert_exporter": "python",
   "pygments_lexer": "ipython2",
   "version": "2.7.6"
  }
 },
 "nbformat": 4,
 "nbformat_minor": 0
}