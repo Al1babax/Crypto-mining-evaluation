{
 "cells": [
  {
   "cell_type": "code",
   "execution_count": 35,
   "metadata": {
    "collapsed": true
   },
   "outputs": [],
   "source": [
    "import numpy\n",
    "\n",
    "import pandas as pd\n",
    "import pymongo\n",
    "import logging\n",
    "import numpy as np"
   ]
  },
  {
   "cell_type": "code",
   "execution_count": 22,
   "outputs": [],
   "source": [
    "time = \"2022-07-10T04_45_53\""
   ],
   "metadata": {
    "collapsed": false,
    "pycharm": {
     "name": "#%%\n"
    }
   }
  },
  {
   "cell_type": "code",
   "execution_count": 23,
   "outputs": [],
   "source": [
    "def init(time1):\n",
    "    global time\n",
    "    time = time1"
   ],
   "metadata": {
    "collapsed": false,
    "pycharm": {
     "name": "#%%\n"
    }
   }
  },
  {
   "cell_type": "code",
   "execution_count": 24,
   "outputs": [],
   "source": [
    "def setup_log():\n",
    "    logging.basicConfig(level=logging.INFO, filename=f\"../Logs/{time}_WS_test.log\", filemode=\"w\", format=\"%(asctime)s - %(levelname)s - %(message)s\")"
   ],
   "metadata": {
    "collapsed": false,
    "pycharm": {
     "name": "#%%\n"
    }
   }
  },
  {
   "cell_type": "code",
   "execution_count": null,
   "outputs": [],
   "source": [
    "def check_electricity():\n",
    "    client = pymongo.MongoClient()\n",
    "    db = client[\"Electricity\"]\n",
    "\n",
    "    ######\n",
    "    # Testing finland scraper\n",
    "    #####\n",
    "    col = db[\"Finland\"]\n",
    "    data = col.find_one({\"date\": time})\n",
    "\n",
    "    if data is None:\n",
    "        logging.error(\"Backend/Data-ETL/Webscrapers/WS_electricity.py - Failed to run\")\n",
    "\n",
    "    df = pd.DataFrame(data[\"data\"])\n",
    "\n",
    "    type_df = df.dtypes\n",
    "    for x in range(5):\n",
    "        if type_df.iloc[x + 1] != \"float64\":\n",
    "            logging.error(f\"Document in database Electricity/Finland id:{data['_id']} - Unittest failed\")\n",
    "\n",
    "    ######\n",
    "    # Testing finland scraper\n",
    "    #####\n",
    "    col = db[\"USA\"]\n",
    "    data = col.find_one({\"date\": time})\n",
    "\n",
    "    if data is None:\n",
    "        logging.error(\"Backend/Data-ETL/Webscrapers/WS_electricity.py - Failed to run\")\n",
    "\n",
    "    df = pd.DataFrame(data[\"data\"])\n",
    "\n",
    "    if str(df.shape) != \"(51, 5)\":\n",
    "        logging.error(f\"Document in database Electricity/USA id:{data['_id']} - Shape is wrong\")\n",
    "\n",
    "    try:\n",
    "        df[\"state\"].apply(lambda x: str(x))\n",
    "        df[\"current_month\"].apply(lambda x: float(x))\n",
    "        df[\"previous_month\"].apply(lambda x: float(x))\n",
    "        df[\"change (%)\"].apply(lambda x: float(x[:-1]))\n",
    "    except:\n",
    "        logging.error(f\"Document in database Electricity/USA id:{data['_id']} - Unittest failed\")"
   ],
   "metadata": {
    "collapsed": false,
    "pycharm": {
     "name": "#%%\n"
    }
   }
  }
 ],
 "metadata": {
  "kernelspec": {
   "display_name": "Python 3",
   "language": "python",
   "name": "python3"
  },
  "language_info": {
   "codemirror_mode": {
    "name": "ipython",
    "version": 2
   },
   "file_extension": ".py",
   "mimetype": "text/x-python",
   "name": "python",
   "nbconvert_exporter": "python",
   "pygments_lexer": "ipython2",
   "version": "2.7.6"
  }
 },
 "nbformat": 4,
 "nbformat_minor": 0
}