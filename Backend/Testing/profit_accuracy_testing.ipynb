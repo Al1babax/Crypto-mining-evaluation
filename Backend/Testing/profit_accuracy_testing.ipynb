{
 "cells": [
  {
   "cell_type": "code",
   "execution_count": 22,
   "metadata": {
    "collapsed": true
   },
   "outputs": [],
   "source": [
    "import pymongo\n",
    "import pandas as pd"
   ]
  },
  {
   "cell_type": "markdown",
   "source": [
    "# Cryptomining profit calculator without electricity/ machine cost or shipping price"
   ],
   "metadata": {
    "collapsed": false
   }
  },
  {
   "cell_type": "code",
   "execution_count": 23,
   "outputs": [],
   "source": [
    "client = pymongo.MongoClient()\n",
    "filter1={}\n",
    "sort=list({\n",
    "              '_id': -1\n",
    "          }.items())\n",
    "limit=1\n",
    "\n",
    "result = client['Coin-Data']['Current_coin'].find(\n",
    "    filter=filter1,\n",
    "    sort=sort,\n",
    "    limit=limit\n",
    ")"
   ],
   "metadata": {
    "collapsed": false,
    "pycharm": {
     "name": "#%%\n"
    }
   }
  },
  {
   "cell_type": "code",
   "execution_count": 24,
   "outputs": [
    {
     "data": {
      "text/plain": "                                           id               coin       name  \\\n0    14c3fe48ff9f40cdb6e3619a3f421c2b9512058f              0XBTC  0xBitcoin   \n1    d845a5ff6aa05ec3baf417ff072dd9a961aa125f         2MINERS AE    2Miners   \n2    ce0ca34404f5cca9bc1f225d7749ad93935e6223       2MINERS BEAM    2Miners   \n3    fb323c821548459be7e486093f3d3ee09e8842d4        2MINERS BTG    2Miners   \n4    7f07faaf1f4301e108a2cd5a71578a85917038e4        2MINERS CKB    2Miners   \n..                                        ...                ...        ...   \n596  0f79869a997a4097825ab2291cb0b276fb737dbe  zpool YescryptR16      zpool   \n597  e8ad0b9a9882b19551c8ba34eb7fb6fa8cd928e7  zpool YescryptR24      zpool   \n598  39a481f5cf1fa6a137169caccc4ca6b395404fa4  zpool YescryptR32      zpool   \n599  af22d8fd19146c64bd664a07349673ce28dfc2ca     zpool YesPoWer      zpool   \n600  495b67bf143563811e00b3582de34f8425766c60                ZTC  Zent Cash   \n\n     type          algorithm  network_hashrate    difficulty        reward  \\\n0    coin      Solidity-SHA3               0.0  1.543687e+10  2.780055e-12   \n1    pool        CuckooCycle               0.0  0.000000e+00  5.914361e-02   \n2    pool        BeamHashIII               0.0  0.000000e+00  8.771537e-03   \n3    pool              Zhash               0.0  0.000000e+00  1.995145e-05   \n4    pool          Eaglesong               0.0  0.000000e+00  6.066117e-12   \n..    ...                ...               ...           ...           ...   \n596  pool        YescryptR16               0.0  0.000000e+00  1.216667e-10   \n597  pool        YescryptR24               0.0  0.000000e+00  2.533583e-11   \n598  pool        YescryptR32               0.0  0.000000e+00  1.908333e-10   \n599  pool           YesPoWer               0.0  0.000000e+00  2.058333e-10   \n600  coin  CryptoNightLiteV7          492173.0  2.954930e+07  1.782463e-07   \n\n    reward_unit  reward_block         price         volume     updated  \\\n0         0XBTC     50.000000  2.535228e-01  144626.402736  1657307172   \n1            AE      0.000000  7.400804e-02       0.000000  1657307402   \n2          BEAM      0.000000  1.358032e-01       0.000000  1657307402   \n3           BTG      0.000000  1.660217e+01       0.000000  1657307402   \n4           CKB      0.000000  3.730884e-03       0.000000  1657307402   \n..          ...           ...           ...            ...         ...   \n596         BTC      0.000000  2.174116e+04       0.000000  1657307402   \n597         BTC      0.000000  2.174116e+04       0.000000  1657307402   \n598         BTC      0.000000  2.174116e+04       0.000000  1657307402   \n599         BTC      0.000000  2.174116e+04       0.000000  1657307402   \n600         ZTC      0.001463  8.511830e-07     300.290000  1657307197   \n\n     profit/hash/hour  \n0        7.048073e-13  \n1        4.377102e-03  \n2        1.191203e-03  \n3        3.312374e-04  \n4        2.263198e-14  \n..                ...  \n596      2.645174e-06  \n597      5.508303e-07  \n598      4.148937e-06  \n599      4.475055e-06  \n600      1.517202e-13  \n\n[601 rows x 14 columns]",
      "text/html": "<div>\n<style scoped>\n    .dataframe tbody tr th:only-of-type {\n        vertical-align: middle;\n    }\n\n    .dataframe tbody tr th {\n        vertical-align: top;\n    }\n\n    .dataframe thead th {\n        text-align: right;\n    }\n</style>\n<table border=\"1\" class=\"dataframe\">\n  <thead>\n    <tr style=\"text-align: right;\">\n      <th></th>\n      <th>id</th>\n      <th>coin</th>\n      <th>name</th>\n      <th>type</th>\n      <th>algorithm</th>\n      <th>network_hashrate</th>\n      <th>difficulty</th>\n      <th>reward</th>\n      <th>reward_unit</th>\n      <th>reward_block</th>\n      <th>price</th>\n      <th>volume</th>\n      <th>updated</th>\n      <th>profit/hash/hour</th>\n    </tr>\n  </thead>\n  <tbody>\n    <tr>\n      <th>0</th>\n      <td>14c3fe48ff9f40cdb6e3619a3f421c2b9512058f</td>\n      <td>0XBTC</td>\n      <td>0xBitcoin</td>\n      <td>coin</td>\n      <td>Solidity-SHA3</td>\n      <td>0.0</td>\n      <td>1.543687e+10</td>\n      <td>2.780055e-12</td>\n      <td>0XBTC</td>\n      <td>50.000000</td>\n      <td>2.535228e-01</td>\n      <td>144626.402736</td>\n      <td>1657307172</td>\n      <td>7.048073e-13</td>\n    </tr>\n    <tr>\n      <th>1</th>\n      <td>d845a5ff6aa05ec3baf417ff072dd9a961aa125f</td>\n      <td>2MINERS AE</td>\n      <td>2Miners</td>\n      <td>pool</td>\n      <td>CuckooCycle</td>\n      <td>0.0</td>\n      <td>0.000000e+00</td>\n      <td>5.914361e-02</td>\n      <td>AE</td>\n      <td>0.000000</td>\n      <td>7.400804e-02</td>\n      <td>0.000000</td>\n      <td>1657307402</td>\n      <td>4.377102e-03</td>\n    </tr>\n    <tr>\n      <th>2</th>\n      <td>ce0ca34404f5cca9bc1f225d7749ad93935e6223</td>\n      <td>2MINERS BEAM</td>\n      <td>2Miners</td>\n      <td>pool</td>\n      <td>BeamHashIII</td>\n      <td>0.0</td>\n      <td>0.000000e+00</td>\n      <td>8.771537e-03</td>\n      <td>BEAM</td>\n      <td>0.000000</td>\n      <td>1.358032e-01</td>\n      <td>0.000000</td>\n      <td>1657307402</td>\n      <td>1.191203e-03</td>\n    </tr>\n    <tr>\n      <th>3</th>\n      <td>fb323c821548459be7e486093f3d3ee09e8842d4</td>\n      <td>2MINERS BTG</td>\n      <td>2Miners</td>\n      <td>pool</td>\n      <td>Zhash</td>\n      <td>0.0</td>\n      <td>0.000000e+00</td>\n      <td>1.995145e-05</td>\n      <td>BTG</td>\n      <td>0.000000</td>\n      <td>1.660217e+01</td>\n      <td>0.000000</td>\n      <td>1657307402</td>\n      <td>3.312374e-04</td>\n    </tr>\n    <tr>\n      <th>4</th>\n      <td>7f07faaf1f4301e108a2cd5a71578a85917038e4</td>\n      <td>2MINERS CKB</td>\n      <td>2Miners</td>\n      <td>pool</td>\n      <td>Eaglesong</td>\n      <td>0.0</td>\n      <td>0.000000e+00</td>\n      <td>6.066117e-12</td>\n      <td>CKB</td>\n      <td>0.000000</td>\n      <td>3.730884e-03</td>\n      <td>0.000000</td>\n      <td>1657307402</td>\n      <td>2.263198e-14</td>\n    </tr>\n    <tr>\n      <th>...</th>\n      <td>...</td>\n      <td>...</td>\n      <td>...</td>\n      <td>...</td>\n      <td>...</td>\n      <td>...</td>\n      <td>...</td>\n      <td>...</td>\n      <td>...</td>\n      <td>...</td>\n      <td>...</td>\n      <td>...</td>\n      <td>...</td>\n      <td>...</td>\n    </tr>\n    <tr>\n      <th>596</th>\n      <td>0f79869a997a4097825ab2291cb0b276fb737dbe</td>\n      <td>zpool YescryptR16</td>\n      <td>zpool</td>\n      <td>pool</td>\n      <td>YescryptR16</td>\n      <td>0.0</td>\n      <td>0.000000e+00</td>\n      <td>1.216667e-10</td>\n      <td>BTC</td>\n      <td>0.000000</td>\n      <td>2.174116e+04</td>\n      <td>0.000000</td>\n      <td>1657307402</td>\n      <td>2.645174e-06</td>\n    </tr>\n    <tr>\n      <th>597</th>\n      <td>e8ad0b9a9882b19551c8ba34eb7fb6fa8cd928e7</td>\n      <td>zpool YescryptR24</td>\n      <td>zpool</td>\n      <td>pool</td>\n      <td>YescryptR24</td>\n      <td>0.0</td>\n      <td>0.000000e+00</td>\n      <td>2.533583e-11</td>\n      <td>BTC</td>\n      <td>0.000000</td>\n      <td>2.174116e+04</td>\n      <td>0.000000</td>\n      <td>1657307402</td>\n      <td>5.508303e-07</td>\n    </tr>\n    <tr>\n      <th>598</th>\n      <td>39a481f5cf1fa6a137169caccc4ca6b395404fa4</td>\n      <td>zpool YescryptR32</td>\n      <td>zpool</td>\n      <td>pool</td>\n      <td>YescryptR32</td>\n      <td>0.0</td>\n      <td>0.000000e+00</td>\n      <td>1.908333e-10</td>\n      <td>BTC</td>\n      <td>0.000000</td>\n      <td>2.174116e+04</td>\n      <td>0.000000</td>\n      <td>1657307402</td>\n      <td>4.148937e-06</td>\n    </tr>\n    <tr>\n      <th>599</th>\n      <td>af22d8fd19146c64bd664a07349673ce28dfc2ca</td>\n      <td>zpool YesPoWer</td>\n      <td>zpool</td>\n      <td>pool</td>\n      <td>YesPoWer</td>\n      <td>0.0</td>\n      <td>0.000000e+00</td>\n      <td>2.058333e-10</td>\n      <td>BTC</td>\n      <td>0.000000</td>\n      <td>2.174116e+04</td>\n      <td>0.000000</td>\n      <td>1657307402</td>\n      <td>4.475055e-06</td>\n    </tr>\n    <tr>\n      <th>600</th>\n      <td>495b67bf143563811e00b3582de34f8425766c60</td>\n      <td>ZTC</td>\n      <td>Zent Cash</td>\n      <td>coin</td>\n      <td>CryptoNightLiteV7</td>\n      <td>492173.0</td>\n      <td>2.954930e+07</td>\n      <td>1.782463e-07</td>\n      <td>ZTC</td>\n      <td>0.001463</td>\n      <td>8.511830e-07</td>\n      <td>300.290000</td>\n      <td>1657307197</td>\n      <td>1.517202e-13</td>\n    </tr>\n  </tbody>\n</table>\n<p>601 rows × 14 columns</p>\n</div>"
     },
     "execution_count": 24,
     "metadata": {},
     "output_type": "execute_result"
    }
   ],
   "source": [
    "df = pd.DataFrame(result[0][\"data\"])\n",
    "df"
   ],
   "metadata": {
    "collapsed": false,
    "pycharm": {
     "name": "#%%\n"
    }
   }
  },
  {
   "cell_type": "code",
   "execution_count": 25,
   "outputs": [
    {
     "data": {
      "text/plain": "                                           id   coin            name  type  \\\n36   9b7bac51b9ca9ce6e9127154ae13995a48898ba0    ARG             ARG  coin   \n49   627a53ff2ebe79d72a07208bb7e87231675828b8    BCH    Bitcoin Cash  coin   \n74   a195fd59ce0ebc3f9b2d99b3c396ff198bcb4a5e    BTC         Bitcoin  coin   \n87   36d1ae382da84464510cc9e25576222dc5d5ba60    CKB  Nervos Network  coin   \n92   d5504b55211bb42af5f08d01651f982c68f87552   DASH            Dash  coin   \n93   f8726335f3faec3a24cef1819ee40eb39e822248    DCR          Decred  coin   \n96   97705878999f5a017372b6ab6527751703f3162d    DGB        DigiByte  coin   \n109  7995c3996665afa7d3e0138f51aa68f50b22dac3    ELA         Elastos  coin   \n114  31e1e1bcf3417b37586b0801d7a98d2346c9f30e    ETH        Ethereum  coin   \n161  38392139b319f75dce86919638827966f84347d2    HNS       Handshake  coin   \n164  1c1f3d3a7dcd925bac25cf583c59f083318fa0c6   INES            INES  coin   \n167  01989d932ff0df1f388264e6abe31e7cf2d49521    IXI         IxiCash  coin   \n169  13b6341aa98fad5b44e7cb2a178e8b59f20cbe52    KDA          Kadena  coin   \n352  662aff88901045fc312477e2a68421cfc4fd1a2f    NMC        Namecoin  coin   \n376  e48b6d5f287323243f35240e06ffd078cf94d146    PPC        Peercoin  coin   \n396  a672b5abd4b313f7e50a8d5ec767e56caf2b8864     SC         Siacoin  coin   \n419  72b2ca5b2c46ad2a1eff1153428c1ff8c4bdf47c    SYS         Syscoin  coin   \n425  36f1c57eaba0f036bcc46abeac3207d684d250b8    TRC       Terracoin  coin   \n440  3ce2fc71f2475da0ffc3eb96bc79dea3e9dc6145    UNO     Unobtainium  coin   \n442  81cc54f95e5cdd4c6219ac819b211f7c2fa8faf2  VCASH           VCASH  coin   \n\n             algorithm  network_hashrate    difficulty        reward  \\\n36             SHA-256      2.542841e+17  2.545541e+09  9.878335e-16   \n49             SHA-256      1.070000e+18  1.432609e+11  3.660576e-17   \n74             SHA-256      2.233728e+20  2.915280e+13  1.858386e-19   \n87           Eaglesong      8.395446e+16  7.404544e+17  5.813063e-12   \n92                 X11      3.897763e+15  1.398985e+08  7.451342e-15   \n93         Blake (14r)      8.189704e+16  5.334825e+09  1.657130e-16   \n96             SHA-256      7.182288e+16  1.023262e+09  3.640257e-13   \n109            SHA-256      2.035821e+20  5.771442e+12  7.732721e-20   \n114             Ethash      8.855315e+14  1.184330e+16  6.762200e-13   \n161          Handshake      6.932509e+15  9.070746e+08  1.853108e-12   \n164            SHA-256      2.206347e+15  2.017460e+09  4.154681e-14   \n167          ChukwaIXI      2.014876e+22  1.844674e+19  1.314361e-17   \n169  Blake (2s-Kadena)      1.246774e+17  1.647662e+17  2.301988e-14   \n352            SHA-256      1.182092e+20  1.998289e+13  5.246857e-19   \n376            SHA-256      4.660387e+15  2.733681e+09  1.340832e-14   \n396     Blake (2b-Sia)      1.765702e+16  1.037800e+19  1.040739e-11   \n419            SHA-256      4.065540e+19  1.635789e+12  4.099259e-18   \n425            SHA-256      7.468975e+16  2.524168e+09  7.471486e-16   \n440            SHA-256      1.843658e+17  7.591108e+09  1.104174e-18   \n442            SHA-256      1.176289e+19  1.988478e+12  4.215235e-18   \n\n    reward_unit  reward_block         price        volume     updated  \\\n36          ARG      3.000000      0.000000  0.000000e+00  1657307202   \n49          BCH      6.256543    110.142795  1.952728e+08  1657307184   \n74          BTC      6.463586  21741.156227  5.203367e+10  1657307184   \n87          CKB   1195.641034      0.003731  1.112271e+06  1657307174   \n92         DASH      1.243670     46.212490  9.424809e+07  1657307185   \n93          DCR      1.054712     23.114202  1.667457e+06  1657307183   \n96          DGB    444.402198      0.010707  6.059528e+06  1657307173   \n109         ELA      0.532444      1.524700  1.025964e+05  1657307182   \n114         ETH      2.224632   1229.111390  1.613613e+10  1657307200   \n161         HNS   2005.400000      0.071508  2.454919e+05  1657307191   \n164        INES    100.000000      0.000000  0.000000e+00  1657307189   \n167         IXI   2304.000000      0.000131  2.659700e+02  1657307199   \n169         KDA      1.053583      1.592728  7.911048e+06  1657307203   \n352         NMC     12.508776      1.196795  7.120881e+03  1657307190   \n376         PPC     43.730000      0.287366  5.209315e+03  1657306835   \n396          SC  30002.186010      0.003928  4.931659e+06  1657285246   \n419         SYS      8.000000      0.153134  4.319060e+06  1657307195   \n425         TRC      2.250000      0.017458  3.778975e+02  1657307201   \n440         UNO      0.010000      0.008662  1.340550e+03  1657307196   \n442       VCASH     10.000000      0.000000  0.000000e+00  1657307205   \n\n     profit/hash/hour  \n36       0.000000e+00  \n49       4.031861e-15  \n74       4.040346e-15  \n87       2.168786e-14  \n92       3.443451e-13  \n93       3.830323e-15  \n96       3.897685e-15  \n109      1.179008e-19  \n114      8.311497e-10  \n161      1.325120e-13  \n164      0.000000e+00  \n167      1.716293e-21  \n169      3.666440e-14  \n352      6.279413e-19  \n376      3.853095e-15  \n396      4.087954e-14  \n419      6.277364e-19  \n425      1.304337e-17  \n440      9.564421e-21  \n442      0.000000e+00  ",
      "text/html": "<div>\n<style scoped>\n    .dataframe tbody tr th:only-of-type {\n        vertical-align: middle;\n    }\n\n    .dataframe tbody tr th {\n        vertical-align: top;\n    }\n\n    .dataframe thead th {\n        text-align: right;\n    }\n</style>\n<table border=\"1\" class=\"dataframe\">\n  <thead>\n    <tr style=\"text-align: right;\">\n      <th></th>\n      <th>id</th>\n      <th>coin</th>\n      <th>name</th>\n      <th>type</th>\n      <th>algorithm</th>\n      <th>network_hashrate</th>\n      <th>difficulty</th>\n      <th>reward</th>\n      <th>reward_unit</th>\n      <th>reward_block</th>\n      <th>price</th>\n      <th>volume</th>\n      <th>updated</th>\n      <th>profit/hash/hour</th>\n    </tr>\n  </thead>\n  <tbody>\n    <tr>\n      <th>36</th>\n      <td>9b7bac51b9ca9ce6e9127154ae13995a48898ba0</td>\n      <td>ARG</td>\n      <td>ARG</td>\n      <td>coin</td>\n      <td>SHA-256</td>\n      <td>2.542841e+17</td>\n      <td>2.545541e+09</td>\n      <td>9.878335e-16</td>\n      <td>ARG</td>\n      <td>3.000000</td>\n      <td>0.000000</td>\n      <td>0.000000e+00</td>\n      <td>1657307202</td>\n      <td>0.000000e+00</td>\n    </tr>\n    <tr>\n      <th>49</th>\n      <td>627a53ff2ebe79d72a07208bb7e87231675828b8</td>\n      <td>BCH</td>\n      <td>Bitcoin Cash</td>\n      <td>coin</td>\n      <td>SHA-256</td>\n      <td>1.070000e+18</td>\n      <td>1.432609e+11</td>\n      <td>3.660576e-17</td>\n      <td>BCH</td>\n      <td>6.256543</td>\n      <td>110.142795</td>\n      <td>1.952728e+08</td>\n      <td>1657307184</td>\n      <td>4.031861e-15</td>\n    </tr>\n    <tr>\n      <th>74</th>\n      <td>a195fd59ce0ebc3f9b2d99b3c396ff198bcb4a5e</td>\n      <td>BTC</td>\n      <td>Bitcoin</td>\n      <td>coin</td>\n      <td>SHA-256</td>\n      <td>2.233728e+20</td>\n      <td>2.915280e+13</td>\n      <td>1.858386e-19</td>\n      <td>BTC</td>\n      <td>6.463586</td>\n      <td>21741.156227</td>\n      <td>5.203367e+10</td>\n      <td>1657307184</td>\n      <td>4.040346e-15</td>\n    </tr>\n    <tr>\n      <th>87</th>\n      <td>36d1ae382da84464510cc9e25576222dc5d5ba60</td>\n      <td>CKB</td>\n      <td>Nervos Network</td>\n      <td>coin</td>\n      <td>Eaglesong</td>\n      <td>8.395446e+16</td>\n      <td>7.404544e+17</td>\n      <td>5.813063e-12</td>\n      <td>CKB</td>\n      <td>1195.641034</td>\n      <td>0.003731</td>\n      <td>1.112271e+06</td>\n      <td>1657307174</td>\n      <td>2.168786e-14</td>\n    </tr>\n    <tr>\n      <th>92</th>\n      <td>d5504b55211bb42af5f08d01651f982c68f87552</td>\n      <td>DASH</td>\n      <td>Dash</td>\n      <td>coin</td>\n      <td>X11</td>\n      <td>3.897763e+15</td>\n      <td>1.398985e+08</td>\n      <td>7.451342e-15</td>\n      <td>DASH</td>\n      <td>1.243670</td>\n      <td>46.212490</td>\n      <td>9.424809e+07</td>\n      <td>1657307185</td>\n      <td>3.443451e-13</td>\n    </tr>\n    <tr>\n      <th>93</th>\n      <td>f8726335f3faec3a24cef1819ee40eb39e822248</td>\n      <td>DCR</td>\n      <td>Decred</td>\n      <td>coin</td>\n      <td>Blake (14r)</td>\n      <td>8.189704e+16</td>\n      <td>5.334825e+09</td>\n      <td>1.657130e-16</td>\n      <td>DCR</td>\n      <td>1.054712</td>\n      <td>23.114202</td>\n      <td>1.667457e+06</td>\n      <td>1657307183</td>\n      <td>3.830323e-15</td>\n    </tr>\n    <tr>\n      <th>96</th>\n      <td>97705878999f5a017372b6ab6527751703f3162d</td>\n      <td>DGB</td>\n      <td>DigiByte</td>\n      <td>coin</td>\n      <td>SHA-256</td>\n      <td>7.182288e+16</td>\n      <td>1.023262e+09</td>\n      <td>3.640257e-13</td>\n      <td>DGB</td>\n      <td>444.402198</td>\n      <td>0.010707</td>\n      <td>6.059528e+06</td>\n      <td>1657307173</td>\n      <td>3.897685e-15</td>\n    </tr>\n    <tr>\n      <th>109</th>\n      <td>7995c3996665afa7d3e0138f51aa68f50b22dac3</td>\n      <td>ELA</td>\n      <td>Elastos</td>\n      <td>coin</td>\n      <td>SHA-256</td>\n      <td>2.035821e+20</td>\n      <td>5.771442e+12</td>\n      <td>7.732721e-20</td>\n      <td>ELA</td>\n      <td>0.532444</td>\n      <td>1.524700</td>\n      <td>1.025964e+05</td>\n      <td>1657307182</td>\n      <td>1.179008e-19</td>\n    </tr>\n    <tr>\n      <th>114</th>\n      <td>31e1e1bcf3417b37586b0801d7a98d2346c9f30e</td>\n      <td>ETH</td>\n      <td>Ethereum</td>\n      <td>coin</td>\n      <td>Ethash</td>\n      <td>8.855315e+14</td>\n      <td>1.184330e+16</td>\n      <td>6.762200e-13</td>\n      <td>ETH</td>\n      <td>2.224632</td>\n      <td>1229.111390</td>\n      <td>1.613613e+10</td>\n      <td>1657307200</td>\n      <td>8.311497e-10</td>\n    </tr>\n    <tr>\n      <th>161</th>\n      <td>38392139b319f75dce86919638827966f84347d2</td>\n      <td>HNS</td>\n      <td>Handshake</td>\n      <td>coin</td>\n      <td>Handshake</td>\n      <td>6.932509e+15</td>\n      <td>9.070746e+08</td>\n      <td>1.853108e-12</td>\n      <td>HNS</td>\n      <td>2005.400000</td>\n      <td>0.071508</td>\n      <td>2.454919e+05</td>\n      <td>1657307191</td>\n      <td>1.325120e-13</td>\n    </tr>\n    <tr>\n      <th>164</th>\n      <td>1c1f3d3a7dcd925bac25cf583c59f083318fa0c6</td>\n      <td>INES</td>\n      <td>INES</td>\n      <td>coin</td>\n      <td>SHA-256</td>\n      <td>2.206347e+15</td>\n      <td>2.017460e+09</td>\n      <td>4.154681e-14</td>\n      <td>INES</td>\n      <td>100.000000</td>\n      <td>0.000000</td>\n      <td>0.000000e+00</td>\n      <td>1657307189</td>\n      <td>0.000000e+00</td>\n    </tr>\n    <tr>\n      <th>167</th>\n      <td>01989d932ff0df1f388264e6abe31e7cf2d49521</td>\n      <td>IXI</td>\n      <td>IxiCash</td>\n      <td>coin</td>\n      <td>ChukwaIXI</td>\n      <td>2.014876e+22</td>\n      <td>1.844674e+19</td>\n      <td>1.314361e-17</td>\n      <td>IXI</td>\n      <td>2304.000000</td>\n      <td>0.000131</td>\n      <td>2.659700e+02</td>\n      <td>1657307199</td>\n      <td>1.716293e-21</td>\n    </tr>\n    <tr>\n      <th>169</th>\n      <td>13b6341aa98fad5b44e7cb2a178e8b59f20cbe52</td>\n      <td>KDA</td>\n      <td>Kadena</td>\n      <td>coin</td>\n      <td>Blake (2s-Kadena)</td>\n      <td>1.246774e+17</td>\n      <td>1.647662e+17</td>\n      <td>2.301988e-14</td>\n      <td>KDA</td>\n      <td>1.053583</td>\n      <td>1.592728</td>\n      <td>7.911048e+06</td>\n      <td>1657307203</td>\n      <td>3.666440e-14</td>\n    </tr>\n    <tr>\n      <th>352</th>\n      <td>662aff88901045fc312477e2a68421cfc4fd1a2f</td>\n      <td>NMC</td>\n      <td>Namecoin</td>\n      <td>coin</td>\n      <td>SHA-256</td>\n      <td>1.182092e+20</td>\n      <td>1.998289e+13</td>\n      <td>5.246857e-19</td>\n      <td>NMC</td>\n      <td>12.508776</td>\n      <td>1.196795</td>\n      <td>7.120881e+03</td>\n      <td>1657307190</td>\n      <td>6.279413e-19</td>\n    </tr>\n    <tr>\n      <th>376</th>\n      <td>e48b6d5f287323243f35240e06ffd078cf94d146</td>\n      <td>PPC</td>\n      <td>Peercoin</td>\n      <td>coin</td>\n      <td>SHA-256</td>\n      <td>4.660387e+15</td>\n      <td>2.733681e+09</td>\n      <td>1.340832e-14</td>\n      <td>PPC</td>\n      <td>43.730000</td>\n      <td>0.287366</td>\n      <td>5.209315e+03</td>\n      <td>1657306835</td>\n      <td>3.853095e-15</td>\n    </tr>\n    <tr>\n      <th>396</th>\n      <td>a672b5abd4b313f7e50a8d5ec767e56caf2b8864</td>\n      <td>SC</td>\n      <td>Siacoin</td>\n      <td>coin</td>\n      <td>Blake (2b-Sia)</td>\n      <td>1.765702e+16</td>\n      <td>1.037800e+19</td>\n      <td>1.040739e-11</td>\n      <td>SC</td>\n      <td>30002.186010</td>\n      <td>0.003928</td>\n      <td>4.931659e+06</td>\n      <td>1657285246</td>\n      <td>4.087954e-14</td>\n    </tr>\n    <tr>\n      <th>419</th>\n      <td>72b2ca5b2c46ad2a1eff1153428c1ff8c4bdf47c</td>\n      <td>SYS</td>\n      <td>Syscoin</td>\n      <td>coin</td>\n      <td>SHA-256</td>\n      <td>4.065540e+19</td>\n      <td>1.635789e+12</td>\n      <td>4.099259e-18</td>\n      <td>SYS</td>\n      <td>8.000000</td>\n      <td>0.153134</td>\n      <td>4.319060e+06</td>\n      <td>1657307195</td>\n      <td>6.277364e-19</td>\n    </tr>\n    <tr>\n      <th>425</th>\n      <td>36f1c57eaba0f036bcc46abeac3207d684d250b8</td>\n      <td>TRC</td>\n      <td>Terracoin</td>\n      <td>coin</td>\n      <td>SHA-256</td>\n      <td>7.468975e+16</td>\n      <td>2.524168e+09</td>\n      <td>7.471486e-16</td>\n      <td>TRC</td>\n      <td>2.250000</td>\n      <td>0.017458</td>\n      <td>3.778975e+02</td>\n      <td>1657307201</td>\n      <td>1.304337e-17</td>\n    </tr>\n    <tr>\n      <th>440</th>\n      <td>3ce2fc71f2475da0ffc3eb96bc79dea3e9dc6145</td>\n      <td>UNO</td>\n      <td>Unobtainium</td>\n      <td>coin</td>\n      <td>SHA-256</td>\n      <td>1.843658e+17</td>\n      <td>7.591108e+09</td>\n      <td>1.104174e-18</td>\n      <td>UNO</td>\n      <td>0.010000</td>\n      <td>0.008662</td>\n      <td>1.340550e+03</td>\n      <td>1657307196</td>\n      <td>9.564421e-21</td>\n    </tr>\n    <tr>\n      <th>442</th>\n      <td>81cc54f95e5cdd4c6219ac819b211f7c2fa8faf2</td>\n      <td>VCASH</td>\n      <td>VCASH</td>\n      <td>coin</td>\n      <td>SHA-256</td>\n      <td>1.176289e+19</td>\n      <td>1.988478e+12</td>\n      <td>4.215235e-18</td>\n      <td>VCASH</td>\n      <td>10.000000</td>\n      <td>0.000000</td>\n      <td>0.000000e+00</td>\n      <td>1657307205</td>\n      <td>0.000000e+00</td>\n    </tr>\n  </tbody>\n</table>\n</div>"
     },
     "execution_count": 25,
     "metadata": {},
     "output_type": "execute_result"
    }
   ],
   "source": [
    "df = df[df[\"network_hashrate\"] > 500_000_000_000_000]\n",
    "df"
   ],
   "metadata": {
    "collapsed": false,
    "pycharm": {
     "name": "#%%\n"
    }
   }
  },
  {
   "cell_type": "markdown",
   "source": [
    "### Ethereum miner profit with 280MH/s"
   ],
   "metadata": {
    "collapsed": false
   }
  },
  {
   "cell_type": "code",
   "execution_count": 26,
   "outputs": [
    {
     "data": {
      "text/plain": "5.59"
     },
     "execution_count": 26,
     "metadata": {},
     "output_type": "execute_result"
    }
   ],
   "source": [
    "miner_power = 280 * 1_000_000   # 280 MH/s\n",
    "profit_per_day = miner_power * df[df[\"coin\"] == \"ETH\"][\"profit/hash/hour\"].iloc[0] * 24\n",
    "round(profit_per_day, 2)"
   ],
   "metadata": {
    "collapsed": false,
    "pycharm": {
     "name": "#%%\n"
    }
   }
  },
  {
   "cell_type": "markdown",
   "source": [
    "### Bitcoin miner with 110 TH/s -- Bitcoin miner s19 pro"
   ],
   "metadata": {
    "collapsed": false
   }
  },
  {
   "cell_type": "code",
   "execution_count": 27,
   "outputs": [
    {
     "data": {
      "text/plain": "10.67"
     },
     "execution_count": 27,
     "metadata": {},
     "output_type": "execute_result"
    }
   ],
   "source": [
    "miner_power = 110 * 1_000_000_000_000 # 110 TH/s\n",
    "profit_per_day = miner_power * df[df[\"coin\"] == \"BTC\"][\"profit/hash/hour\"].iloc[0] * 24\n",
    "round(profit_per_day, 2)"
   ],
   "metadata": {
    "collapsed": false,
    "pycharm": {
     "name": "#%%\n"
    }
   }
  },
  {
   "cell_type": "markdown",
   "source": [
    "# Findings\n",
    "## 1. These results are extremely accurate at least for these two coins --> Hard to say yet if more data is needed for more accurate prediction then over 2 years of investment"
   ],
   "metadata": {
    "collapsed": false
   }
  },
  {
   "cell_type": "code",
   "execution_count": 27,
   "outputs": [],
   "source": [],
   "metadata": {
    "collapsed": false,
    "pycharm": {
     "name": "#%%\n"
    }
   }
  }
 ],
 "metadata": {
  "kernelspec": {
   "display_name": "Python 3",
   "language": "python",
   "name": "python3"
  },
  "language_info": {
   "codemirror_mode": {
    "name": "ipython",
    "version": 2
   },
   "file_extension": ".py",
   "mimetype": "text/x-python",
   "name": "python",
   "nbconvert_exporter": "python",
   "pygments_lexer": "ipython2",
   "version": "2.7.6"
  }
 },
 "nbformat": 4,
 "nbformat_minor": 0
}