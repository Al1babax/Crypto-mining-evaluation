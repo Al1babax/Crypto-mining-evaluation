{
 "cells": [
  {
   "cell_type": "code",
   "execution_count": 1,
   "metadata": {
    "collapsed": true
   },
   "outputs": [],
   "source": [
    "import pymongo\n",
    "import pandas as pd"
   ]
  },
  {
   "cell_type": "markdown",
   "source": [
    "# Cryptomining profit calculator without electricity/ machine cost or shipping price"
   ],
   "metadata": {
    "collapsed": false
   }
  },
  {
   "cell_type": "code",
   "execution_count": 2,
   "outputs": [],
   "source": [
    "client = pymongo.MongoClient()\n",
    "filter1={}\n",
    "sort=list({\n",
    "              '_id': -1\n",
    "          }.items())\n",
    "limit=1\n",
    "\n",
    "result = client['Coin-Data']['Current_coin'].find(\n",
    "    filter=filter1,\n",
    "    sort=sort,\n",
    "    limit=limit\n",
    ")"
   ],
   "metadata": {
    "collapsed": false,
    "pycharm": {
     "name": "#%%\n"
    }
   }
  },
  {
   "cell_type": "code",
   "execution_count": 3,
   "outputs": [
    {
     "data": {
      "text/plain": "                                           id               coin       name  \\\n0    14c3fe48ff9f40cdb6e3619a3f421c2b9512058f              0XBTC  0xBitcoin   \n1    d845a5ff6aa05ec3baf417ff072dd9a961aa125f         2MINERS AE    2Miners   \n2    ce0ca34404f5cca9bc1f225d7749ad93935e6223       2MINERS BEAM    2Miners   \n3    fb323c821548459be7e486093f3d3ee09e8842d4        2MINERS BTG    2Miners   \n4    7f07faaf1f4301e108a2cd5a71578a85917038e4        2MINERS CKB    2Miners   \n..                                        ...                ...        ...   \n593  0f79869a997a4097825ab2291cb0b276fb737dbe  zpool YescryptR16      zpool   \n594  e8ad0b9a9882b19551c8ba34eb7fb6fa8cd928e7  zpool YescryptR24      zpool   \n595  39a481f5cf1fa6a137169caccc4ca6b395404fa4  zpool YescryptR32      zpool   \n596  af22d8fd19146c64bd664a07349673ce28dfc2ca     zpool YesPoWer      zpool   \n597  495b67bf143563811e00b3582de34f8425766c60                ZTC  Zent Cash   \n\n     type          algorithm  network_hashrate    difficulty        reward  \\\n0    coin      Solidity-SHA3               0.0  1.543687e+10  2.780055e-12   \n1    pool        CuckooCycle               0.0  0.000000e+00  5.694248e-02   \n2    pool        BeamHashIII               0.0  0.000000e+00  9.633151e-03   \n3    pool              Zhash               0.0  0.000000e+00  2.670663e-05   \n4    pool          Eaglesong               0.0  0.000000e+00  5.667028e-12   \n..    ...                ...               ...           ...           ...   \n593  pool        YescryptR16               0.0  0.000000e+00  1.754167e-10   \n594  pool        YescryptR24               0.0  0.000000e+00  2.843542e-11   \n595  pool        YescryptR32               0.0  0.000000e+00  2.254167e-10   \n596  pool           YesPoWer               0.0  0.000000e+00  1.870833e-10   \n597  coin  CryptoNightLiteV7          471053.0  3.004377e+07  1.772838e-07   \n\n    reward_unit  reward_block         price         volume     updated  \\\n0         0XBTC      50.00000  2.088585e-01  111090.289917  1657650253   \n1            AE       0.00000  7.059433e-02       0.000000  1657650601   \n2          BEAM       0.00000  1.313159e-01       0.000000  1657650601   \n3           BTG       0.00000  1.512211e+01       0.000000  1657650601   \n4           CKB       0.00000  3.979685e-03       0.000000  1657650601   \n..          ...           ...           ...            ...         ...   \n593         BTC       0.00000  1.983629e+04       0.000000  1657650601   \n594         BTC       0.00000  1.983629e+04       0.000000  1657650601   \n595         BTC       0.00000  1.983629e+04       0.000000  1657650601   \n596         BTC       0.00000  1.983629e+04       0.000000  1657650601   \n597         ZTC       0.00148  6.151280e-07     217.020000  1657650277   \n\n     profit/hash/hour  \n0        5.806381e-13  \n1        4.019816e-03  \n2        1.264986e-03  \n3        4.038605e-04  \n4        2.255299e-14  \n..                ...  \n593      3.479615e-06  \n594      5.640531e-07  \n595      4.471430e-06  \n596      3.711039e-06  \n597      1.090522e-13  \n\n[598 rows x 14 columns]",
      "text/html": "<div>\n<style scoped>\n    .dataframe tbody tr th:only-of-type {\n        vertical-align: middle;\n    }\n\n    .dataframe tbody tr th {\n        vertical-align: top;\n    }\n\n    .dataframe thead th {\n        text-align: right;\n    }\n</style>\n<table border=\"1\" class=\"dataframe\">\n  <thead>\n    <tr style=\"text-align: right;\">\n      <th></th>\n      <th>id</th>\n      <th>coin</th>\n      <th>name</th>\n      <th>type</th>\n      <th>algorithm</th>\n      <th>network_hashrate</th>\n      <th>difficulty</th>\n      <th>reward</th>\n      <th>reward_unit</th>\n      <th>reward_block</th>\n      <th>price</th>\n      <th>volume</th>\n      <th>updated</th>\n      <th>profit/hash/hour</th>\n    </tr>\n  </thead>\n  <tbody>\n    <tr>\n      <th>0</th>\n      <td>14c3fe48ff9f40cdb6e3619a3f421c2b9512058f</td>\n      <td>0XBTC</td>\n      <td>0xBitcoin</td>\n      <td>coin</td>\n      <td>Solidity-SHA3</td>\n      <td>0.0</td>\n      <td>1.543687e+10</td>\n      <td>2.780055e-12</td>\n      <td>0XBTC</td>\n      <td>50.00000</td>\n      <td>2.088585e-01</td>\n      <td>111090.289917</td>\n      <td>1657650253</td>\n      <td>5.806381e-13</td>\n    </tr>\n    <tr>\n      <th>1</th>\n      <td>d845a5ff6aa05ec3baf417ff072dd9a961aa125f</td>\n      <td>2MINERS AE</td>\n      <td>2Miners</td>\n      <td>pool</td>\n      <td>CuckooCycle</td>\n      <td>0.0</td>\n      <td>0.000000e+00</td>\n      <td>5.694248e-02</td>\n      <td>AE</td>\n      <td>0.00000</td>\n      <td>7.059433e-02</td>\n      <td>0.000000</td>\n      <td>1657650601</td>\n      <td>4.019816e-03</td>\n    </tr>\n    <tr>\n      <th>2</th>\n      <td>ce0ca34404f5cca9bc1f225d7749ad93935e6223</td>\n      <td>2MINERS BEAM</td>\n      <td>2Miners</td>\n      <td>pool</td>\n      <td>BeamHashIII</td>\n      <td>0.0</td>\n      <td>0.000000e+00</td>\n      <td>9.633151e-03</td>\n      <td>BEAM</td>\n      <td>0.00000</td>\n      <td>1.313159e-01</td>\n      <td>0.000000</td>\n      <td>1657650601</td>\n      <td>1.264986e-03</td>\n    </tr>\n    <tr>\n      <th>3</th>\n      <td>fb323c821548459be7e486093f3d3ee09e8842d4</td>\n      <td>2MINERS BTG</td>\n      <td>2Miners</td>\n      <td>pool</td>\n      <td>Zhash</td>\n      <td>0.0</td>\n      <td>0.000000e+00</td>\n      <td>2.670663e-05</td>\n      <td>BTG</td>\n      <td>0.00000</td>\n      <td>1.512211e+01</td>\n      <td>0.000000</td>\n      <td>1657650601</td>\n      <td>4.038605e-04</td>\n    </tr>\n    <tr>\n      <th>4</th>\n      <td>7f07faaf1f4301e108a2cd5a71578a85917038e4</td>\n      <td>2MINERS CKB</td>\n      <td>2Miners</td>\n      <td>pool</td>\n      <td>Eaglesong</td>\n      <td>0.0</td>\n      <td>0.000000e+00</td>\n      <td>5.667028e-12</td>\n      <td>CKB</td>\n      <td>0.00000</td>\n      <td>3.979685e-03</td>\n      <td>0.000000</td>\n      <td>1657650601</td>\n      <td>2.255299e-14</td>\n    </tr>\n    <tr>\n      <th>...</th>\n      <td>...</td>\n      <td>...</td>\n      <td>...</td>\n      <td>...</td>\n      <td>...</td>\n      <td>...</td>\n      <td>...</td>\n      <td>...</td>\n      <td>...</td>\n      <td>...</td>\n      <td>...</td>\n      <td>...</td>\n      <td>...</td>\n      <td>...</td>\n    </tr>\n    <tr>\n      <th>593</th>\n      <td>0f79869a997a4097825ab2291cb0b276fb737dbe</td>\n      <td>zpool YescryptR16</td>\n      <td>zpool</td>\n      <td>pool</td>\n      <td>YescryptR16</td>\n      <td>0.0</td>\n      <td>0.000000e+00</td>\n      <td>1.754167e-10</td>\n      <td>BTC</td>\n      <td>0.00000</td>\n      <td>1.983629e+04</td>\n      <td>0.000000</td>\n      <td>1657650601</td>\n      <td>3.479615e-06</td>\n    </tr>\n    <tr>\n      <th>594</th>\n      <td>e8ad0b9a9882b19551c8ba34eb7fb6fa8cd928e7</td>\n      <td>zpool YescryptR24</td>\n      <td>zpool</td>\n      <td>pool</td>\n      <td>YescryptR24</td>\n      <td>0.0</td>\n      <td>0.000000e+00</td>\n      <td>2.843542e-11</td>\n      <td>BTC</td>\n      <td>0.00000</td>\n      <td>1.983629e+04</td>\n      <td>0.000000</td>\n      <td>1657650601</td>\n      <td>5.640531e-07</td>\n    </tr>\n    <tr>\n      <th>595</th>\n      <td>39a481f5cf1fa6a137169caccc4ca6b395404fa4</td>\n      <td>zpool YescryptR32</td>\n      <td>zpool</td>\n      <td>pool</td>\n      <td>YescryptR32</td>\n      <td>0.0</td>\n      <td>0.000000e+00</td>\n      <td>2.254167e-10</td>\n      <td>BTC</td>\n      <td>0.00000</td>\n      <td>1.983629e+04</td>\n      <td>0.000000</td>\n      <td>1657650601</td>\n      <td>4.471430e-06</td>\n    </tr>\n    <tr>\n      <th>596</th>\n      <td>af22d8fd19146c64bd664a07349673ce28dfc2ca</td>\n      <td>zpool YesPoWer</td>\n      <td>zpool</td>\n      <td>pool</td>\n      <td>YesPoWer</td>\n      <td>0.0</td>\n      <td>0.000000e+00</td>\n      <td>1.870833e-10</td>\n      <td>BTC</td>\n      <td>0.00000</td>\n      <td>1.983629e+04</td>\n      <td>0.000000</td>\n      <td>1657650601</td>\n      <td>3.711039e-06</td>\n    </tr>\n    <tr>\n      <th>597</th>\n      <td>495b67bf143563811e00b3582de34f8425766c60</td>\n      <td>ZTC</td>\n      <td>Zent Cash</td>\n      <td>coin</td>\n      <td>CryptoNightLiteV7</td>\n      <td>471053.0</td>\n      <td>3.004377e+07</td>\n      <td>1.772838e-07</td>\n      <td>ZTC</td>\n      <td>0.00148</td>\n      <td>6.151280e-07</td>\n      <td>217.020000</td>\n      <td>1657650277</td>\n      <td>1.090522e-13</td>\n    </tr>\n  </tbody>\n</table>\n<p>598 rows × 14 columns</p>\n</div>"
     },
     "execution_count": 3,
     "metadata": {},
     "output_type": "execute_result"
    }
   ],
   "source": [
    "df = pd.DataFrame(result[0][\"data\"])\n",
    "df"
   ],
   "metadata": {
    "collapsed": false,
    "pycharm": {
     "name": "#%%\n"
    }
   }
  },
  {
   "cell_type": "code",
   "execution_count": 4,
   "outputs": [
    {
     "data": {
      "text/plain": "                                           id   coin            name  type  \\\n36   9b7bac51b9ca9ce6e9127154ae13995a48898ba0    ARG             ARG  coin   \n49   627a53ff2ebe79d72a07208bb7e87231675828b8    BCH    Bitcoin Cash  coin   \n74   a195fd59ce0ebc3f9b2d99b3c396ff198bcb4a5e    BTC         Bitcoin  coin   \n87   36d1ae382da84464510cc9e25576222dc5d5ba60    CKB  Nervos Network  coin   \n92   d5504b55211bb42af5f08d01651f982c68f87552   DASH            Dash  coin   \n93   f8726335f3faec3a24cef1819ee40eb39e822248    DCR          Decred  coin   \n96   97705878999f5a017372b6ab6527751703f3162d    DGB        DigiByte  coin   \n109  7995c3996665afa7d3e0138f51aa68f50b22dac3    ELA         Elastos  coin   \n114  31e1e1bcf3417b37586b0801d7a98d2346c9f30e    ETH        Ethereum  coin   \n161  38392139b319f75dce86919638827966f84347d2    HNS       Handshake  coin   \n164  1c1f3d3a7dcd925bac25cf583c59f083318fa0c6   INES            INES  coin   \n167  01989d932ff0df1f388264e6abe31e7cf2d49521    IXI         IxiCash  coin   \n169  13b6341aa98fad5b44e7cb2a178e8b59f20cbe52    KDA          Kadena  coin   \n351  662aff88901045fc312477e2a68421cfc4fd1a2f    NMC        Namecoin  coin   \n375  e48b6d5f287323243f35240e06ffd078cf94d146    PPC        Peercoin  coin   \n395  a672b5abd4b313f7e50a8d5ec767e56caf2b8864     SC         Siacoin  coin   \n417  72b2ca5b2c46ad2a1eff1153428c1ff8c4bdf47c    SYS         Syscoin  coin   \n423  36f1c57eaba0f036bcc46abeac3207d684d250b8    TRC       Terracoin  coin   \n438  3ce2fc71f2475da0ffc3eb96bc79dea3e9dc6145    UNO     Unobtainium  coin   \n440  81cc54f95e5cdd4c6219ac819b211f7c2fa8faf2  VCASH           VCASH  coin   \n\n             algorithm  network_hashrate    difficulty        reward  \\\n36             SHA-256      7.056449e+17  4.294509e+09  5.855317e-16   \n49             SHA-256      1.040000e+18  1.450970e+11  3.612775e-17   \n74             SHA-256      1.964172e+20  2.915280e+13  1.836086e-19   \n87           Eaglesong      8.412581e+16  1.065467e+18  5.472880e-12   \n92                 X11      3.113091e+15  1.102746e+08  9.453057e-15   \n93         Blake (14r)      8.213211e+16  5.709808e+09  1.552082e-16   \n96             SHA-256      1.075967e+17  1.153427e+09  3.229452e-13   \n109            SHA-256      2.237176e+20  5.860978e+12  7.614572e-20   \n114             Ethash      8.906708e+14  1.197336e+16  6.186421e-13   \n161          Handshake      6.928533e+15  9.456495e+08  1.780248e-12   \n164            SHA-256      2.310701e+15  2.112881e+09  3.967050e-14   \n167          ChukwaIXI      2.014876e+22  1.844674e+19  1.082029e-17   \n169  Blake (2s-Kadena)      8.685072e+16  1.786885e+17  2.122631e-14   \n351            SHA-256      1.182092e+20  1.998289e+13  5.243176e-19   \n375            SHA-256      3.470684e+15  2.746297e+09  1.333146e-14   \n395     Blake (2b-Sia)      1.743845e+16  9.978028e+18  1.082635e-11   \n417            SHA-256      4.236817e+19  1.374337e+12  4.879096e-18   \n423            SHA-256      1.628912e+17  4.580329e+09  4.117451e-16   \n438            SHA-256      1.327935e+17  5.617392e+09  1.492134e-18   \n440            SHA-256      1.135551e+19  1.919613e+12  4.366456e-18   \n\n    reward_unit  reward_block         price        volume     updated  \\\n36          ARG      3.000000      0.000000  0.000000e+00  1657650262   \n49          BCH      6.253984    100.288065  1.474049e+08  1657650263   \n74          BTC      6.386026  19836.287594  3.455487e+10  1657650265   \n87          CKB   1619.770455      0.003980  1.148181e+07  1657650254   \n92         DASH      1.243670     41.372508  8.383300e+07  1657650265   \n93          DCR      1.057289     21.441952  4.885664e+05  1657650263   \n96          DGB    444.402198      0.009271  3.749091e+06  1657650253   \n109         ELA      0.532443      1.467407  7.066474e+04  1657650262   \n114         ETH      2.057562   1073.660546  1.246599e+10  1657650279   \n161         HNS   2008.482148      0.069009  2.574443e+05  1657650271   \n164        INES    100.000000      0.000000  0.000000e+00  1657635149   \n167         IXI   2304.000000      0.000140  2.211400e+02  1657650279   \n169         KDA      1.053583      1.487305  3.812483e+06  1657650288   \n351         NMC     12.500000      1.124122  5.293175e+03  1657650270   \n375         PPC     43.680000      0.283081  4.138747e+03  1657650275   \n395          SC  30007.121240      0.003753  2.925850e+06  1657650324   \n417         SYS      8.000000      0.151139  1.342860e+06  1657650275   \n423         TRC      2.250000      0.016229  3.504013e+01  1657650281   \n438         UNO      0.010000      0.016061  2.462610e+03  1657650276   \n440       VCASH     10.000000      0.000000  0.000000e+00  1657650285   \n\n     profit/hash/hour  \n36       0.000000e+00  \n49       3.623182e-15  \n74       3.642113e-15  \n87       2.178034e-14  \n92       3.910967e-13  \n93       3.327967e-15  \n96       2.994091e-15  \n109      1.117367e-19  \n114      6.642116e-10  \n161      1.228539e-13  \n164      0.000000e+00  \n167      1.513110e-21  \n169      3.157000e-14  \n351      5.893971e-19  \n375      3.773890e-15  \n395      4.063024e-14  \n417      7.374202e-19  \n423      6.682376e-18  \n438      2.396576e-20  \n440      0.000000e+00  ",
      "text/html": "<div>\n<style scoped>\n    .dataframe tbody tr th:only-of-type {\n        vertical-align: middle;\n    }\n\n    .dataframe tbody tr th {\n        vertical-align: top;\n    }\n\n    .dataframe thead th {\n        text-align: right;\n    }\n</style>\n<table border=\"1\" class=\"dataframe\">\n  <thead>\n    <tr style=\"text-align: right;\">\n      <th></th>\n      <th>id</th>\n      <th>coin</th>\n      <th>name</th>\n      <th>type</th>\n      <th>algorithm</th>\n      <th>network_hashrate</th>\n      <th>difficulty</th>\n      <th>reward</th>\n      <th>reward_unit</th>\n      <th>reward_block</th>\n      <th>price</th>\n      <th>volume</th>\n      <th>updated</th>\n      <th>profit/hash/hour</th>\n    </tr>\n  </thead>\n  <tbody>\n    <tr>\n      <th>36</th>\n      <td>9b7bac51b9ca9ce6e9127154ae13995a48898ba0</td>\n      <td>ARG</td>\n      <td>ARG</td>\n      <td>coin</td>\n      <td>SHA-256</td>\n      <td>7.056449e+17</td>\n      <td>4.294509e+09</td>\n      <td>5.855317e-16</td>\n      <td>ARG</td>\n      <td>3.000000</td>\n      <td>0.000000</td>\n      <td>0.000000e+00</td>\n      <td>1657650262</td>\n      <td>0.000000e+00</td>\n    </tr>\n    <tr>\n      <th>49</th>\n      <td>627a53ff2ebe79d72a07208bb7e87231675828b8</td>\n      <td>BCH</td>\n      <td>Bitcoin Cash</td>\n      <td>coin</td>\n      <td>SHA-256</td>\n      <td>1.040000e+18</td>\n      <td>1.450970e+11</td>\n      <td>3.612775e-17</td>\n      <td>BCH</td>\n      <td>6.253984</td>\n      <td>100.288065</td>\n      <td>1.474049e+08</td>\n      <td>1657650263</td>\n      <td>3.623182e-15</td>\n    </tr>\n    <tr>\n      <th>74</th>\n      <td>a195fd59ce0ebc3f9b2d99b3c396ff198bcb4a5e</td>\n      <td>BTC</td>\n      <td>Bitcoin</td>\n      <td>coin</td>\n      <td>SHA-256</td>\n      <td>1.964172e+20</td>\n      <td>2.915280e+13</td>\n      <td>1.836086e-19</td>\n      <td>BTC</td>\n      <td>6.386026</td>\n      <td>19836.287594</td>\n      <td>3.455487e+10</td>\n      <td>1657650265</td>\n      <td>3.642113e-15</td>\n    </tr>\n    <tr>\n      <th>87</th>\n      <td>36d1ae382da84464510cc9e25576222dc5d5ba60</td>\n      <td>CKB</td>\n      <td>Nervos Network</td>\n      <td>coin</td>\n      <td>Eaglesong</td>\n      <td>8.412581e+16</td>\n      <td>1.065467e+18</td>\n      <td>5.472880e-12</td>\n      <td>CKB</td>\n      <td>1619.770455</td>\n      <td>0.003980</td>\n      <td>1.148181e+07</td>\n      <td>1657650254</td>\n      <td>2.178034e-14</td>\n    </tr>\n    <tr>\n      <th>92</th>\n      <td>d5504b55211bb42af5f08d01651f982c68f87552</td>\n      <td>DASH</td>\n      <td>Dash</td>\n      <td>coin</td>\n      <td>X11</td>\n      <td>3.113091e+15</td>\n      <td>1.102746e+08</td>\n      <td>9.453057e-15</td>\n      <td>DASH</td>\n      <td>1.243670</td>\n      <td>41.372508</td>\n      <td>8.383300e+07</td>\n      <td>1657650265</td>\n      <td>3.910967e-13</td>\n    </tr>\n    <tr>\n      <th>93</th>\n      <td>f8726335f3faec3a24cef1819ee40eb39e822248</td>\n      <td>DCR</td>\n      <td>Decred</td>\n      <td>coin</td>\n      <td>Blake (14r)</td>\n      <td>8.213211e+16</td>\n      <td>5.709808e+09</td>\n      <td>1.552082e-16</td>\n      <td>DCR</td>\n      <td>1.057289</td>\n      <td>21.441952</td>\n      <td>4.885664e+05</td>\n      <td>1657650263</td>\n      <td>3.327967e-15</td>\n    </tr>\n    <tr>\n      <th>96</th>\n      <td>97705878999f5a017372b6ab6527751703f3162d</td>\n      <td>DGB</td>\n      <td>DigiByte</td>\n      <td>coin</td>\n      <td>SHA-256</td>\n      <td>1.075967e+17</td>\n      <td>1.153427e+09</td>\n      <td>3.229452e-13</td>\n      <td>DGB</td>\n      <td>444.402198</td>\n      <td>0.009271</td>\n      <td>3.749091e+06</td>\n      <td>1657650253</td>\n      <td>2.994091e-15</td>\n    </tr>\n    <tr>\n      <th>109</th>\n      <td>7995c3996665afa7d3e0138f51aa68f50b22dac3</td>\n      <td>ELA</td>\n      <td>Elastos</td>\n      <td>coin</td>\n      <td>SHA-256</td>\n      <td>2.237176e+20</td>\n      <td>5.860978e+12</td>\n      <td>7.614572e-20</td>\n      <td>ELA</td>\n      <td>0.532443</td>\n      <td>1.467407</td>\n      <td>7.066474e+04</td>\n      <td>1657650262</td>\n      <td>1.117367e-19</td>\n    </tr>\n    <tr>\n      <th>114</th>\n      <td>31e1e1bcf3417b37586b0801d7a98d2346c9f30e</td>\n      <td>ETH</td>\n      <td>Ethereum</td>\n      <td>coin</td>\n      <td>Ethash</td>\n      <td>8.906708e+14</td>\n      <td>1.197336e+16</td>\n      <td>6.186421e-13</td>\n      <td>ETH</td>\n      <td>2.057562</td>\n      <td>1073.660546</td>\n      <td>1.246599e+10</td>\n      <td>1657650279</td>\n      <td>6.642116e-10</td>\n    </tr>\n    <tr>\n      <th>161</th>\n      <td>38392139b319f75dce86919638827966f84347d2</td>\n      <td>HNS</td>\n      <td>Handshake</td>\n      <td>coin</td>\n      <td>Handshake</td>\n      <td>6.928533e+15</td>\n      <td>9.456495e+08</td>\n      <td>1.780248e-12</td>\n      <td>HNS</td>\n      <td>2008.482148</td>\n      <td>0.069009</td>\n      <td>2.574443e+05</td>\n      <td>1657650271</td>\n      <td>1.228539e-13</td>\n    </tr>\n    <tr>\n      <th>164</th>\n      <td>1c1f3d3a7dcd925bac25cf583c59f083318fa0c6</td>\n      <td>INES</td>\n      <td>INES</td>\n      <td>coin</td>\n      <td>SHA-256</td>\n      <td>2.310701e+15</td>\n      <td>2.112881e+09</td>\n      <td>3.967050e-14</td>\n      <td>INES</td>\n      <td>100.000000</td>\n      <td>0.000000</td>\n      <td>0.000000e+00</td>\n      <td>1657635149</td>\n      <td>0.000000e+00</td>\n    </tr>\n    <tr>\n      <th>167</th>\n      <td>01989d932ff0df1f388264e6abe31e7cf2d49521</td>\n      <td>IXI</td>\n      <td>IxiCash</td>\n      <td>coin</td>\n      <td>ChukwaIXI</td>\n      <td>2.014876e+22</td>\n      <td>1.844674e+19</td>\n      <td>1.082029e-17</td>\n      <td>IXI</td>\n      <td>2304.000000</td>\n      <td>0.000140</td>\n      <td>2.211400e+02</td>\n      <td>1657650279</td>\n      <td>1.513110e-21</td>\n    </tr>\n    <tr>\n      <th>169</th>\n      <td>13b6341aa98fad5b44e7cb2a178e8b59f20cbe52</td>\n      <td>KDA</td>\n      <td>Kadena</td>\n      <td>coin</td>\n      <td>Blake (2s-Kadena)</td>\n      <td>8.685072e+16</td>\n      <td>1.786885e+17</td>\n      <td>2.122631e-14</td>\n      <td>KDA</td>\n      <td>1.053583</td>\n      <td>1.487305</td>\n      <td>3.812483e+06</td>\n      <td>1657650288</td>\n      <td>3.157000e-14</td>\n    </tr>\n    <tr>\n      <th>351</th>\n      <td>662aff88901045fc312477e2a68421cfc4fd1a2f</td>\n      <td>NMC</td>\n      <td>Namecoin</td>\n      <td>coin</td>\n      <td>SHA-256</td>\n      <td>1.182092e+20</td>\n      <td>1.998289e+13</td>\n      <td>5.243176e-19</td>\n      <td>NMC</td>\n      <td>12.500000</td>\n      <td>1.124122</td>\n      <td>5.293175e+03</td>\n      <td>1657650270</td>\n      <td>5.893971e-19</td>\n    </tr>\n    <tr>\n      <th>375</th>\n      <td>e48b6d5f287323243f35240e06ffd078cf94d146</td>\n      <td>PPC</td>\n      <td>Peercoin</td>\n      <td>coin</td>\n      <td>SHA-256</td>\n      <td>3.470684e+15</td>\n      <td>2.746297e+09</td>\n      <td>1.333146e-14</td>\n      <td>PPC</td>\n      <td>43.680000</td>\n      <td>0.283081</td>\n      <td>4.138747e+03</td>\n      <td>1657650275</td>\n      <td>3.773890e-15</td>\n    </tr>\n    <tr>\n      <th>395</th>\n      <td>a672b5abd4b313f7e50a8d5ec767e56caf2b8864</td>\n      <td>SC</td>\n      <td>Siacoin</td>\n      <td>coin</td>\n      <td>Blake (2b-Sia)</td>\n      <td>1.743845e+16</td>\n      <td>9.978028e+18</td>\n      <td>1.082635e-11</td>\n      <td>SC</td>\n      <td>30007.121240</td>\n      <td>0.003753</td>\n      <td>2.925850e+06</td>\n      <td>1657650324</td>\n      <td>4.063024e-14</td>\n    </tr>\n    <tr>\n      <th>417</th>\n      <td>72b2ca5b2c46ad2a1eff1153428c1ff8c4bdf47c</td>\n      <td>SYS</td>\n      <td>Syscoin</td>\n      <td>coin</td>\n      <td>SHA-256</td>\n      <td>4.236817e+19</td>\n      <td>1.374337e+12</td>\n      <td>4.879096e-18</td>\n      <td>SYS</td>\n      <td>8.000000</td>\n      <td>0.151139</td>\n      <td>1.342860e+06</td>\n      <td>1657650275</td>\n      <td>7.374202e-19</td>\n    </tr>\n    <tr>\n      <th>423</th>\n      <td>36f1c57eaba0f036bcc46abeac3207d684d250b8</td>\n      <td>TRC</td>\n      <td>Terracoin</td>\n      <td>coin</td>\n      <td>SHA-256</td>\n      <td>1.628912e+17</td>\n      <td>4.580329e+09</td>\n      <td>4.117451e-16</td>\n      <td>TRC</td>\n      <td>2.250000</td>\n      <td>0.016229</td>\n      <td>3.504013e+01</td>\n      <td>1657650281</td>\n      <td>6.682376e-18</td>\n    </tr>\n    <tr>\n      <th>438</th>\n      <td>3ce2fc71f2475da0ffc3eb96bc79dea3e9dc6145</td>\n      <td>UNO</td>\n      <td>Unobtainium</td>\n      <td>coin</td>\n      <td>SHA-256</td>\n      <td>1.327935e+17</td>\n      <td>5.617392e+09</td>\n      <td>1.492134e-18</td>\n      <td>UNO</td>\n      <td>0.010000</td>\n      <td>0.016061</td>\n      <td>2.462610e+03</td>\n      <td>1657650276</td>\n      <td>2.396576e-20</td>\n    </tr>\n    <tr>\n      <th>440</th>\n      <td>81cc54f95e5cdd4c6219ac819b211f7c2fa8faf2</td>\n      <td>VCASH</td>\n      <td>VCASH</td>\n      <td>coin</td>\n      <td>SHA-256</td>\n      <td>1.135551e+19</td>\n      <td>1.919613e+12</td>\n      <td>4.366456e-18</td>\n      <td>VCASH</td>\n      <td>10.000000</td>\n      <td>0.000000</td>\n      <td>0.000000e+00</td>\n      <td>1657650285</td>\n      <td>0.000000e+00</td>\n    </tr>\n  </tbody>\n</table>\n</div>"
     },
     "execution_count": 4,
     "metadata": {},
     "output_type": "execute_result"
    }
   ],
   "source": [
    "df = df[df[\"network_hashrate\"] > 500_000_000_000_000]\n",
    "df"
   ],
   "metadata": {
    "collapsed": false,
    "pycharm": {
     "name": "#%%\n"
    }
   }
  },
  {
   "cell_type": "markdown",
   "source": [
    "### Ethereum miner profit with 280MH/s"
   ],
   "metadata": {
    "collapsed": false
   }
  },
  {
   "cell_type": "code",
   "execution_count": 5,
   "outputs": [
    {
     "data": {
      "text/plain": "4.46"
     },
     "execution_count": 5,
     "metadata": {},
     "output_type": "execute_result"
    }
   ],
   "source": [
    "miner_power = 280 * 1_000_000   # 280 MH/s\n",
    "profit_per_day = miner_power * df[df[\"coin\"] == \"ETH\"][\"profit/hash/hour\"].iloc[0] * 24\n",
    "round(profit_per_day, 2)"
   ],
   "metadata": {
    "collapsed": false,
    "pycharm": {
     "name": "#%%\n"
    }
   }
  },
  {
   "cell_type": "markdown",
   "source": [
    "### Bitcoin miner with 110 TH/s -- Bitcoin miner s19 pro"
   ],
   "metadata": {
    "collapsed": false
   }
  },
  {
   "cell_type": "code",
   "execution_count": 6,
   "outputs": [
    {
     "data": {
      "text/plain": "9.62"
     },
     "execution_count": 6,
     "metadata": {},
     "output_type": "execute_result"
    }
   ],
   "source": [
    "miner_power = 110 * 1_000_000_000_000 # 110 TH/s\n",
    "profit_per_day = miner_power * df[df[\"coin\"] == \"BTC\"][\"profit/hash/hour\"].iloc[0] * 24\n",
    "round(profit_per_day, 2)"
   ],
   "metadata": {
    "collapsed": false,
    "pycharm": {
     "name": "#%%\n"
    }
   }
  },
  {
   "cell_type": "markdown",
   "source": [
    "# Findings\n",
    "## 1. These results are extremely accurate at least for these two coins --> Hard to say yet if more data is needed for more accurate prediction then over 2 years of investment"
   ],
   "metadata": {
    "collapsed": false
   }
  },
  {
   "cell_type": "code",
   "execution_count": 6,
   "outputs": [],
   "source": [],
   "metadata": {
    "collapsed": false,
    "pycharm": {
     "name": "#%%\n"
    }
   }
  }
 ],
 "metadata": {
  "kernelspec": {
   "display_name": "Python 3",
   "language": "python",
   "name": "python3"
  },
  "language_info": {
   "codemirror_mode": {
    "name": "ipython",
    "version": 2
   },
   "file_extension": ".py",
   "mimetype": "text/x-python",
   "name": "python",
   "nbconvert_exporter": "python",
   "pygments_lexer": "ipython2",
   "version": "2.7.6"
  }
 },
 "nbformat": 4,
 "nbformat_minor": 0
}