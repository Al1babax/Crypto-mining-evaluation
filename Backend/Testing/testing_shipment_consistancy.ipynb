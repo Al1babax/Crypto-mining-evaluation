{
 "cells": [
  {
   "cell_type": "code",
   "execution_count": 7,
   "outputs": [],
   "source": [
    "import pandas as pd\n",
    "import pymongo"
   ],
   "metadata": {
    "collapsed": false,
    "pycharm": {
     "name": "#%%\n"
    }
   }
  },
  {
   "cell_type": "code",
   "execution_count": 8,
   "outputs": [],
   "source": [
    "client = pymongo.MongoClient('localhost', 27017)\n",
    "col = client[\"Shipments\"][\"international_routes\"]\n",
    "results = col.find({})"
   ],
   "metadata": {
    "collapsed": false,
    "pycharm": {
     "name": "#%%\n"
    }
   }
  },
  {
   "cell_type": "code",
   "execution_count": 9,
   "outputs": [],
   "source": [
    "df1 = pd.DataFrame(results[0][\"data\"])\n",
    "df2 = pd.DataFrame(results[1][\"data\"])"
   ],
   "metadata": {
    "collapsed": false,
    "pycharm": {
     "name": "#%%\n"
    }
   }
  },
  {
   "cell_type": "code",
   "execution_count": 10,
   "outputs": [
    {
     "data": {
      "text/plain": "   class  size(inch cube)  weight (lb)     from        to  price ($)\n0   150%      1267.128499    27.623248    China   Finland        653\n1   150%      1267.128499    27.623248    China  New York        275\n2   150%      1267.128499    27.623248  Germany   Finland        111\n3   150%      1267.128499    27.623248  Germany  New York        248\n4   150%      1267.128499    27.623248    Texas   Finland        194\n5   150%      1267.128499    27.623248    Texas  New York         39\n6   125%      1055.940415    23.019374    China   Finland        569\n7   125%      1055.940415    23.019374    China  New York        248\n8   125%      1055.940415    23.019374  Germany   Finland        111\n9   125%      1055.940415    23.019374  Germany  New York        220\n10  125%      1055.940415    23.019374    Texas   Finland        149\n11  125%      1055.940415    23.019374    Texas  New York         33\n12  100%       844.752332    18.415499    China   Finland        499\n13  100%       844.752332    18.415499    China  New York        220\n14  100%       844.752332    18.415499  Germany   Finland        103\n15  100%       844.752332    18.415499  Germany  New York        194\n16  100%       844.752332    18.415499    Texas   Finland        140\n17  100%       844.752332    18.415499    Texas  New York         24\n18   75%       633.564249    13.811624    China   Finland        430\n19   75%       633.564249    13.811624    China  New York        191\n20   75%       633.564249    13.811624  Germany   Finland         98\n21   75%       633.564249    13.811624  Germany  New York        171\n22   75%       633.564249    13.811624    Texas   Finland        126\n23   75%       633.564249    13.811624    Texas  New York         23\n24   50%       422.376166     9.207749    China   Finland        360\n25   50%       422.376166     9.207749    China  New York        139\n26   50%       422.376166     9.207749  Germany   Finland         98\n27   50%       422.376166     9.207749  Germany  New York        139\n28   50%       422.376166     9.207749    Texas   Finland         98\n29   50%       422.376166     9.207749    Texas  New York         18",
      "text/html": "<div>\n<style scoped>\n    .dataframe tbody tr th:only-of-type {\n        vertical-align: middle;\n    }\n\n    .dataframe tbody tr th {\n        vertical-align: top;\n    }\n\n    .dataframe thead th {\n        text-align: right;\n    }\n</style>\n<table border=\"1\" class=\"dataframe\">\n  <thead>\n    <tr style=\"text-align: right;\">\n      <th></th>\n      <th>class</th>\n      <th>size(inch cube)</th>\n      <th>weight (lb)</th>\n      <th>from</th>\n      <th>to</th>\n      <th>price ($)</th>\n    </tr>\n  </thead>\n  <tbody>\n    <tr>\n      <th>0</th>\n      <td>150%</td>\n      <td>1267.128499</td>\n      <td>27.623248</td>\n      <td>China</td>\n      <td>Finland</td>\n      <td>653</td>\n    </tr>\n    <tr>\n      <th>1</th>\n      <td>150%</td>\n      <td>1267.128499</td>\n      <td>27.623248</td>\n      <td>China</td>\n      <td>New York</td>\n      <td>275</td>\n    </tr>\n    <tr>\n      <th>2</th>\n      <td>150%</td>\n      <td>1267.128499</td>\n      <td>27.623248</td>\n      <td>Germany</td>\n      <td>Finland</td>\n      <td>111</td>\n    </tr>\n    <tr>\n      <th>3</th>\n      <td>150%</td>\n      <td>1267.128499</td>\n      <td>27.623248</td>\n      <td>Germany</td>\n      <td>New York</td>\n      <td>248</td>\n    </tr>\n    <tr>\n      <th>4</th>\n      <td>150%</td>\n      <td>1267.128499</td>\n      <td>27.623248</td>\n      <td>Texas</td>\n      <td>Finland</td>\n      <td>194</td>\n    </tr>\n    <tr>\n      <th>5</th>\n      <td>150%</td>\n      <td>1267.128499</td>\n      <td>27.623248</td>\n      <td>Texas</td>\n      <td>New York</td>\n      <td>39</td>\n    </tr>\n    <tr>\n      <th>6</th>\n      <td>125%</td>\n      <td>1055.940415</td>\n      <td>23.019374</td>\n      <td>China</td>\n      <td>Finland</td>\n      <td>569</td>\n    </tr>\n    <tr>\n      <th>7</th>\n      <td>125%</td>\n      <td>1055.940415</td>\n      <td>23.019374</td>\n      <td>China</td>\n      <td>New York</td>\n      <td>248</td>\n    </tr>\n    <tr>\n      <th>8</th>\n      <td>125%</td>\n      <td>1055.940415</td>\n      <td>23.019374</td>\n      <td>Germany</td>\n      <td>Finland</td>\n      <td>111</td>\n    </tr>\n    <tr>\n      <th>9</th>\n      <td>125%</td>\n      <td>1055.940415</td>\n      <td>23.019374</td>\n      <td>Germany</td>\n      <td>New York</td>\n      <td>220</td>\n    </tr>\n    <tr>\n      <th>10</th>\n      <td>125%</td>\n      <td>1055.940415</td>\n      <td>23.019374</td>\n      <td>Texas</td>\n      <td>Finland</td>\n      <td>149</td>\n    </tr>\n    <tr>\n      <th>11</th>\n      <td>125%</td>\n      <td>1055.940415</td>\n      <td>23.019374</td>\n      <td>Texas</td>\n      <td>New York</td>\n      <td>33</td>\n    </tr>\n    <tr>\n      <th>12</th>\n      <td>100%</td>\n      <td>844.752332</td>\n      <td>18.415499</td>\n      <td>China</td>\n      <td>Finland</td>\n      <td>499</td>\n    </tr>\n    <tr>\n      <th>13</th>\n      <td>100%</td>\n      <td>844.752332</td>\n      <td>18.415499</td>\n      <td>China</td>\n      <td>New York</td>\n      <td>220</td>\n    </tr>\n    <tr>\n      <th>14</th>\n      <td>100%</td>\n      <td>844.752332</td>\n      <td>18.415499</td>\n      <td>Germany</td>\n      <td>Finland</td>\n      <td>103</td>\n    </tr>\n    <tr>\n      <th>15</th>\n      <td>100%</td>\n      <td>844.752332</td>\n      <td>18.415499</td>\n      <td>Germany</td>\n      <td>New York</td>\n      <td>194</td>\n    </tr>\n    <tr>\n      <th>16</th>\n      <td>100%</td>\n      <td>844.752332</td>\n      <td>18.415499</td>\n      <td>Texas</td>\n      <td>Finland</td>\n      <td>140</td>\n    </tr>\n    <tr>\n      <th>17</th>\n      <td>100%</td>\n      <td>844.752332</td>\n      <td>18.415499</td>\n      <td>Texas</td>\n      <td>New York</td>\n      <td>24</td>\n    </tr>\n    <tr>\n      <th>18</th>\n      <td>75%</td>\n      <td>633.564249</td>\n      <td>13.811624</td>\n      <td>China</td>\n      <td>Finland</td>\n      <td>430</td>\n    </tr>\n    <tr>\n      <th>19</th>\n      <td>75%</td>\n      <td>633.564249</td>\n      <td>13.811624</td>\n      <td>China</td>\n      <td>New York</td>\n      <td>191</td>\n    </tr>\n    <tr>\n      <th>20</th>\n      <td>75%</td>\n      <td>633.564249</td>\n      <td>13.811624</td>\n      <td>Germany</td>\n      <td>Finland</td>\n      <td>98</td>\n    </tr>\n    <tr>\n      <th>21</th>\n      <td>75%</td>\n      <td>633.564249</td>\n      <td>13.811624</td>\n      <td>Germany</td>\n      <td>New York</td>\n      <td>171</td>\n    </tr>\n    <tr>\n      <th>22</th>\n      <td>75%</td>\n      <td>633.564249</td>\n      <td>13.811624</td>\n      <td>Texas</td>\n      <td>Finland</td>\n      <td>126</td>\n    </tr>\n    <tr>\n      <th>23</th>\n      <td>75%</td>\n      <td>633.564249</td>\n      <td>13.811624</td>\n      <td>Texas</td>\n      <td>New York</td>\n      <td>23</td>\n    </tr>\n    <tr>\n      <th>24</th>\n      <td>50%</td>\n      <td>422.376166</td>\n      <td>9.207749</td>\n      <td>China</td>\n      <td>Finland</td>\n      <td>360</td>\n    </tr>\n    <tr>\n      <th>25</th>\n      <td>50%</td>\n      <td>422.376166</td>\n      <td>9.207749</td>\n      <td>China</td>\n      <td>New York</td>\n      <td>139</td>\n    </tr>\n    <tr>\n      <th>26</th>\n      <td>50%</td>\n      <td>422.376166</td>\n      <td>9.207749</td>\n      <td>Germany</td>\n      <td>Finland</td>\n      <td>98</td>\n    </tr>\n    <tr>\n      <th>27</th>\n      <td>50%</td>\n      <td>422.376166</td>\n      <td>9.207749</td>\n      <td>Germany</td>\n      <td>New York</td>\n      <td>139</td>\n    </tr>\n    <tr>\n      <th>28</th>\n      <td>50%</td>\n      <td>422.376166</td>\n      <td>9.207749</td>\n      <td>Texas</td>\n      <td>Finland</td>\n      <td>98</td>\n    </tr>\n    <tr>\n      <th>29</th>\n      <td>50%</td>\n      <td>422.376166</td>\n      <td>9.207749</td>\n      <td>Texas</td>\n      <td>New York</td>\n      <td>18</td>\n    </tr>\n  </tbody>\n</table>\n</div>"
     },
     "execution_count": 10,
     "metadata": {},
     "output_type": "execute_result"
    }
   ],
   "source": [
    "df1"
   ],
   "metadata": {
    "collapsed": false,
    "pycharm": {
     "name": "#%%\n"
    }
   }
  },
  {
   "cell_type": "code",
   "execution_count": 11,
   "outputs": [
    {
     "data": {
      "text/plain": "   class  size(inch cube)  weight (lb)     from        to  price ($)\n0   150%      1267.640765    27.625424    China   Finland        653\n1   150%      1267.640765    27.625424    China  New York        275\n2   150%      1267.640765    27.625424  Germany   Finland        112\n3   150%      1267.640765    27.625424  Germany  New York        250\n4   150%      1267.640765    27.625424    Texas   Finland        198\n5   150%      1267.640765    27.625424    Texas  New York         39\n6   125%      1056.367304    23.021187    China   Finland        569\n7   125%      1056.367304    23.021187    China  New York        248\n8   125%      1056.367304    23.021187  Germany   Finland        112\n9   125%      1056.367304    23.021187  Germany  New York        222\n10  125%      1056.367304    23.021187    Texas   Finland        151\n11  125%      1056.367304    23.021187    Texas  New York         33\n12  100%       845.093843    18.416949    China   Finland        499\n13  100%       845.093843    18.416949    China  New York        220\n14  100%       845.093843    18.416949  Germany   Finland        104\n15  100%       845.093843    18.416949  Germany  New York        195\n16  100%       845.093843    18.416949    Texas   Finland        141\n17  100%       845.093843    18.416949    Texas  New York         16\n18   75%       633.820382    13.812712    China   Finland        430\n19   75%       633.820382    13.812712    China  New York        192\n20   75%       633.820382    13.812712  Germany   Finland         99\n21   75%       633.820382    13.812712  Germany  New York        172\n22   75%       633.820382    13.812712    Texas   Finland        126\n23   75%       633.820382    13.812712    Texas  New York         16\n24   50%       422.546922     9.208475    China   Finland        360\n25   50%       422.546922     9.208475    China  New York        140\n26   50%       422.546922     9.208475  Germany   Finland         99\n27   50%       422.546922     9.208475  Germany  New York        140\n28   50%       422.546922     9.208475    Texas   Finland         99\n29   50%       422.546922     9.208475    Texas  New York         14",
      "text/html": "<div>\n<style scoped>\n    .dataframe tbody tr th:only-of-type {\n        vertical-align: middle;\n    }\n\n    .dataframe tbody tr th {\n        vertical-align: top;\n    }\n\n    .dataframe thead th {\n        text-align: right;\n    }\n</style>\n<table border=\"1\" class=\"dataframe\">\n  <thead>\n    <tr style=\"text-align: right;\">\n      <th></th>\n      <th>class</th>\n      <th>size(inch cube)</th>\n      <th>weight (lb)</th>\n      <th>from</th>\n      <th>to</th>\n      <th>price ($)</th>\n    </tr>\n  </thead>\n  <tbody>\n    <tr>\n      <th>0</th>\n      <td>150%</td>\n      <td>1267.640765</td>\n      <td>27.625424</td>\n      <td>China</td>\n      <td>Finland</td>\n      <td>653</td>\n    </tr>\n    <tr>\n      <th>1</th>\n      <td>150%</td>\n      <td>1267.640765</td>\n      <td>27.625424</td>\n      <td>China</td>\n      <td>New York</td>\n      <td>275</td>\n    </tr>\n    <tr>\n      <th>2</th>\n      <td>150%</td>\n      <td>1267.640765</td>\n      <td>27.625424</td>\n      <td>Germany</td>\n      <td>Finland</td>\n      <td>112</td>\n    </tr>\n    <tr>\n      <th>3</th>\n      <td>150%</td>\n      <td>1267.640765</td>\n      <td>27.625424</td>\n      <td>Germany</td>\n      <td>New York</td>\n      <td>250</td>\n    </tr>\n    <tr>\n      <th>4</th>\n      <td>150%</td>\n      <td>1267.640765</td>\n      <td>27.625424</td>\n      <td>Texas</td>\n      <td>Finland</td>\n      <td>198</td>\n    </tr>\n    <tr>\n      <th>5</th>\n      <td>150%</td>\n      <td>1267.640765</td>\n      <td>27.625424</td>\n      <td>Texas</td>\n      <td>New York</td>\n      <td>39</td>\n    </tr>\n    <tr>\n      <th>6</th>\n      <td>125%</td>\n      <td>1056.367304</td>\n      <td>23.021187</td>\n      <td>China</td>\n      <td>Finland</td>\n      <td>569</td>\n    </tr>\n    <tr>\n      <th>7</th>\n      <td>125%</td>\n      <td>1056.367304</td>\n      <td>23.021187</td>\n      <td>China</td>\n      <td>New York</td>\n      <td>248</td>\n    </tr>\n    <tr>\n      <th>8</th>\n      <td>125%</td>\n      <td>1056.367304</td>\n      <td>23.021187</td>\n      <td>Germany</td>\n      <td>Finland</td>\n      <td>112</td>\n    </tr>\n    <tr>\n      <th>9</th>\n      <td>125%</td>\n      <td>1056.367304</td>\n      <td>23.021187</td>\n      <td>Germany</td>\n      <td>New York</td>\n      <td>222</td>\n    </tr>\n    <tr>\n      <th>10</th>\n      <td>125%</td>\n      <td>1056.367304</td>\n      <td>23.021187</td>\n      <td>Texas</td>\n      <td>Finland</td>\n      <td>151</td>\n    </tr>\n    <tr>\n      <th>11</th>\n      <td>125%</td>\n      <td>1056.367304</td>\n      <td>23.021187</td>\n      <td>Texas</td>\n      <td>New York</td>\n      <td>33</td>\n    </tr>\n    <tr>\n      <th>12</th>\n      <td>100%</td>\n      <td>845.093843</td>\n      <td>18.416949</td>\n      <td>China</td>\n      <td>Finland</td>\n      <td>499</td>\n    </tr>\n    <tr>\n      <th>13</th>\n      <td>100%</td>\n      <td>845.093843</td>\n      <td>18.416949</td>\n      <td>China</td>\n      <td>New York</td>\n      <td>220</td>\n    </tr>\n    <tr>\n      <th>14</th>\n      <td>100%</td>\n      <td>845.093843</td>\n      <td>18.416949</td>\n      <td>Germany</td>\n      <td>Finland</td>\n      <td>104</td>\n    </tr>\n    <tr>\n      <th>15</th>\n      <td>100%</td>\n      <td>845.093843</td>\n      <td>18.416949</td>\n      <td>Germany</td>\n      <td>New York</td>\n      <td>195</td>\n    </tr>\n    <tr>\n      <th>16</th>\n      <td>100%</td>\n      <td>845.093843</td>\n      <td>18.416949</td>\n      <td>Texas</td>\n      <td>Finland</td>\n      <td>141</td>\n    </tr>\n    <tr>\n      <th>17</th>\n      <td>100%</td>\n      <td>845.093843</td>\n      <td>18.416949</td>\n      <td>Texas</td>\n      <td>New York</td>\n      <td>16</td>\n    </tr>\n    <tr>\n      <th>18</th>\n      <td>75%</td>\n      <td>633.820382</td>\n      <td>13.812712</td>\n      <td>China</td>\n      <td>Finland</td>\n      <td>430</td>\n    </tr>\n    <tr>\n      <th>19</th>\n      <td>75%</td>\n      <td>633.820382</td>\n      <td>13.812712</td>\n      <td>China</td>\n      <td>New York</td>\n      <td>192</td>\n    </tr>\n    <tr>\n      <th>20</th>\n      <td>75%</td>\n      <td>633.820382</td>\n      <td>13.812712</td>\n      <td>Germany</td>\n      <td>Finland</td>\n      <td>99</td>\n    </tr>\n    <tr>\n      <th>21</th>\n      <td>75%</td>\n      <td>633.820382</td>\n      <td>13.812712</td>\n      <td>Germany</td>\n      <td>New York</td>\n      <td>172</td>\n    </tr>\n    <tr>\n      <th>22</th>\n      <td>75%</td>\n      <td>633.820382</td>\n      <td>13.812712</td>\n      <td>Texas</td>\n      <td>Finland</td>\n      <td>126</td>\n    </tr>\n    <tr>\n      <th>23</th>\n      <td>75%</td>\n      <td>633.820382</td>\n      <td>13.812712</td>\n      <td>Texas</td>\n      <td>New York</td>\n      <td>16</td>\n    </tr>\n    <tr>\n      <th>24</th>\n      <td>50%</td>\n      <td>422.546922</td>\n      <td>9.208475</td>\n      <td>China</td>\n      <td>Finland</td>\n      <td>360</td>\n    </tr>\n    <tr>\n      <th>25</th>\n      <td>50%</td>\n      <td>422.546922</td>\n      <td>9.208475</td>\n      <td>China</td>\n      <td>New York</td>\n      <td>140</td>\n    </tr>\n    <tr>\n      <th>26</th>\n      <td>50%</td>\n      <td>422.546922</td>\n      <td>9.208475</td>\n      <td>Germany</td>\n      <td>Finland</td>\n      <td>99</td>\n    </tr>\n    <tr>\n      <th>27</th>\n      <td>50%</td>\n      <td>422.546922</td>\n      <td>9.208475</td>\n      <td>Germany</td>\n      <td>New York</td>\n      <td>140</td>\n    </tr>\n    <tr>\n      <th>28</th>\n      <td>50%</td>\n      <td>422.546922</td>\n      <td>9.208475</td>\n      <td>Texas</td>\n      <td>Finland</td>\n      <td>99</td>\n    </tr>\n    <tr>\n      <th>29</th>\n      <td>50%</td>\n      <td>422.546922</td>\n      <td>9.208475</td>\n      <td>Texas</td>\n      <td>New York</td>\n      <td>14</td>\n    </tr>\n  </tbody>\n</table>\n</div>"
     },
     "execution_count": 11,
     "metadata": {},
     "output_type": "execute_result"
    }
   ],
   "source": [
    "df2"
   ],
   "metadata": {
    "collapsed": false,
    "pycharm": {
     "name": "#%%\n"
    }
   }
  },
  {
   "cell_type": "code",
   "execution_count": 16,
   "outputs": [
    {
     "data": {
      "text/plain": "99.949358541526"
     },
     "execution_count": 16,
     "metadata": {},
     "output_type": "execute_result"
    }
   ],
   "source": [
    "# compare \"price ($)\" column values between two dataframes and print the % total difference\n",
    "df1[\"price ($)\"].sum() / df2[\"price ($)\"].sum() * 100"
   ],
   "metadata": {
    "collapsed": false,
    "pycharm": {
     "name": "#%%\n"
    }
   }
  },
  {
   "cell_type": "code",
   "execution_count": 17,
   "outputs": [
    {
     "data": {
      "text/plain": "   class  size(inch cube)  weight (lb)     from        to  price ($)\n2   150%      1267.128499    27.623248  Germany   Finland        111\n3   150%      1267.128499    27.623248  Germany  New York        248\n4   150%      1267.128499    27.623248    Texas   Finland        194\n8   125%      1055.940415    23.019374  Germany   Finland        111\n9   125%      1055.940415    23.019374  Germany  New York        220\n10  125%      1055.940415    23.019374    Texas   Finland        149\n14  100%       844.752332    18.415499  Germany   Finland        103\n15  100%       844.752332    18.415499  Germany  New York        194\n16  100%       844.752332    18.415499    Texas   Finland        140\n17  100%       844.752332    18.415499    Texas  New York         24\n19   75%       633.564249    13.811624    China  New York        191\n20   75%       633.564249    13.811624  Germany   Finland         98\n21   75%       633.564249    13.811624  Germany  New York        171\n23   75%       633.564249    13.811624    Texas  New York         23\n25   50%       422.376166     9.207749    China  New York        139\n26   50%       422.376166     9.207749  Germany   Finland         98\n27   50%       422.376166     9.207749  Germany  New York        139\n28   50%       422.376166     9.207749    Texas   Finland         98\n29   50%       422.376166     9.207749    Texas  New York         18",
      "text/html": "<div>\n<style scoped>\n    .dataframe tbody tr th:only-of-type {\n        vertical-align: middle;\n    }\n\n    .dataframe tbody tr th {\n        vertical-align: top;\n    }\n\n    .dataframe thead th {\n        text-align: right;\n    }\n</style>\n<table border=\"1\" class=\"dataframe\">\n  <thead>\n    <tr style=\"text-align: right;\">\n      <th></th>\n      <th>class</th>\n      <th>size(inch cube)</th>\n      <th>weight (lb)</th>\n      <th>from</th>\n      <th>to</th>\n      <th>price ($)</th>\n    </tr>\n  </thead>\n  <tbody>\n    <tr>\n      <th>2</th>\n      <td>150%</td>\n      <td>1267.128499</td>\n      <td>27.623248</td>\n      <td>Germany</td>\n      <td>Finland</td>\n      <td>111</td>\n    </tr>\n    <tr>\n      <th>3</th>\n      <td>150%</td>\n      <td>1267.128499</td>\n      <td>27.623248</td>\n      <td>Germany</td>\n      <td>New York</td>\n      <td>248</td>\n    </tr>\n    <tr>\n      <th>4</th>\n      <td>150%</td>\n      <td>1267.128499</td>\n      <td>27.623248</td>\n      <td>Texas</td>\n      <td>Finland</td>\n      <td>194</td>\n    </tr>\n    <tr>\n      <th>8</th>\n      <td>125%</td>\n      <td>1055.940415</td>\n      <td>23.019374</td>\n      <td>Germany</td>\n      <td>Finland</td>\n      <td>111</td>\n    </tr>\n    <tr>\n      <th>9</th>\n      <td>125%</td>\n      <td>1055.940415</td>\n      <td>23.019374</td>\n      <td>Germany</td>\n      <td>New York</td>\n      <td>220</td>\n    </tr>\n    <tr>\n      <th>10</th>\n      <td>125%</td>\n      <td>1055.940415</td>\n      <td>23.019374</td>\n      <td>Texas</td>\n      <td>Finland</td>\n      <td>149</td>\n    </tr>\n    <tr>\n      <th>14</th>\n      <td>100%</td>\n      <td>844.752332</td>\n      <td>18.415499</td>\n      <td>Germany</td>\n      <td>Finland</td>\n      <td>103</td>\n    </tr>\n    <tr>\n      <th>15</th>\n      <td>100%</td>\n      <td>844.752332</td>\n      <td>18.415499</td>\n      <td>Germany</td>\n      <td>New York</td>\n      <td>194</td>\n    </tr>\n    <tr>\n      <th>16</th>\n      <td>100%</td>\n      <td>844.752332</td>\n      <td>18.415499</td>\n      <td>Texas</td>\n      <td>Finland</td>\n      <td>140</td>\n    </tr>\n    <tr>\n      <th>17</th>\n      <td>100%</td>\n      <td>844.752332</td>\n      <td>18.415499</td>\n      <td>Texas</td>\n      <td>New York</td>\n      <td>24</td>\n    </tr>\n    <tr>\n      <th>19</th>\n      <td>75%</td>\n      <td>633.564249</td>\n      <td>13.811624</td>\n      <td>China</td>\n      <td>New York</td>\n      <td>191</td>\n    </tr>\n    <tr>\n      <th>20</th>\n      <td>75%</td>\n      <td>633.564249</td>\n      <td>13.811624</td>\n      <td>Germany</td>\n      <td>Finland</td>\n      <td>98</td>\n    </tr>\n    <tr>\n      <th>21</th>\n      <td>75%</td>\n      <td>633.564249</td>\n      <td>13.811624</td>\n      <td>Germany</td>\n      <td>New York</td>\n      <td>171</td>\n    </tr>\n    <tr>\n      <th>23</th>\n      <td>75%</td>\n      <td>633.564249</td>\n      <td>13.811624</td>\n      <td>Texas</td>\n      <td>New York</td>\n      <td>23</td>\n    </tr>\n    <tr>\n      <th>25</th>\n      <td>50%</td>\n      <td>422.376166</td>\n      <td>9.207749</td>\n      <td>China</td>\n      <td>New York</td>\n      <td>139</td>\n    </tr>\n    <tr>\n      <th>26</th>\n      <td>50%</td>\n      <td>422.376166</td>\n      <td>9.207749</td>\n      <td>Germany</td>\n      <td>Finland</td>\n      <td>98</td>\n    </tr>\n    <tr>\n      <th>27</th>\n      <td>50%</td>\n      <td>422.376166</td>\n      <td>9.207749</td>\n      <td>Germany</td>\n      <td>New York</td>\n      <td>139</td>\n    </tr>\n    <tr>\n      <th>28</th>\n      <td>50%</td>\n      <td>422.376166</td>\n      <td>9.207749</td>\n      <td>Texas</td>\n      <td>Finland</td>\n      <td>98</td>\n    </tr>\n    <tr>\n      <th>29</th>\n      <td>50%</td>\n      <td>422.376166</td>\n      <td>9.207749</td>\n      <td>Texas</td>\n      <td>New York</td>\n      <td>18</td>\n    </tr>\n  </tbody>\n</table>\n</div>"
     },
     "execution_count": 17,
     "metadata": {},
     "output_type": "execute_result"
    }
   ],
   "source": [
    "# check which rows in df1 are different compared to df2 based on \"price ($)\" column values\n",
    "df1[df1[\"price ($)\"] != df2[\"price ($)\"]]"
   ],
   "metadata": {
    "collapsed": false,
    "pycharm": {
     "name": "#%%\n"
    }
   }
  },
  {
   "cell_type": "code",
   "execution_count": null,
   "outputs": [],
   "source": [],
   "metadata": {
    "collapsed": false,
    "pycharm": {
     "name": "#%%\n"
    }
   }
  }
 ],
 "metadata": {
  "kernelspec": {
   "display_name": "Python 3",
   "language": "python",
   "name": "python3"
  },
  "language_info": {
   "codemirror_mode": {
    "name": "ipython",
    "version": 2
   },
   "file_extension": ".py",
   "mimetype": "text/x-python",
   "name": "python",
   "nbconvert_exporter": "python",
   "pygments_lexer": "ipython2",
   "version": "2.7.6"
  }
 },
 "nbformat": 4,
 "nbformat_minor": 0
}