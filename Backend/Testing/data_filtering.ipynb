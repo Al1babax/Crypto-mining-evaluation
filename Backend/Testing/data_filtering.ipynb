{
 "cells": [
  {
   "cell_type": "code",
   "execution_count": 106,
   "outputs": [],
   "source": [
    "import pandas as pd\n",
    "import pymongo\n",
    "import numpy as np"
   ],
   "metadata": {
    "collapsed": false,
    "pycharm": {
     "name": "#%%\n"
    }
   }
  },
  {
   "cell_type": "code",
   "execution_count": 107,
   "outputs": [],
   "source": [
    "country = \"Finland\"\n",
    "client = pymongo.MongoClient('localhost', 27017)\n",
    "col = client[\"API_data\"][\"invest_profit\"]\n",
    "doc = col.find_one({\"country/state\": country})\n",
    "all_data_df = pd.DataFrame(doc[\"data\"])"
   ],
   "metadata": {
    "collapsed": false,
    "pycharm": {
     "name": "#%%\n"
    }
   }
  },
  {
   "cell_type": "code",
   "execution_count": 108,
   "outputs": [
    {
     "data": {
      "text/plain": "                      machine_name   coin              name  type algorithm  \\\n0     Bitmain_Antminer D7 (1286Gh)  OMEGA             OMEGA  coin       x11   \n1     Bitmain_Antminer D7 (1286Gh)    DGC       Digitalcoin  coin       x11   \n2                    Goldshell_LT6   SCHO  Scholarship Coin  coin    scrypt   \n3      Bitmain_Antminer L7 (9.5Gh)   SCHO  Scholarship Coin  coin    scrypt   \n4     Bitmain_Antminer L7 (9.16Gh)   SCHO  Scholarship Coin  coin    scrypt   \n...                            ...    ...               ...   ...       ...   \n2984           Innosilicon_T3+ 52T    NMC          Namecoin  coin   sha-256   \n2985           Innosilicon_T3+ 52T    PPC          Peercoin  coin   sha-256   \n2986           Innosilicon_T3+ 52T   SMLY        SmileyCoin  coin   sha-256   \n2987           Innosilicon_T3+ 52T    SYS           Syscoin  coin   sha-256   \n2988                    Bitfury_B8    VLS             Veles  coin   sha-256   \n\n     reward_unit final_profit_hourly final_profit_daily final_profit_monthly  \\\n0          OMEGA               30.44             730.52             21915.74   \n1            DGC               18.72             449.26             13477.82   \n2           SCHO                8.09             194.25              5827.52   \n3           SCHO               23.79             571.07             17132.13   \n4           SCHO               22.92             550.19             16505.82   \n...          ...                 ...                ...                  ...   \n2984         NMC               -0.33              -7.87              -236.08   \n2985         PPC               -0.09               -2.1                -63.1   \n2986        SMLY               -0.25              -5.92              -177.69   \n2987         SYS               -0.33              -7.87              -236.08   \n2988         VLS               -0.95             -22.82               -684.5   \n\n                                        cheapest_market cheapest_price  \\\n0     {'store_name': 'MillionMiner', 'non_ship_price...         7400.0   \n1     {'store_name': 'MillionMiner', 'non_ship_price...         7400.0   \n2     {'store_name': 'NHASH', 'non_ship_price': 3899...        4834.76   \n3     {'store_name': 'CoinMining Central', 'non_ship...       15994.76   \n4     {'store_name': 'BT-Miners', 'non_ship_price': ...       15745.52   \n...                                                 ...            ...   \n2984                                       Out of stock            0.0   \n2985                                       Out of stock            0.0   \n2986                                       Out of stock            0.0   \n2987                                       Out of stock            0.0   \n2988                                       Out of stock            0.0   \n\n     ROI_days total_profit profit_after_ROI investment_profit yearly_profit  \n0          10    533282.89        525882.89           7106.53       3553.26  \n1          16    327960.26        320560.26            4331.9       2165.95  \n2          24    141802.93        136968.17           2832.99        1416.5  \n3          28    416881.72        400886.96           2506.36       1253.18  \n4          28    401641.63        385896.11           2450.83       1225.42  \n...       ...          ...              ...               ...           ...  \n2984        0          0.0              0.0               0.0           0.0  \n2985        0          0.0              0.0               0.0           0.0  \n2986        0          0.0              0.0               0.0           0.0  \n2987        0          0.0              0.0               0.0           0.0  \n2988        0          0.0              0.0               0.0           0.0  \n\n[2989 rows x 16 columns]",
      "text/html": "<div>\n<style scoped>\n    .dataframe tbody tr th:only-of-type {\n        vertical-align: middle;\n    }\n\n    .dataframe tbody tr th {\n        vertical-align: top;\n    }\n\n    .dataframe thead th {\n        text-align: right;\n    }\n</style>\n<table border=\"1\" class=\"dataframe\">\n  <thead>\n    <tr style=\"text-align: right;\">\n      <th></th>\n      <th>machine_name</th>\n      <th>coin</th>\n      <th>name</th>\n      <th>type</th>\n      <th>algorithm</th>\n      <th>reward_unit</th>\n      <th>final_profit_hourly</th>\n      <th>final_profit_daily</th>\n      <th>final_profit_monthly</th>\n      <th>cheapest_market</th>\n      <th>cheapest_price</th>\n      <th>ROI_days</th>\n      <th>total_profit</th>\n      <th>profit_after_ROI</th>\n      <th>investment_profit</th>\n      <th>yearly_profit</th>\n    </tr>\n  </thead>\n  <tbody>\n    <tr>\n      <th>0</th>\n      <td>Bitmain_Antminer D7 (1286Gh)</td>\n      <td>OMEGA</td>\n      <td>OMEGA</td>\n      <td>coin</td>\n      <td>x11</td>\n      <td>OMEGA</td>\n      <td>30.44</td>\n      <td>730.52</td>\n      <td>21915.74</td>\n      <td>{'store_name': 'MillionMiner', 'non_ship_price...</td>\n      <td>7400.0</td>\n      <td>10</td>\n      <td>533282.89</td>\n      <td>525882.89</td>\n      <td>7106.53</td>\n      <td>3553.26</td>\n    </tr>\n    <tr>\n      <th>1</th>\n      <td>Bitmain_Antminer D7 (1286Gh)</td>\n      <td>DGC</td>\n      <td>Digitalcoin</td>\n      <td>coin</td>\n      <td>x11</td>\n      <td>DGC</td>\n      <td>18.72</td>\n      <td>449.26</td>\n      <td>13477.82</td>\n      <td>{'store_name': 'MillionMiner', 'non_ship_price...</td>\n      <td>7400.0</td>\n      <td>16</td>\n      <td>327960.26</td>\n      <td>320560.26</td>\n      <td>4331.9</td>\n      <td>2165.95</td>\n    </tr>\n    <tr>\n      <th>2</th>\n      <td>Goldshell_LT6</td>\n      <td>SCHO</td>\n      <td>Scholarship Coin</td>\n      <td>coin</td>\n      <td>scrypt</td>\n      <td>SCHO</td>\n      <td>8.09</td>\n      <td>194.25</td>\n      <td>5827.52</td>\n      <td>{'store_name': 'NHASH', 'non_ship_price': 3899...</td>\n      <td>4834.76</td>\n      <td>24</td>\n      <td>141802.93</td>\n      <td>136968.17</td>\n      <td>2832.99</td>\n      <td>1416.5</td>\n    </tr>\n    <tr>\n      <th>3</th>\n      <td>Bitmain_Antminer L7 (9.5Gh)</td>\n      <td>SCHO</td>\n      <td>Scholarship Coin</td>\n      <td>coin</td>\n      <td>scrypt</td>\n      <td>SCHO</td>\n      <td>23.79</td>\n      <td>571.07</td>\n      <td>17132.13</td>\n      <td>{'store_name': 'CoinMining Central', 'non_ship...</td>\n      <td>15994.76</td>\n      <td>28</td>\n      <td>416881.72</td>\n      <td>400886.96</td>\n      <td>2506.36</td>\n      <td>1253.18</td>\n    </tr>\n    <tr>\n      <th>4</th>\n      <td>Bitmain_Antminer L7 (9.16Gh)</td>\n      <td>SCHO</td>\n      <td>Scholarship Coin</td>\n      <td>coin</td>\n      <td>scrypt</td>\n      <td>SCHO</td>\n      <td>22.92</td>\n      <td>550.19</td>\n      <td>16505.82</td>\n      <td>{'store_name': 'BT-Miners', 'non_ship_price': ...</td>\n      <td>15745.52</td>\n      <td>28</td>\n      <td>401641.63</td>\n      <td>385896.11</td>\n      <td>2450.83</td>\n      <td>1225.42</td>\n    </tr>\n    <tr>\n      <th>...</th>\n      <td>...</td>\n      <td>...</td>\n      <td>...</td>\n      <td>...</td>\n      <td>...</td>\n      <td>...</td>\n      <td>...</td>\n      <td>...</td>\n      <td>...</td>\n      <td>...</td>\n      <td>...</td>\n      <td>...</td>\n      <td>...</td>\n      <td>...</td>\n      <td>...</td>\n      <td>...</td>\n    </tr>\n    <tr>\n      <th>2984</th>\n      <td>Innosilicon_T3+ 52T</td>\n      <td>NMC</td>\n      <td>Namecoin</td>\n      <td>coin</td>\n      <td>sha-256</td>\n      <td>NMC</td>\n      <td>-0.33</td>\n      <td>-7.87</td>\n      <td>-236.08</td>\n      <td>Out of stock</td>\n      <td>0.0</td>\n      <td>0</td>\n      <td>0.0</td>\n      <td>0.0</td>\n      <td>0.0</td>\n      <td>0.0</td>\n    </tr>\n    <tr>\n      <th>2985</th>\n      <td>Innosilicon_T3+ 52T</td>\n      <td>PPC</td>\n      <td>Peercoin</td>\n      <td>coin</td>\n      <td>sha-256</td>\n      <td>PPC</td>\n      <td>-0.09</td>\n      <td>-2.1</td>\n      <td>-63.1</td>\n      <td>Out of stock</td>\n      <td>0.0</td>\n      <td>0</td>\n      <td>0.0</td>\n      <td>0.0</td>\n      <td>0.0</td>\n      <td>0.0</td>\n    </tr>\n    <tr>\n      <th>2986</th>\n      <td>Innosilicon_T3+ 52T</td>\n      <td>SMLY</td>\n      <td>SmileyCoin</td>\n      <td>coin</td>\n      <td>sha-256</td>\n      <td>SMLY</td>\n      <td>-0.25</td>\n      <td>-5.92</td>\n      <td>-177.69</td>\n      <td>Out of stock</td>\n      <td>0.0</td>\n      <td>0</td>\n      <td>0.0</td>\n      <td>0.0</td>\n      <td>0.0</td>\n      <td>0.0</td>\n    </tr>\n    <tr>\n      <th>2987</th>\n      <td>Innosilicon_T3+ 52T</td>\n      <td>SYS</td>\n      <td>Syscoin</td>\n      <td>coin</td>\n      <td>sha-256</td>\n      <td>SYS</td>\n      <td>-0.33</td>\n      <td>-7.87</td>\n      <td>-236.08</td>\n      <td>Out of stock</td>\n      <td>0.0</td>\n      <td>0</td>\n      <td>0.0</td>\n      <td>0.0</td>\n      <td>0.0</td>\n      <td>0.0</td>\n    </tr>\n    <tr>\n      <th>2988</th>\n      <td>Bitfury_B8</td>\n      <td>VLS</td>\n      <td>Veles</td>\n      <td>coin</td>\n      <td>sha-256</td>\n      <td>VLS</td>\n      <td>-0.95</td>\n      <td>-22.82</td>\n      <td>-684.5</td>\n      <td>Out of stock</td>\n      <td>0.0</td>\n      <td>0</td>\n      <td>0.0</td>\n      <td>0.0</td>\n      <td>0.0</td>\n      <td>0.0</td>\n    </tr>\n  </tbody>\n</table>\n<p>2989 rows × 16 columns</p>\n</div>"
     },
     "execution_count": 108,
     "metadata": {},
     "output_type": "execute_result"
    }
   ],
   "source": [
    "all_data_df"
   ],
   "metadata": {
    "collapsed": false,
    "pycharm": {
     "name": "#%%\n"
    }
   }
  },
  {
   "cell_type": "code",
   "execution_count": 109,
   "outputs": [
    {
     "data": {
      "text/plain": "                          machine_name coin      name  type algorithm  \\\n19         Bitmain_Antminer E9 (2.4Gh)  ETH  Ethereum  coin    ethash   \n21    Innosilicon_A11 Pro ETH (1500Mh)  ETH  Ethereum  coin    ethash   \n22                           iPollo_V1  ETH  Ethereum  coin    ethash   \n23    Innosilicon_A10 Pro+ ETH (750Mh)  ETH  Ethereum  coin    ethash   \n32                      iPollo_V1 Mini  ETH  Ethereum  coin    ethash   \n34                      Jasminer_X4-1U  ETH  Ethereum  coin    ethash   \n37                    Jasminer_X4-C 1U  ETH  Ethereum  coin    ethash   \n39                         Jasminer_X4  ETH  Ethereum  coin    ethash   \n59     Innosilicon_A10 Pro ETH (500Mh)  ETH  Ethereum  coin    ethash   \n2205                 Jasminer_X4 BRICK  ETH  Ethereum  coin    ethash   \n\n     reward_unit final_profit_hourly final_profit_daily final_profit_monthly  \\\n19           ETH                2.32               55.7              1670.86   \n21           ETH                1.28               30.7               920.87   \n22           ETH                3.45              82.76              2482.68   \n23           ETH                0.61              14.72               441.65   \n32           ETH                0.29               6.96               208.86   \n34           ETH                0.53               12.7               380.91   \n37           ETH                0.45              10.79               323.59   \n39           ETH                2.54              60.88              1826.33   \n59           ETH                 0.4                9.6                288.0   \n2205         ETH                0.07               1.59                47.61   \n\n                                        cheapest_market cheapest_price  \\\n19    {'store_name': 'Casa Miners', 'non_ship_price'...        12062.0   \n21    {'store_name': 'MillionMiner', 'non_ship_price...         9022.0   \n22    {'store_name': 'AKMiner', 'non_ship_price': 20...       25170.76   \n23    {'store_name': 'MillionMiner', 'non_ship_price...         4561.0   \n32    {'store_name': 'Casa Miners', 'non_ship_price'...         2786.0   \n34    {'store_name': 'Casa Miners', 'non_ship_price'...         5261.0   \n37    {'store_name': 'Jingle Mining', 'non_ship_pric...        4528.48   \n39    {'store_name': 'Jingle Mining', 'non_ship_pric...       26228.48   \n59    {'store_name': 'MillionMiner', 'non_ship_price...         6994.0   \n2205  {'store_name': 'Jingle Mining', 'non_ship_pric...        1375.16   \n\n     ROI_days total_profit profit_after_ROI investment_profit yearly_profit  \n19        216     40657.54         28595.54            237.07        118.54  \n21        293     22407.74         13385.74            148.37         74.18  \n22        304     60411.78         35241.02            140.01          70.0  \n23        309     10746.85          6185.85            135.62         67.81  \n32        400      5082.19          2296.19             82.42         41.21  \n34        414      9268.76          4007.76             76.18         38.09  \n37        419      7874.11          3345.63             73.88         36.94  \n39        430     44440.81         18212.33             69.44         34.72  \n59        728      7007.88            13.88               0.2           0.1  \n2205    never      1158.59              0.0               0.0           0.0  ",
      "text/html": "<div>\n<style scoped>\n    .dataframe tbody tr th:only-of-type {\n        vertical-align: middle;\n    }\n\n    .dataframe tbody tr th {\n        vertical-align: top;\n    }\n\n    .dataframe thead th {\n        text-align: right;\n    }\n</style>\n<table border=\"1\" class=\"dataframe\">\n  <thead>\n    <tr style=\"text-align: right;\">\n      <th></th>\n      <th>machine_name</th>\n      <th>coin</th>\n      <th>name</th>\n      <th>type</th>\n      <th>algorithm</th>\n      <th>reward_unit</th>\n      <th>final_profit_hourly</th>\n      <th>final_profit_daily</th>\n      <th>final_profit_monthly</th>\n      <th>cheapest_market</th>\n      <th>cheapest_price</th>\n      <th>ROI_days</th>\n      <th>total_profit</th>\n      <th>profit_after_ROI</th>\n      <th>investment_profit</th>\n      <th>yearly_profit</th>\n    </tr>\n  </thead>\n  <tbody>\n    <tr>\n      <th>19</th>\n      <td>Bitmain_Antminer E9 (2.4Gh)</td>\n      <td>ETH</td>\n      <td>Ethereum</td>\n      <td>coin</td>\n      <td>ethash</td>\n      <td>ETH</td>\n      <td>2.32</td>\n      <td>55.7</td>\n      <td>1670.86</td>\n      <td>{'store_name': 'Casa Miners', 'non_ship_price'...</td>\n      <td>12062.0</td>\n      <td>216</td>\n      <td>40657.54</td>\n      <td>28595.54</td>\n      <td>237.07</td>\n      <td>118.54</td>\n    </tr>\n    <tr>\n      <th>21</th>\n      <td>Innosilicon_A11 Pro ETH (1500Mh)</td>\n      <td>ETH</td>\n      <td>Ethereum</td>\n      <td>coin</td>\n      <td>ethash</td>\n      <td>ETH</td>\n      <td>1.28</td>\n      <td>30.7</td>\n      <td>920.87</td>\n      <td>{'store_name': 'MillionMiner', 'non_ship_price...</td>\n      <td>9022.0</td>\n      <td>293</td>\n      <td>22407.74</td>\n      <td>13385.74</td>\n      <td>148.37</td>\n      <td>74.18</td>\n    </tr>\n    <tr>\n      <th>22</th>\n      <td>iPollo_V1</td>\n      <td>ETH</td>\n      <td>Ethereum</td>\n      <td>coin</td>\n      <td>ethash</td>\n      <td>ETH</td>\n      <td>3.45</td>\n      <td>82.76</td>\n      <td>2482.68</td>\n      <td>{'store_name': 'AKMiner', 'non_ship_price': 20...</td>\n      <td>25170.76</td>\n      <td>304</td>\n      <td>60411.78</td>\n      <td>35241.02</td>\n      <td>140.01</td>\n      <td>70.0</td>\n    </tr>\n    <tr>\n      <th>23</th>\n      <td>Innosilicon_A10 Pro+ ETH (750Mh)</td>\n      <td>ETH</td>\n      <td>Ethereum</td>\n      <td>coin</td>\n      <td>ethash</td>\n      <td>ETH</td>\n      <td>0.61</td>\n      <td>14.72</td>\n      <td>441.65</td>\n      <td>{'store_name': 'MillionMiner', 'non_ship_price...</td>\n      <td>4561.0</td>\n      <td>309</td>\n      <td>10746.85</td>\n      <td>6185.85</td>\n      <td>135.62</td>\n      <td>67.81</td>\n    </tr>\n    <tr>\n      <th>32</th>\n      <td>iPollo_V1 Mini</td>\n      <td>ETH</td>\n      <td>Ethereum</td>\n      <td>coin</td>\n      <td>ethash</td>\n      <td>ETH</td>\n      <td>0.29</td>\n      <td>6.96</td>\n      <td>208.86</td>\n      <td>{'store_name': 'Casa Miners', 'non_ship_price'...</td>\n      <td>2786.0</td>\n      <td>400</td>\n      <td>5082.19</td>\n      <td>2296.19</td>\n      <td>82.42</td>\n      <td>41.21</td>\n    </tr>\n    <tr>\n      <th>34</th>\n      <td>Jasminer_X4-1U</td>\n      <td>ETH</td>\n      <td>Ethereum</td>\n      <td>coin</td>\n      <td>ethash</td>\n      <td>ETH</td>\n      <td>0.53</td>\n      <td>12.7</td>\n      <td>380.91</td>\n      <td>{'store_name': 'Casa Miners', 'non_ship_price'...</td>\n      <td>5261.0</td>\n      <td>414</td>\n      <td>9268.76</td>\n      <td>4007.76</td>\n      <td>76.18</td>\n      <td>38.09</td>\n    </tr>\n    <tr>\n      <th>37</th>\n      <td>Jasminer_X4-C 1U</td>\n      <td>ETH</td>\n      <td>Ethereum</td>\n      <td>coin</td>\n      <td>ethash</td>\n      <td>ETH</td>\n      <td>0.45</td>\n      <td>10.79</td>\n      <td>323.59</td>\n      <td>{'store_name': 'Jingle Mining', 'non_ship_pric...</td>\n      <td>4528.48</td>\n      <td>419</td>\n      <td>7874.11</td>\n      <td>3345.63</td>\n      <td>73.88</td>\n      <td>36.94</td>\n    </tr>\n    <tr>\n      <th>39</th>\n      <td>Jasminer_X4</td>\n      <td>ETH</td>\n      <td>Ethereum</td>\n      <td>coin</td>\n      <td>ethash</td>\n      <td>ETH</td>\n      <td>2.54</td>\n      <td>60.88</td>\n      <td>1826.33</td>\n      <td>{'store_name': 'Jingle Mining', 'non_ship_pric...</td>\n      <td>26228.48</td>\n      <td>430</td>\n      <td>44440.81</td>\n      <td>18212.33</td>\n      <td>69.44</td>\n      <td>34.72</td>\n    </tr>\n    <tr>\n      <th>59</th>\n      <td>Innosilicon_A10 Pro ETH (500Mh)</td>\n      <td>ETH</td>\n      <td>Ethereum</td>\n      <td>coin</td>\n      <td>ethash</td>\n      <td>ETH</td>\n      <td>0.4</td>\n      <td>9.6</td>\n      <td>288.0</td>\n      <td>{'store_name': 'MillionMiner', 'non_ship_price...</td>\n      <td>6994.0</td>\n      <td>728</td>\n      <td>7007.88</td>\n      <td>13.88</td>\n      <td>0.2</td>\n      <td>0.1</td>\n    </tr>\n    <tr>\n      <th>2205</th>\n      <td>Jasminer_X4 BRICK</td>\n      <td>ETH</td>\n      <td>Ethereum</td>\n      <td>coin</td>\n      <td>ethash</td>\n      <td>ETH</td>\n      <td>0.07</td>\n      <td>1.59</td>\n      <td>47.61</td>\n      <td>{'store_name': 'Jingle Mining', 'non_ship_pric...</td>\n      <td>1375.16</td>\n      <td>never</td>\n      <td>1158.59</td>\n      <td>0.0</td>\n      <td>0.0</td>\n      <td>0.0</td>\n    </tr>\n  </tbody>\n</table>\n</div>"
     },
     "execution_count": 109,
     "metadata": {},
     "output_type": "execute_result"
    }
   ],
   "source": [
    "# filter all_data_df coin to ETH\n",
    "all_data_df_eth = all_data_df[all_data_df[\"coin\"] == \"ETH\"]\n",
    "all_data_df_eth"
   ],
   "metadata": {
    "collapsed": false,
    "pycharm": {
     "name": "#%%\n"
    }
   }
  }
 ],
 "metadata": {
  "kernelspec": {
   "display_name": "Python 3",
   "language": "python",
   "name": "python3"
  },
  "language_info": {
   "codemirror_mode": {
    "name": "ipython",
    "version": 2
   },
   "file_extension": ".py",
   "mimetype": "text/x-python",
   "name": "python",
   "nbconvert_exporter": "python",
   "pygments_lexer": "ipython2",
   "version": "2.7.6"
  }
 },
 "nbformat": 4,
 "nbformat_minor": 0
}