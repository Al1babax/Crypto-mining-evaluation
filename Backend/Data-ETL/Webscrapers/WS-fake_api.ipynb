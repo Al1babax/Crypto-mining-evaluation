{
 "cells": [
  {
   "cell_type": "markdown",
   "source": [
    "# This only needs to be run once --> collects coin mining difficulty from 2013 to 2022"
   ],
   "metadata": {
    "collapsed": false
   }
  },
  {
   "cell_type": "code",
   "execution_count": 185,
   "metadata": {
    "collapsed": true
   },
   "outputs": [
    {
     "name": "stderr",
     "output_type": "stream",
     "text": [
      "\n",
      "\n",
      "====== WebDriver manager ======\n",
      "Current google-chrome version is 103.0.5060\n",
      "Get LATEST chromedriver version for 103.0.5060 google-chrome\n",
      "Driver [C:\\Users\\Alibaba\\.wdm\\drivers\\chromedriver\\win32\\103.0.5060.53\\chromedriver.exe] found in cache\n"
     ]
    }
   ],
   "source": [
    "import requests\n",
    "import pandas as pd\n",
    "import selenium.common.exceptions\n",
    "# from selenium import webdriver\n",
    "from selenium.webdriver.chrome.service import Service\n",
    "from selenium.webdriver.common.by import By\n",
    "from selenium.webdriver.support.ui import WebDriverWait\n",
    "from selenium.webdriver.support import expected_conditions as EC\n",
    "from webdriver_manager.chrome import ChromeDriverManager\n",
    "from bs4 import BeautifulSoup\n",
    "from selenium.webdriver.common.keys import Keys\n",
    "import datetime as dt\n",
    "import time\n",
    "import re\n",
    "import pymongo\n",
    "import json\n",
    "from fake_useragent import UserAgent\n",
    "from seleniumwire import webdriver\n",
    "\n",
    "options2 = {\n",
    "    'disable_encoding': True  # Ask the server not to compress the response\n",
    "}\n",
    "\n",
    "# Settings\n",
    "options = webdriver.ChromeOptions()\n",
    "options.headless = True\n",
    "ua = UserAgent()\n",
    "userAgent = ua.chrome\n",
    "options.add_argument(f\"user-agent={userAgent}\")\n",
    "options.add_argument('--window-size=1920,1080')\n",
    "options.add_argument('--no-sandbox')\n",
    "options.add_argument('--disable-dev-shm-usage')\n",
    "driver = webdriver.Chrome(ChromeDriverManager().install(), options=options, seleniumwire_options=options2)\n",
    "wait = WebDriverWait(driver, 1)\n",
    "time1 = dt.datetime.now()\n",
    "current_time = time1.strftime(\"%Y-%m-%dT%H_%M_%S\")\n",
    "client = pymongo.MongoClient()"
   ]
  },
  {
   "cell_type": "code",
   "execution_count": 186,
   "outputs": [],
   "source": [
    "def read_data(list1):\n",
    "    all_data = []\n",
    "    for item in list1:\n",
    "        temp_dict = {\n",
    "            \"date\": dt.datetime.utcfromtimestamp((int(item[0])/1000)).strftime('%Y-%m-%d'),\n",
    "            \"difficulty\": int(item[1])\n",
    "        }\n",
    "        all_data.append(temp_dict)\n",
    "\n",
    "    df = pd.DataFrame(all_data)\n",
    "    return df"
   ],
   "metadata": {
    "collapsed": false,
    "pycharm": {
     "name": "#%%\n"
    }
   }
  },
  {
   "cell_type": "code",
   "execution_count": 187,
   "outputs": [],
   "source": [
    "def get_links():\n",
    "    result = requests.get(\"https://www.coinwarz.com/charts/difficulty-charts\")\n",
    "    print(result)\n",
    "    doc = BeautifulSoup(result.text, \"lxml\")\n",
    "    tag = doc.find(text=\"Most Popular Cryptocurrency Difficulty Charts\").parent.parent\n",
    "    lines = tag.find_all(\"img\")\n",
    "\n",
    "    all_coins = []\n",
    "    for line in lines:\n",
    "        final = re.findall(\"alt=\\S+\", str(line))[0].split('\"')[1]\n",
    "        # print(final)\n",
    "        all_coins.append(final.lower())\n",
    "\n",
    "    return all_coins"
   ],
   "metadata": {
    "collapsed": false,
    "pycharm": {
     "name": "#%%\n"
    }
   }
  },
  {
   "cell_type": "code",
   "execution_count": 188,
   "outputs": [],
   "source": [
    "def fake_api_request(link):\n",
    "    url = f\"https://www.coinwarz.com/mining/{link}/difficulty-chart\"\n",
    "    driver.get(url)\n",
    "    time.sleep(10)\n",
    "\n",
    "    for request in driver.requests:\n",
    "        if request.url == \"https://www.coinwarz.com/ajax/diffchartdata\":\n",
    "            a_byte = request.response.body\n",
    "            a_str = str(a_byte)[2:-1]\n",
    "            res = json.loads(a_str)\n",
    "            return res"
   ],
   "metadata": {
    "collapsed": false,
    "pycharm": {
     "name": "#%%\n"
    }
   }
  },
  {
   "cell_type": "code",
   "execution_count": 189,
   "outputs": [],
   "source": [
    "def write_database(coin_df:pd.DataFrame, coin_name):\n",
    "    db = client[\"Coin-Data\"]\n",
    "    col = db[coin_name]\n",
    "    col.insert_one({\"date\": current_time, \"data\":coin_df.to_dict(orient=\"records\")})"
   ],
   "metadata": {
    "collapsed": false,
    "pycharm": {
     "name": "#%%\n"
    }
   }
  },
  {
   "cell_type": "code",
   "execution_count": 190,
   "outputs": [],
   "source": [
    "def main():\n",
    "    links = get_links()\n",
    "    for link in links:\n",
    "        print(f\"Scraping {link} data...\")\n",
    "        data = fake_api_request(link)\n",
    "        df = read_data(data)\n",
    "        write_database(df, link)\n",
    "        print(f\"Scraping {link} done\")\n",
    "    driver.quit()"
   ],
   "metadata": {
    "collapsed": false,
    "pycharm": {
     "name": "#%%\n"
    }
   }
  },
  {
   "cell_type": "code",
   "execution_count": 191,
   "outputs": [
    {
     "name": "stdout",
     "output_type": "stream",
     "text": [
      "<Response [200]>\n",
      "Scraping bitcoin data...\n",
      "Scraping bitcoin done\n",
      "Scraping litecoin data...\n",
      "Scraping litecoin done\n",
      "Scraping feathercoin data...\n",
      "Scraping feathercoin done\n",
      "Scraping peercoin data...\n",
      "Scraping peercoin done\n",
      "Scraping dogecoin data...\n",
      "Scraping dogecoin done\n",
      "Scraping digibyte data...\n",
      "Scraping digibyte done\n",
      "Scraping vertcoin data...\n",
      "Scraping vertcoin done\n",
      "Scraping einsteinium data...\n",
      "Scraping einsteinium done\n",
      "Scraping dash data...\n",
      "Scraping dash done\n",
      "Scraping groestlcoin data...\n",
      "Scraping groestlcoin done\n",
      "Scraping florincoin data...\n",
      "Scraping florincoin done\n",
      "Scraping monacoin data...\n",
      "Scraping monacoin done\n",
      "Scraping viacoin data...\n",
      "Scraping viacoin done\n",
      "Scraping syscoin data...\n",
      "Scraping syscoin done\n",
      "Scraping verge data...\n",
      "Scraping verge done\n",
      "Scraping monero data...\n",
      "Scraping monero done\n",
      "Scraping ethereum data...\n",
      "Scraping ethereum done\n",
      "Scraping ethereum-classic data...\n",
      "Scraping ethereum-classic done\n",
      "Scraping zcash data...\n",
      "Scraping zcash done\n",
      "Scraping horizen data...\n",
      "Scraping horizen done\n",
      "Scraping bitcoincash data...\n",
      "Scraping bitcoincash done\n",
      "Scraping ravencoin data...\n",
      "Scraping ravencoin done\n"
     ]
    }
   ],
   "source": [
    "if __name__ == '__main__':\n",
    "    main()"
   ],
   "metadata": {
    "collapsed": false,
    "pycharm": {
     "name": "#%%\n"
    }
   }
  }
 ],
 "metadata": {
  "kernelspec": {
   "display_name": "Python 3",
   "language": "python",
   "name": "python3"
  },
  "language_info": {
   "codemirror_mode": {
    "name": "ipython",
    "version": 2
   },
   "file_extension": ".py",
   "mimetype": "text/x-python",
   "name": "python",
   "nbconvert_exporter": "python",
   "pygments_lexer": "ipython2",
   "version": "2.7.6"
  }
 },
 "nbformat": 4,
 "nbformat_minor": 0
}