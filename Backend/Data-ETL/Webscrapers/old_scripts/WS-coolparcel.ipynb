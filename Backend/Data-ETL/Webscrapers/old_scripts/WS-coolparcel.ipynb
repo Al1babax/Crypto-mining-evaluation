{
 "cells": [
  {
   "cell_type": "code",
   "execution_count": 186,
   "outputs": [
    {
     "name": "stderr",
     "output_type": "stream",
     "text": [
      "\n",
      "\n",
      "====== WebDriver manager ======\n",
      "Current google-chrome version is 103.0.5060\n",
      "Get LATEST chromedriver version for 103.0.5060 google-chrome\n",
      "Driver [C:\\Users\\Alibaba\\.wdm\\drivers\\chromedriver\\win32\\103.0.5060.53\\chromedriver.exe] found in cache\n",
      "C:\\Users\\Alibaba\\AppData\\Local\\Temp/ipykernel_7896/2023593304.py:26: DeprecationWarning: executable_path has been deprecated, please pass in a Service object\n",
      "  driver = webdriver.Chrome(ChromeDriverManager().install(), options=options)\n"
     ]
    }
   ],
   "source": [
    "import requests\n",
    "import pandas as pd\n",
    "import selenium.common.exceptions\n",
    "from selenium import webdriver\n",
    "from selenium.webdriver.chrome.service import Service\n",
    "from selenium.webdriver.common.by import By\n",
    "from selenium.webdriver.support.ui import WebDriverWait\n",
    "from selenium.webdriver.support import expected_conditions as EC\n",
    "from webdriver_manager.chrome import ChromeDriverManager\n",
    "from bs4 import BeautifulSoup\n",
    "from selenium.webdriver.common.keys import Keys\n",
    "import datetime as dt\n",
    "import time\n",
    "import re\n",
    "import os\n",
    "import numpy as np\n",
    "import pymongo\n",
    "\n",
    "\n",
    "# Settings\n",
    "options = webdriver.ChromeOptions()\n",
    "options.headless = True\n",
    "options.add_argument(\"--window-size=1920,1080\")\n",
    "options.add_argument('--no-sandbox')\n",
    "options.add_argument('--disable-dev-shm-usage')\n",
    "driver = webdriver.Chrome(ChromeDriverManager().install(), options=options)\n",
    "start_url = \"https://coolparcel.com/shipping/international/shipping-calculator\"\n",
    "wait = WebDriverWait(driver, 1)\n",
    "time1 = dt.datetime.now()\n",
    "current_time = time1.strftime(\"%Y-%m-%dT%H_%M_%S\")"
   ],
   "metadata": {
    "collapsed": false,
    "pycharm": {
     "name": "#%%\n"
    }
   }
  },
  {
   "cell_type": "code",
   "execution_count": 187,
   "outputs": [],
   "source": [
    "def element_by_id(id1:str):\n",
    "    element = driver.find_element(by=By.ID, value=id1)\n",
    "    return element"
   ],
   "metadata": {
    "collapsed": false,
    "pycharm": {
     "name": "#%%\n"
    }
   }
  },
  {
   "cell_type": "code",
   "execution_count": 188,
   "outputs": [],
   "source": [
    "def element_by_selector(selector:str):\n",
    "    element = driver.find_element(by= By.CSS_SELECTOR, value=selector)\n",
    "    return element"
   ],
   "metadata": {
    "collapsed": false,
    "pycharm": {
     "name": "#%%\n"
    }
   }
  },
  {
   "cell_type": "code",
   "execution_count": 189,
   "outputs": [],
   "source": [
    "def country_info_input(country:str, postalcode:str, from1 = False):\n",
    "    # Setup input field variables\n",
    "    country_input = element_by_id(\"package-input-origin\") if from1 else element_by_id(\"package-input-destination\")\n",
    "    postal_input = element_by_id(\"package-origin_postcode\") if from1 else element_by_id(\"package-delivery_postcode\")\n",
    "\n",
    "    # Write country\n",
    "    country_input.click()\n",
    "    time.sleep(1)\n",
    "    country_input.send_keys(Keys.BACKSPACE)\n",
    "    time.sleep(1)\n",
    "    country_input.send_keys(country)\n",
    "    time.sleep(1)\n",
    "\n",
    "    # Write postalcode\n",
    "    postal_input.send_keys(postalcode)"
   ],
   "metadata": {
    "collapsed": false,
    "pycharm": {
     "name": "#%%\n"
    }
   }
  },
  {
   "cell_type": "code",
   "execution_count": 190,
   "outputs": [],
   "source": [
    "def setup_search(countries:list, postalcodes:list, from1:list, package_specs:dict):\n",
    "    \"\"\"\n",
    "    :param countries: List of origin and destination countries\n",
    "    :param postalcodes: List of postalcodes from origin and destination\n",
    "    :param from1: List that specifies if first or second country is origin\n",
    "    :param package_specs: Example input {\"weight\":\"20\", \"length\":\"20\", \"width\":\"30\", \"height\":\"5\"} -- Weight in lb(pounds), length measurements in In(inches)\n",
    "    :return\n",
    "    \"\"\"\n",
    "    # Loop through and setup countries input fields\n",
    "    for index, country in enumerate(countries):\n",
    "        country_info_input(country, postalcodes[index], from1[index])\n",
    "        time.sleep(1)\n",
    "\n",
    "    # Setup measurement variables\n",
    "    weight = element_by_selector(\"#clone-package-container > div > div > div:nth-child(1) > div > div.form-group.col-6.col-lg-6 > div > input\")\n",
    "    length = element_by_selector(\"#clone-package-container > div > div > div:nth-child(2) > div > div:nth-child(1) > div > input\")\n",
    "    width = element_by_selector(\"#clone-package-container > div > div > div:nth-child(2) > div > div:nth-child(2) > div > input\")\n",
    "    height = element_by_selector(\"#clone-package-container > div > div > div:nth-child(2) > div > div:nth-child(3) > div > input\")\n",
    "\n",
    "    # Open custom measurements\n",
    "    size_button = element_by_id(\"package-custom-size\")\n",
    "    # driver.execute_script(\"arguments[0].scrollIntoView();\", size_button)\n",
    "    time.sleep(1)\n",
    "    size_button.click()\n",
    "    time.sleep(1)\n",
    "\n",
    "    # Setup measurements input fields\n",
    "    weight.send_keys(package_specs[\"weight\"])\n",
    "    time.sleep(1)\n",
    "    length.send_keys(package_specs[\"length\"])\n",
    "    time.sleep(1)\n",
    "    width.send_keys(package_specs[\"width\"])\n",
    "    time.sleep(1)\n",
    "    height.send_keys(package_specs[\"height\"])\n",
    "    time.sleep(1)\n",
    "\n",
    "    # Click search\n",
    "    find_price = element_by_selector(\"#package > form > div.details-packages > div.find-price > button\")\n",
    "    find_price.click()"
   ],
   "metadata": {
    "collapsed": false,
    "pycharm": {
     "name": "#%%\n"
    }
   }
  },
  {
   "cell_type": "code",
   "execution_count": 191,
   "outputs": [],
   "source": [
    "def scrape_data():\n",
    "    info_container = driver.find_elements(by=By.CLASS_NAME, value=\"result-container\")\n",
    "    result = [x.text for x in info_container]\n",
    "    return result"
   ],
   "metadata": {
    "collapsed": false,
    "pycharm": {
     "name": "#%%\n"
    }
   }
  },
  {
   "cell_type": "code",
   "execution_count": 192,
   "outputs": [],
   "source": [
    "def jsonfy_data(data, from1, to1):  # Going through data taking some info --> turning into dataframe --> lastly to record json for mongodb\n",
    "    all_data = []\n",
    "    for shipment in data:\n",
    "        temp_data = shipment.split(\"\\n\")\n",
    "        temp_dict = {\"time\":current_time, \"from\":from1, \"to\":to1}\n",
    "        for index, line in enumerate(temp_data):\n",
    "            if \" → \" in line:\n",
    "                temp_dict[\"delivery_method\"] = line\n",
    "            elif index == 1:\n",
    "                temp_dict[\"company\"] = line\n",
    "            elif \"$\" in line:\n",
    "                temp_dict[\"cost\"] = line\n",
    "        all_data.append(temp_dict)\n",
    "\n",
    "    df = pd.DataFrame(all_data)\n",
    "    return df"
   ],
   "metadata": {
    "collapsed": false,
    "pycharm": {
     "name": "#%%\n"
    }
   }
  },
  {
   "cell_type": "code",
   "execution_count": 193,
   "outputs": [],
   "source": [
    "def push_to_mongodb(data):  # TODO mongodb write\n",
    "    pass"
   ],
   "metadata": {
    "collapsed": false,
    "pycharm": {
     "name": "#%%\n"
    }
   }
  },
  {
   "cell_type": "code",
   "execution_count": 194,
   "outputs": [],
   "source": [
    "def check_init_input(from1, to1, package_measures):\n",
    "    country_list = []\n",
    "    us_states_list = []\n",
    "    with open(\"../resources/countries_list.txt\") as r, open(\"../resources/us_states.txt\") as r2:\n",
    "        for country in r.readlines():\n",
    "            country_list.append(country[:-1])\n",
    "\n",
    "        for state in r2.readlines():\n",
    "            us_states_list.append(state[:-1])\n",
    "\n",
    "    # print(us_states_list)\n",
    "    # Checking if countries exists\n",
    "    if (from1.capitalize() in country_list and to1.capitalize() in country_list) or (from1 in us_states_list and to1 in us_states_list):\n",
    "        # Checking that package_measures have all the info\n",
    "        measurements = [\"weight\", \"length\", \"width\", \"height\"]\n",
    "        for measurement in measurements:\n",
    "            if measurement in package_measures.keys():\n",
    "                pass\n",
    "            else:\n",
    "                print(\"Measurements wrong\")\n",
    "                return False\n",
    "\n",
    "        for k, v in package_measures.items():\n",
    "            try:\n",
    "                float(v)\n",
    "            except ValueError as e:\n",
    "                print(e)\n",
    "                print(\"Given item measurement format is wrong\")\n",
    "\n",
    "        return True\n",
    "    else:\n",
    "        return False\n"
   ],
   "metadata": {
    "collapsed": false,
    "pycharm": {
     "name": "#%%\n"
    }
   }
  },
  {
   "cell_type": "code",
   "execution_count": 195,
   "outputs": [],
   "source": [
    "def get_zipcode(country):\n",
    "    # get zipcode for country or us state\n",
    "\n",
    "    # if Finland\n",
    "    if country.lower() == \"finland\":\n",
    "        return \"00100\"\n",
    "    else:\n",
    "        print(\"Not Finland\")\n",
    "\n",
    "    # if US state\n",
    "    df = pd.read_json(\"../resources/uszips.json\")\n",
    "    test_df = df[df[\"state_name\"] == country]\n",
    "    if str(test_df.shape) == \"(0, 18)\":\n",
    "        print(\"Not US state\")\n",
    "    else:\n",
    "        zip_code = df[df[\"state_name\"] == country][\"zip\"].iloc[3]\n",
    "        if len(str(zip_code)) == 3:\n",
    "            return \"00\" + str(zip_code)\n",
    "        elif len(str(zip_code)) == 4:\n",
    "            return \"0\" + str(zip_code)\n",
    "        elif len(str(zip_code)) == 5:\n",
    "            return str(zip_code)\n",
    "\n",
    "    # if Other country\n",
    "    client = pymongo.MongoClient()\n",
    "    db = client[\"Shipments\"]\n",
    "    col = db[\"addresses\"]\n",
    "    data = col.find_one({})\n",
    "    df2 = pd.DataFrame(data[\"data\"])\n",
    "    result_df = df2[df2[\"country\"] == country]\n",
    "    if str(result_df.shape) == \"(0, 2)\":\n",
    "        print(\"Not other country\")\n",
    "    else:\n",
    "        return str(result_df.iloc[0, 1])\n",
    "\n",
    "    return False"
   ],
   "metadata": {
    "collapsed": false,
    "pycharm": {
     "name": "#%%\n"
    }
   }
  },
  {
   "cell_type": "code",
   "execution_count": 196,
   "outputs": [],
   "source": [
    "def main(from1, to1, package_measures, from_zipcode, to_zipcode):\n",
    "    time.sleep(1)\n",
    "    driver.get(start_url)\n",
    "    WebDriverWait(driver, 20).until(EC.element_to_be_clickable(driver.find_element(By.ID, \"package-input-origin\")))\n",
    "    if from_zipcode is None:\n",
    "        from_zipcode = get_zipcode(from1)\n",
    "    if to_zipcode is None:\n",
    "        to_zipcode = get_zipcode(to1)\n",
    "    if from_zipcode is False or to_zipcode is False:\n",
    "        return False\n",
    "    setup_search([from1, to1], [from_zipcode, to_zipcode], [True, False], package_measures)\n",
    "    WebDriverWait(driver, 60).until(method=EC.visibility_of_element_located((By.CLASS_NAME, \"result\")))\n",
    "    raw_data = scrape_data()\n",
    "    df = jsonfy_data(raw_data, from1, to1)\n",
    "    push_to_mongodb(df)\n",
    "    driver.quit()\n",
    "    return df"
   ],
   "metadata": {
    "collapsed": false,
    "pycharm": {
     "name": "#%%\n"
    }
   }
  },
  {
   "cell_type": "code",
   "execution_count": 197,
   "outputs": [
    {
     "data": {
      "text/plain": "'    try:\\n        check_init_input(from1, to1, package_measures)\\n        data = main(from1, to1, package_measures)\\n        return data\\n    except:\\n        print(\"Unexpected error\")'"
     },
     "execution_count": 197,
     "metadata": {},
     "output_type": "execute_result"
    }
   ],
   "source": [
    "def init(from1: str, to1: str, package_measures: dict,from_zipcode: str=None, to_zipcode: str=None):\n",
    "    \"\"\"\n",
    "    :param to_zipcode: Optional\n",
    "    :param from_zipcode: Optional\n",
    "    :param from1: str Have to be capitalized and written correctly (country/state)\n",
    "    :param to1: str Have to be capitalized and written correctly (country/state)\n",
    "    :param package_measures: Example input {\"weight\":\"20\", \"length\":\"20\", \"width\":\"30\", \"height\":\"5\"} -- Weight in lb(pounds), length measurements in In(inches)\n",
    "    :return:\n",
    "    \"\"\"\n",
    "    check_init_input(from1, to1, package_measures)\n",
    "    data = main(from1, to1, package_measures, from_zipcode, to_zipcode)\n",
    "    if data is False:\n",
    "        print(\"Country or state is not in database or is invalid\")\n",
    "    return data.to_dict(orient=\"records\")\n",
    "\"\"\"    try:\n",
    "        check_init_input(from1, to1, package_measures)\n",
    "        data = main(from1, to1, package_measures)\n",
    "        return data\n",
    "    except:\n",
    "        print(\"Unexpected error\")\"\"\""
   ],
   "metadata": {
    "collapsed": false,
    "pycharm": {
     "name": "#%%\n"
    }
   }
  },
  {
   "cell_type": "code",
   "execution_count": 198,
   "outputs": [
    {
     "name": "stdout",
     "output_type": "stream",
     "text": [
      "[{'time': '2022-07-11T19_33_06', 'from': 'Belgium', 'to': 'Texas', 'delivery_method': 'Door → Door', 'company': 'DHL Express Worldwide', 'cost': '$142'}, {'time': '2022-07-11T19_33_06', 'from': 'Belgium', 'to': 'Texas', 'delivery_method': 'Door → Door', 'company': 'DHL Express 12:00', 'cost': '$152'}, {'time': '2022-07-11T19_33_06', 'from': 'Belgium', 'to': 'Texas', 'delivery_method': 'Door → Door', 'company': 'UPS Worldwide Expedited', 'cost': '$212'}, {'time': '2022-07-11T19_33_06', 'from': 'Belgium', 'to': 'Texas', 'delivery_method': 'Door → Door', 'company': 'UPS Worldwide Saver', 'cost': '$235'}, {'time': '2022-07-11T19_33_06', 'from': 'Belgium', 'to': 'Texas', 'delivery_method': 'Door → Door', 'company': 'UPS Worldwide Express', 'cost': '$240'}, {'time': '2022-07-11T19_33_06', 'from': 'Belgium', 'to': 'Texas', 'delivery_method': 'Door → Door', 'company': 'UPS Worldwide Express Plus', 'cost': '$324'}, {'time': '2022-07-11T19_33_06', 'from': 'Belgium', 'to': 'Texas', 'delivery_method': 'Door → Door', 'company': 'International Economy', 'cost': '$476'}, {'time': '2022-07-11T19_33_06', 'from': 'Belgium', 'to': 'Texas', 'delivery_method': 'Door → Door', 'company': 'Fedex International Priority', 'cost': '$521'}, {'time': '2022-07-11T19_33_06', 'from': 'Belgium', 'to': 'Texas', 'delivery_method': 'Door → Door', 'company': 'Fedex International Priority Express', 'cost': '$536'}, {'time': '2022-07-11T19_33_06', 'from': 'Belgium', 'to': 'Texas', 'delivery_method': 'Door → Door', 'company': 'International First', 'cost': '$1046'}]\n"
     ]
    }
   ],
   "source": [
    "# info = init(\"Belgium\", \"Texas\", {\"weight\":\"20\", \"length\":\"20\", \"width\":\"30\", \"height\":\"5\"}, \"2440\", \"75226\")\n",
    "# print(info)"
   ],
   "metadata": {
    "collapsed": false,
    "pycharm": {
     "name": "#%%\n"
    }
   }
  },
  {
   "cell_type": "code",
   "execution_count": 198,
   "outputs": [],
   "source": [],
   "metadata": {
    "collapsed": false,
    "pycharm": {
     "name": "#%%\n"
    }
   }
  }
 ],
 "metadata": {
  "kernelspec": {
   "display_name": "Python 3",
   "language": "python",
   "name": "python3"
  },
  "language_info": {
   "codemirror_mode": {
    "name": "ipython",
    "version": 2
   },
   "file_extension": ".py",
   "mimetype": "text/x-python",
   "name": "python",
   "nbconvert_exporter": "python",
   "pygments_lexer": "ipython2",
   "version": "2.7.6"
  }
 },
 "nbformat": 4,
 "nbformat_minor": 0
}