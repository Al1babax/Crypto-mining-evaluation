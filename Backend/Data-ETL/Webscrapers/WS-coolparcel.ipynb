{
 "cells": [
  {
   "cell_type": "code",
   "execution_count": 74,
   "metadata": {
    "collapsed": true
   },
   "outputs": [
    {
     "name": "stderr",
     "output_type": "stream",
     "text": [
      "\n",
      "\n",
      "====== WebDriver manager ======\n",
      "Current google-chrome version is 103.0.5060\n",
      "Get LATEST chromedriver version for 103.0.5060 google-chrome\n",
      "Driver [C:\\Users\\Alibaba\\.wdm\\drivers\\chromedriver\\win32\\103.0.5060.53\\chromedriver.exe] found in cache\n",
      "C:\\Users\\Alibaba\\AppData\\Local\\Temp/ipykernel_6564/1454006962.py:26: DeprecationWarning: executable_path has been deprecated, please pass in a Service object\n",
      "  driver = webdriver.Chrome(ChromeDriverManager().install(), options=options)\n"
     ]
    }
   ],
   "source": [
    "import requests\n",
    "import pandas as pd\n",
    "import selenium.common.exceptions\n",
    "from selenium import webdriver\n",
    "from selenium.webdriver.chrome.service import Service\n",
    "from selenium.webdriver.common.by import By\n",
    "from selenium.webdriver.support.ui import WebDriverWait\n",
    "from selenium.webdriver.support import expected_conditions as EC\n",
    "from webdriver_manager.chrome import ChromeDriverManager\n",
    "from bs4 import BeautifulSoup\n",
    "from selenium.webdriver.common.keys import Keys\n",
    "import datetime as dt\n",
    "import time\n",
    "import re\n",
    "import os\n",
    "import numpy as np\n",
    "import pymongo\n",
    "\n",
    "\n",
    "# Settings\n",
    "options = webdriver.ChromeOptions()\n",
    "options.headless = False\n",
    "options.add_argument(\"window-size=1920,1080\")\n",
    "options.add_argument('--no-sandbox')\n",
    "options.add_argument('--disable-dev-shm-usage')\n",
    "driver = webdriver.Chrome(ChromeDriverManager().install(), options=options)\n",
    "start_url = \"https://coolparcel.com/shipping/international/shipping-calculator\"\n",
    "wait = WebDriverWait(driver, 1)\n",
    "time1 = dt.datetime.now()\n",
    "current_time = time1.strftime(\"%Y-%m-%dT%H_%M_%S\")"
   ]
  },
  {
   "cell_type": "code",
   "execution_count": 75,
   "outputs": [],
   "source": [
    "def element_by_id(id1:str):\n",
    "    element = driver.find_element(by=By.ID, value=id1)\n",
    "    return element"
   ],
   "metadata": {
    "collapsed": false,
    "pycharm": {
     "name": "#%%\n"
    }
   }
  },
  {
   "cell_type": "code",
   "execution_count": 76,
   "outputs": [],
   "source": [
    "def element_by_selector(selector:str):\n",
    "    element = driver.find_element(by= By.CSS_SELECTOR, value=selector)\n",
    "    return element"
   ],
   "metadata": {
    "collapsed": false,
    "pycharm": {
     "name": "#%%\n"
    }
   }
  },
  {
   "cell_type": "code",
   "execution_count": 77,
   "outputs": [],
   "source": [
    "def country_info_input(country:str, postalcode:str, from1 = False):\n",
    "    # Setup input field variables\n",
    "    country_input = element_by_id(\"package-input-origin\") if from1 else element_by_id(\"package-input-destination\")\n",
    "    postal_input = element_by_id(\"package-origin_postcode\") if from1 else element_by_id(\"package-delivery_postcode\")\n",
    "\n",
    "    # Write country\n",
    "    country_input.click()\n",
    "    time.sleep(1)\n",
    "    country_input.send_keys(Keys.BACKSPACE)\n",
    "    time.sleep(1)\n",
    "    country_input.send_keys(country)\n",
    "    time.sleep(1)\n",
    "\n",
    "    # Write postalcode\n",
    "    postal_input.send_keys(postalcode)"
   ],
   "metadata": {
    "collapsed": false,
    "pycharm": {
     "name": "#%%\n"
    }
   }
  },
  {
   "cell_type": "code",
   "execution_count": 78,
   "outputs": [],
   "source": [
    "def setup_search(countries:list, postalcodes:list, from1:list, package_specs:dict):\n",
    "    \"\"\"\n",
    "    :param countries: List of origin and destination countries\n",
    "    :param postalcodes: List of postalcodes from origin and destination\n",
    "    :param from1: List that specifies if first or second country is origin\n",
    "    :param package_specs: Example input {\"weight\":\"20\", \"length\":\"20\", \"width\":\"30\", \"height\":\"5\"} -- Weight in lb(pounds), length measurements in In(inches)\n",
    "    :return\n",
    "    \"\"\"\n",
    "    # Loop through and setup countries input fields\n",
    "    for index, country in enumerate(countries):\n",
    "        country_info_input(country, postalcodes[index], from1[index])\n",
    "        time.sleep(1)\n",
    "\n",
    "    # Setup measurement variables\n",
    "    weight = element_by_selector(\"#clone-package-container > div > div > div:nth-child(1) > div > div.form-group.col-6.col-lg-6 > div > input\")\n",
    "    length = element_by_selector(\"#clone-package-container > div > div > div:nth-child(2) > div > div:nth-child(1) > div > input\")\n",
    "    width = element_by_selector(\"#clone-package-container > div > div > div:nth-child(2) > div > div:nth-child(2) > div > input\")\n",
    "    height = element_by_selector(\"#clone-package-container > div > div > div:nth-child(2) > div > div:nth-child(3) > div > input\")\n",
    "\n",
    "    # Open custom measurements\n",
    "    size_button = element_by_id(\"package-custom-size\")\n",
    "    # driver.execute_script(\"arguments[0].scrollIntoView();\", size_button)\n",
    "    time.sleep(1)\n",
    "    size_button.click()\n",
    "    time.sleep(1)\n",
    "\n",
    "    # Setup measurements input fields\n",
    "    weight.send_keys(package_specs[\"weight\"])\n",
    "    time.sleep(1)\n",
    "    length.send_keys(package_specs[\"length\"])\n",
    "    time.sleep(1)\n",
    "    width.send_keys(package_specs[\"width\"])\n",
    "    time.sleep(1)\n",
    "    height.send_keys(package_specs[\"height\"])\n",
    "    time.sleep(1)\n",
    "\n",
    "    # Click search\n",
    "    find_price = element_by_selector(\"#package > form > div.details-packages > div.find-price > button\")\n",
    "    find_price.click()"
   ],
   "metadata": {
    "collapsed": false,
    "pycharm": {
     "name": "#%%\n"
    }
   }
  },
  {
   "cell_type": "code",
   "execution_count": 79,
   "outputs": [],
   "source": [
    "def scrape_data():\n",
    "    info_container = element_by_id(\"resultContainer\")\n",
    "    data = info_container.text\n",
    "    print(data)"
   ],
   "metadata": {
    "collapsed": false,
    "pycharm": {
     "name": "#%%\n"
    }
   }
  },
  {
   "cell_type": "code",
   "execution_count": 80,
   "outputs": [],
   "source": [
    "def main():\n",
    "    time.sleep(3)\n",
    "    driver.get(start_url)\n",
    "    time.sleep(10)\n",
    "    setup_search([\"Denmark\", \"Finland\"], [\"8000\", \"00100\"], [True, False], {\"weight\":\"20\", \"length\":\"20\", \"width\":\"30\", \"height\":\"5\"})\n",
    "    time.sleep(20)\n",
    "    scrape_data()"
   ],
   "metadata": {
    "collapsed": false,
    "pycharm": {
     "name": "#%%\n"
    }
   }
  },
  {
   "cell_type": "code",
   "execution_count": 81,
   "outputs": [
    {
     "name": "stdout",
     "output_type": "stream",
     "text": [
      "Door → Door\n",
      "DHL Express Worldwide\n",
      "1 Business Day\n",
      "$265\n",
      "TAX FREE\n",
      "Book Now\n",
      "PICKUP\n",
      "AVAILABLE\n",
      "ANY ADDRESS\n",
      "DELIVERY\n",
      "BUSINESS HOURS\n",
      "BEFORE 11:59 AM\n",
      "PRINTER\n",
      "REQUIRED\n",
      "Door → Door\n",
      "International Economy\n",
      "4 Business Days\n",
      "$265\n",
      "TAX FREE\n",
      "Book Now\n",
      "PICKUP\n",
      "AVAILABLE\n",
      "ANY ADDRESS\n",
      "DELIVERY\n",
      "BUSINESS HOURS\n",
      "BEFORE 6:00 PM\n",
      "PRINTER\n",
      "REQUIRED\n",
      "Door → Door\n",
      "UPS Standard\n",
      "3 Business Days\n",
      "$305\n",
      "TAX FREE\n",
      "Book Now\n",
      "PICKUP\n",
      "AVAILABLE\n",
      "ANY ADDRESS\n",
      "DELIVERY\n",
      "BUSINESS HOURS\n",
      "BEFORE 5:00 PM\n",
      "PRINTER\n",
      "REQUIRED\n",
      "Door → Door\n",
      "Fedex International Priority\n",
      "1 Business Day\n",
      "$380\n",
      "TAX FREE\n",
      "Book Now\n",
      "PICKUP\n",
      "AVAILABLE\n",
      "ANY ADDRESS\n",
      "DELIVERY\n",
      "BUSINESS HOURS\n",
      "BEFORE 6:00 PM\n",
      "PRINTER\n",
      "REQUIRED\n",
      "Door → Door\n",
      "Fedex International Priority Express\n",
      "1 Business Day\n",
      "$405\n",
      "TAX FREE\n",
      "Book Now\n",
      "PICKUP\n",
      "AVAILABLE\n",
      "ANY ADDRESS\n",
      "DELIVERY\n",
      "BUSINESS HOURS\n",
      "BEFORE 12:00 PM\n",
      "PRINTER\n",
      "REQUIRED\n",
      "Door → Door\n",
      "DHL Economy Select\n",
      "5 Business Days\n",
      "$594\n",
      "TAX FREE\n",
      "Book Now\n",
      "PICKUP\n",
      "AVAILABLE\n",
      "ANY ADDRESS\n",
      "DELIVERY\n",
      "BUSINESS HOURS\n",
      "BEFORE 11:59 AM\n",
      "PRINTER\n",
      "REQUIRED\n",
      "Door → Door\n",
      "UPS Worldwide Saver\n",
      "1 Business Day\n",
      "$1055\n",
      "TAX FREE\n",
      "Book Now\n",
      "PICKUP\n",
      "AVAILABLE\n",
      "ANY ADDRESS\n",
      "DELIVERY\n",
      "BUSINESS HOURS\n",
      "BEFORE 5:00 PM\n",
      "PRINTER\n",
      "REQUIRED\n",
      "Door → Door\n",
      "UPS Worldwide Express\n",
      "1 Business Day\n",
      "$1138\n",
      "TAX FREE\n",
      "Book Now\n",
      "PICKUP\n",
      "AVAILABLE\n",
      "ANY ADDRESS\n",
      "DELIVERY\n",
      "BUSINESS HOURS\n",
      "BEFORE 5:00 PM\n",
      "PRINTER\n",
      "REQUIRED\n"
     ]
    }
   ],
   "source": [
    "main()"
   ],
   "metadata": {
    "collapsed": false,
    "pycharm": {
     "name": "#%%\n"
    }
   }
  }
 ],
 "metadata": {
  "kernelspec": {
   "display_name": "Python 3",
   "language": "python",
   "name": "python3"
  },
  "language_info": {
   "codemirror_mode": {
    "name": "ipython",
    "version": 2
   },
   "file_extension": ".py",
   "mimetype": "text/x-python",
   "name": "python",
   "nbconvert_exporter": "python",
   "pygments_lexer": "ipython2",
   "version": "2.7.6"
  }
 },
 "nbformat": 4,
 "nbformat_minor": 0
}