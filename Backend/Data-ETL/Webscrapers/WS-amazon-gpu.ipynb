{
 "cells": [
  {
   "cell_type": "markdown",
   "source": [
    "# Not going to finish this --> too irregular naming on amazon and found better website to scrape"
   ],
   "metadata": {
    "collapsed": false
   }
  },
  {
   "cell_type": "code",
   "execution_count": 63,
   "metadata": {
    "collapsed": true
   },
   "outputs": [
    {
     "name": "stderr",
     "output_type": "stream",
     "text": [
      "\n",
      "\n",
      "====== WebDriver manager ======\n",
      "Current google-chrome version is 103.0.5060\n",
      "Get LATEST chromedriver version for 103.0.5060 google-chrome\n",
      "Driver [C:\\Users\\Alibaba\\.wdm\\drivers\\chromedriver\\win32\\103.0.5060.53\\chromedriver.exe] found in cache\n",
      "C:\\Users\\Alibaba\\AppData\\Local\\Temp/ipykernel_5512/467343800.py:27: DeprecationWarning: executable_path has been deprecated, please pass in a Service object\n",
      "  driver = webdriver.Chrome(ChromeDriverManager().install(), options=options)\n"
     ]
    }
   ],
   "source": [
    "import requests\n",
    "import pandas as pd\n",
    "import selenium.common.exceptions\n",
    "from selenium import webdriver\n",
    "from selenium.webdriver.chrome.service import Service\n",
    "from selenium.webdriver.common.by import By\n",
    "from selenium.webdriver.support.ui import WebDriverWait\n",
    "from selenium.webdriver.support import expected_conditions as EC\n",
    "from webdriver_manager.chrome import ChromeDriverManager\n",
    "from bs4 import BeautifulSoup\n",
    "from selenium.webdriver.common.keys import Keys\n",
    "import datetime as dt\n",
    "import time\n",
    "import re\n",
    "import os\n",
    "import numpy as np\n",
    "import pymongo\n",
    "import json\n",
    "\n",
    "\n",
    "# Settings\n",
    "options = webdriver.ChromeOptions()\n",
    "options.headless = False\n",
    "options.add_argument(\"window-size=1920,1080\")\n",
    "options.add_argument('--no-sandbox')\n",
    "options.add_argument('--disable-dev-shm-usage')\n",
    "driver = webdriver.Chrome(ChromeDriverManager().install(), options=options)\n",
    "start_url = \"https://www.amazon.com/\"\n",
    "wait = WebDriverWait(driver, 1)\n",
    "time1 = dt.datetime.now()\n",
    "current_time = time1.strftime(\"%Y-%m-%dT%H_%M_%S\")\n",
    "client = pymongo.MongoClient()"
   ]
  },
  {
   "cell_type": "code",
   "execution_count": 64,
   "outputs": [],
   "source": [
    "def element_by_id(id1: str):\n",
    "    element = driver.find_element(by=By.ID, value=id1)\n",
    "    return element\n",
    "\n",
    "\n",
    "def element_by_selector(selector: str):\n",
    "    element = driver.find_element(by=By.CSS_SELECTOR, value=selector)\n",
    "    return element"
   ],
   "metadata": {
    "collapsed": false,
    "pycharm": {
     "name": "#%%\n"
    }
   }
  },
  {
   "cell_type": "code",
   "execution_count": 65,
   "outputs": [],
   "source": [
    "def setup():\n",
    "    driver.get(start_url)\n",
    "    time.sleep(5)"
   ],
   "metadata": {
    "collapsed": false,
    "pycharm": {
     "name": "#%%\n"
    }
   }
  },
  {
   "cell_type": "code",
   "execution_count": 66,
   "outputs": [],
   "source": [
    "def search(gpu_name):\n",
    "    search_bar = element_by_id(\"twotabsearchtextbox\")\n",
    "    search_bar.send_keys(gpu_name)\n",
    "    time.sleep(1)\n",
    "    search_bar.send_keys(Keys.ENTER)\n",
    "    time.sleep(3)"
   ],
   "metadata": {
    "collapsed": false,
    "pycharm": {
     "name": "#%%\n"
    }
   }
  },
  {
   "cell_type": "code",
   "execution_count": 67,
   "outputs": [],
   "source": [
    "def get_gpus():\n",
    "    db = client[\"Crypto-mining\"]\n",
    "    col = db[\"GPU-PoW\"]\n",
    "    data = col.find_one({\"time\":\"2022-07-06T12_43_17\"})\n",
    "    gpu_df = pd.DataFrame(data[\"data\"])\n",
    "    names = gpu_df[\"name\"].tolist()\n",
    "\n",
    "    for index, gpu in enumerate(names):\n",
    "        temp_list = gpu.split(\" \")\n",
    "        for i, word in enumerate(temp_list):\n",
    "            if word[:2].isnumeric() and word[-2:].isalpha():\n",
    "                word_index = 0\n",
    "                current_letter = word[word_index]\n",
    "\n",
    "                while current_letter.isnumeric():\n",
    "                    word_index += 1\n",
    "                    current_letter = word[word_index]\n",
    "\n",
    "                word_start = word[:word_index]\n",
    "                word_end = word[word_index:]\n",
    "                new_word = word_start + \" \" + word_end\n",
    "                temp_list[i] = new_word\n",
    "        names[index] = \" \".join(temp_list)\n",
    "\n",
    "    return names"
   ],
   "metadata": {
    "collapsed": false,
    "pycharm": {
     "name": "#%%\n"
    }
   }
  },
  {
   "cell_type": "code",
   "execution_count": 82,
   "outputs": [],
   "source": [
    "def find_gpu_on_page(gpu_name):\n",
    "    item_list = element_by_selector(\"#search > div.s-desktop-width-max.s-desktop-content.s-opposite-dir.sg-row > div.s-matching-dir.sg-col-16-of-20.sg-col.sg-col-8-of-12.sg-col-12-of-16 > div\")\n",
    "    items_list = item_list.text.split(\"\\n\")\n",
    "\n",
    "    gpu_name_list = gpu_name.split(\" \")\n",
    "    gpu_name2 = gpu_name\n",
    "    print(gpu_name_list)\n",
    "    if gpu_name_list[0].lower() == \"nvidia\":\n",
    "        gpu_name_list.insert(1, \"GeForce\")\n",
    "        gpu_name2 = \" \".join(gpu_name_list)\n",
    "        print(gpu_name2)\n",
    "\n",
    "    for item in items_list:\n",
    "        if gpu_name.lower() in item.lower() or gpu_name2.lower() in item.lower():\n",
    "            print(\"löyty\")"
   ],
   "metadata": {
    "collapsed": false,
    "pycharm": {
     "name": "#%%\n"
    }
   }
  },
  {
   "cell_type": "code",
   "execution_count": 83,
   "outputs": [
    {
     "name": "stdout",
     "output_type": "stream",
     "text": [
      "['Nvidia', 'GTX', '1070', 'Ti']\n",
      "Nvidia GeForce GTX 1070 Ti\n",
      "löyty\n"
     ]
    }
   ],
   "source": [
    "setup()\n",
    "gpu_names = get_gpus()\n",
    "search(gpu_names[10])\n",
    "find_gpu_on_page(gpu_names[10])"
   ],
   "metadata": {
    "collapsed": false,
    "pycharm": {
     "name": "#%%\n"
    }
   }
  },
  {
   "cell_type": "code",
   "execution_count": 70,
   "outputs": [
    {
     "data": {
      "text/plain": "'Nvidia GTX 1070 Ti'"
     },
     "execution_count": 70,
     "metadata": {},
     "output_type": "execute_result"
    }
   ],
   "source": [
    "gpu_names[10]"
   ],
   "metadata": {
    "collapsed": false,
    "pycharm": {
     "name": "#%%\n"
    }
   }
  },
  {
   "cell_type": "code",
   "execution_count": 71,
   "outputs": [
    {
     "data": {
      "text/plain": "['Nvidia CMP 170 HX',\n 'Nvidia CMP 220 HX',\n 'Nvidia CMP 30 HX',\n 'Nvidia CMP 40 HX',\n 'Nvidia CMP 50 HX',\n 'Nvidia CMP 90 HX',\n 'Nvidia GTX 1050',\n 'Nvidia GTX 1050 Ti',\n 'Nvidia GTX 1060',\n 'Nvidia GTX 1070',\n 'Nvidia GTX 1070 Ti',\n 'Nvidia GTX 1080',\n 'Nvidia GTX 1080 Ti',\n 'Nvidia GTX 1650',\n 'Nvidia GTX 1650 Super',\n 'Nvidia GTX 1660',\n 'Nvidia GTX 1660 Super',\n 'Nvidia GTX 1660 Ti',\n 'Nvidia P102-100',\n 'Nvidia P104-100',\n 'Nvidia P106-100',\n 'Nvidia P106-90',\n 'AMD Radeon VII',\n 'Nvidia RTX 2060',\n 'Nvidia RTX 2060 Super',\n 'Nvidia RTX 2070',\n 'Nvidia RTX 2070 Super',\n 'Nvidia RTX 2080',\n 'Nvidia RTX 2080 Super',\n 'Nvidia RTX 2080 Ti',\n 'Nvidia RTX 3050',\n 'Nvidia RTX 3050 Ti Laptop',\n 'Nvidia RTX 3060',\n 'Nvidia RTX 3060 LHR V2',\n 'Nvidia RTX 3060 Ti',\n 'Nvidia RTX 3060 Ti LHR',\n 'Nvidia RTX 3070',\n 'Nvidia RTX 3070 LHR',\n 'Nvidia RTX 3070 Ti',\n 'Nvidia RTX 3080',\n 'Nvidia RTX 3080 LHR',\n 'Nvidia RTX 3080 Ti',\n 'Nvidia RTX 3090',\n 'Nvidia RTX 3090 Ti',\n 'Nvidia RTX A2000',\n 'Nvidia RTX A30',\n 'Nvidia RTX A4000',\n 'Nvidia RTX A5000',\n 'Nvidia RTX A6000',\n 'AMD RX 460',\n 'AMD RX 470',\n 'AMD RX 480',\n 'AMD RX 550',\n 'AMD RX 5500',\n 'AMD RX 5500 XT',\n 'AMD RX 560',\n 'AMD RX 5600',\n 'AMD RX 5600 XT',\n 'AMD RX 570',\n 'AMD RX 5700',\n 'AMD RX 5700 XT',\n 'AMD RX 580',\n 'AMD RX 590',\n 'AMD RX 590 GME',\n 'AMD RX 6400',\n 'AMD RX 6500 XT',\n 'AMD RX 6600',\n 'AMD RX 6600 XT',\n 'AMD RX 6650 XT',\n 'AMD RX 6700 XT',\n 'AMD RX 6750 XT',\n 'AMD RX 6800',\n 'AMD RX 6800 XT',\n 'AMD RX 6900 XT',\n 'AMD RX 6950 XT',\n 'AMD RX Vega 56',\n 'AMD RX Vega 64',\n 'Nvidia Tesla P100-PCIE-16GB',\n 'Nvidia Titan RTX',\n 'Nvidia Titan V',\n 'Nvidia Titan X',\n 'Nvidia Titan XP',\n 'AMD Vega Frontier Edition']"
     },
     "execution_count": 71,
     "metadata": {},
     "output_type": "execute_result"
    }
   ],
   "source": [
    "gpu_names"
   ],
   "metadata": {
    "collapsed": false,
    "pycharm": {
     "name": "#%%\n"
    }
   }
  },
  {
   "cell_type": "code",
   "execution_count": 71,
   "outputs": [],
   "source": [],
   "metadata": {
    "collapsed": false,
    "pycharm": {
     "name": "#%%\n"
    }
   }
  }
 ],
 "metadata": {
  "kernelspec": {
   "display_name": "Python 3",
   "language": "python",
   "name": "python3"
  },
  "language_info": {
   "codemirror_mode": {
    "name": "ipython",
    "version": 2
   },
   "file_extension": ".py",
   "mimetype": "text/x-python",
   "name": "python",
   "nbconvert_exporter": "python",
   "pygments_lexer": "ipython2",
   "version": "2.7.6"
  }
 },
 "nbformat": 4,
 "nbformat_minor": 0
}