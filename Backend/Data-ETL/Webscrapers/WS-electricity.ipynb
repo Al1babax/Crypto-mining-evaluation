{
 "cells": [
  {
   "cell_type": "code",
   "execution_count": 157,
   "metadata": {
    "collapsed": true
   },
   "outputs": [
    {
     "name": "stderr",
     "output_type": "stream",
     "text": [
      "\n",
      "\n",
      "====== WebDriver manager ======\n",
      "Current google-chrome version is 103.0.5060\n",
      "Get LATEST chromedriver version for 103.0.5060 google-chrome\n",
      "Driver [C:\\Users\\Alibaba\\.wdm\\drivers\\chromedriver\\win32\\103.0.5060.53\\chromedriver.exe] found in cache\n",
      "C:\\Users\\Alibaba\\AppData\\Local\\Temp/ipykernel_3616/1312677538.py:26: DeprecationWarning: executable_path has been deprecated, please pass in a Service object\n",
      "  driver = webdriver.Chrome(ChromeDriverManager().install(), options=options)\n"
     ]
    }
   ],
   "source": [
    "import requests\n",
    "import pandas as pd\n",
    "import selenium.common.exceptions\n",
    "from selenium import webdriver\n",
    "from selenium.webdriver.chrome.service import Service\n",
    "from selenium.webdriver.common.by import By\n",
    "from selenium.webdriver.support.ui import WebDriverWait\n",
    "from selenium.webdriver.support import expected_conditions as EC\n",
    "from webdriver_manager.chrome import ChromeDriverManager\n",
    "from bs4 import BeautifulSoup\n",
    "from selenium.webdriver.common.keys import Keys\n",
    "import datetime as dt\n",
    "import time\n",
    "import re\n",
    "import os\n",
    "import numpy as np\n",
    "import pymongo\n",
    "\n",
    "\n",
    "# Settings\n",
    "options = webdriver.ChromeOptions()\n",
    "options.headless = False\n",
    "options.add_argument(\"window-size=1920,1080\")\n",
    "options.add_argument('--no-sandbox')\n",
    "options.add_argument('--disable-dev-shm-usage')\n",
    "driver = webdriver.Chrome(ChromeDriverManager().install(), options=options)\n",
    "start_url = \"https://vare.fi/sahkosopimus/porssisahko/\"\n",
    "usa_url = \"https://www.energybot.com/electricity-rates-by-state.html\"\n",
    "wait = WebDriverWait(driver, 1)\n",
    "time1 = dt.datetime.now()\n",
    "current_time = time1.strftime(\"%Y-%m-%dT%H_%M_%S\")"
   ]
  },
  {
   "cell_type": "code",
   "execution_count": 158,
   "outputs": [],
   "source": [
    "def element_by_id(id1:str):\n",
    "    element = driver.find_element(by=By.ID, value=id1)\n",
    "    return element\n",
    "\n",
    "def element_by_selector(selector:str):\n",
    "    element = driver.find_element(by= By.CSS_SELECTOR, value=selector)\n",
    "    return element"
   ],
   "metadata": {
    "collapsed": false,
    "pycharm": {
     "name": "#%%\n"
    }
   }
  },
  {
   "cell_type": "code",
   "execution_count": 159,
   "outputs": [],
   "source": [
    "def finland_electricity():\n",
    "    time.sleep(3)\n",
    "    driver.get(start_url)\n",
    "    time.sleep(20)\n",
    "    info_box = element_by_selector(\"#blokki-3 > div > section > div > div > div.column.is-6-desktop.is-offset-1-desktop > div > div > div.hourly-prices-chart-data > div.hourly-prices-chart-data-pricecards.mb-4\")\n",
    "    daily_info = element_by_selector(\"#blokki-3 > div > section > div > div > div.column.is-6-desktop.is-offset-1-desktop > div > div > div.hourly-prices-chart-data > div.hourly-prices-chart-average-prices\")\n",
    "\n",
    "    overall_info_list = info_box.text.split(\"\\n\")\n",
    "    daily_info_list = daily_info.text.split(\"\\n\")\n",
    "\n",
    "    # Finding all the prices from elements\n",
    "    current_price = float(overall_info_list[1].split(\" \")[0].replace(\",\", \".\")) + 0.25\n",
    "    day_average = float(daily_info_list[0].split(\":\")[1].lstrip().split(\" \")[0].replace(\",\", \".\")) + 0.25\n",
    "    night_average = float(daily_info_list[1].split(\":\")[1].lstrip().split(\" \")[0].replace(\",\", \".\")) + 0.25\n",
    "    yearly_average = float(overall_info_list[-2].split(\" \")[0].replace(\",\",\".\")) + 0.25\n",
    "\n",
    "    data = [{\"time\":current_time, \"currency\":\"cent/kWh €\", \"current_price\":current_price, \"day_average\":day_average, \"night_average\":night_average, \"yearly_average\":yearly_average, \"electricity_company_cut\":0.25}]\n",
    "    df2 = pd.DataFrame(data)\n",
    "    return df2"
   ],
   "metadata": {
    "collapsed": false,
    "pycharm": {
     "name": "#%%\n"
    }
   }
  },
  {
   "cell_type": "code",
   "execution_count": 160,
   "outputs": [],
   "source": [
    "def usa_electricity():\n",
    "    driver.get(usa_url)\n",
    "    time.sleep(20)\n",
    "    data = element_by_selector(\"body > div.eb-state-container > div > div.eb-landing-page-container > div.html-embed-scroll.w-embed\")\n",
    "\n",
    "    state_data = data.text.split(\"\\n\")[3:]\n",
    "    all_data = []\n",
    "    for state in state_data:\n",
    "        temp_data = {\"time\":current_time, \"currency\":\"cent/kWh $\"}\n",
    "        temp_info = state.split(\" \")\n",
    "\n",
    "        while temp_info[1].isalpha():\n",
    "            temp_info[0] += \" \" + temp_info[1]\n",
    "            temp_info.pop(1)\n",
    "\n",
    "        # Setup all info to dict\n",
    "        temp_data[\"state\"] = temp_info[0]\n",
    "        temp_data[\"current_month\"] = temp_info[1]\n",
    "        temp_data[\"previous_month\"] = temp_info[2]\n",
    "        temp_data[\"change (%)\"] = temp_info[3]\n",
    "\n",
    "        all_data.append(temp_data)\n",
    "\n",
    "    df3 = pd.DataFrame(all_data)\n",
    "    return df3"
   ],
   "metadata": {
    "collapsed": false,
    "pycharm": {
     "name": "#%%\n"
    }
   }
  },
  {
   "cell_type": "code",
   "execution_count": 161,
   "outputs": [],
   "source": [
    "def write_mongodb(df1, df2):    # TODO finish writing this\n",
    "    pass"
   ],
   "metadata": {
    "collapsed": false,
    "pycharm": {
     "name": "#%%\n"
    }
   }
  },
  {
   "cell_type": "code",
   "execution_count": 162,
   "outputs": [],
   "source": [
    "def main():\n",
    "    finland_df = finland_electricity()\n",
    "    usa_df = usa_electricity()\n",
    "    driver.quit()\n",
    "    return finland_df, usa_df"
   ],
   "metadata": {
    "collapsed": false,
    "pycharm": {
     "name": "#%%\n"
    }
   }
  },
  {
   "cell_type": "code",
   "execution_count": 163,
   "outputs": [],
   "source": [
    "df1, df2 = main()"
   ],
   "metadata": {
    "collapsed": false,
    "pycharm": {
     "name": "#%%\n"
    }
   }
  },
  {
   "cell_type": "code",
   "execution_count": 164,
   "outputs": [
    {
     "data": {
      "text/plain": "                  time    currency  current_price  day_average  night_average  \\\n0  2022-07-05T04_06_09  cent/kWh €           6.69         8.37          15.79   \n\n   yearly_average  electricity_company_cut  \n0           13.32                     0.25  ",
      "text/html": "<div>\n<style scoped>\n    .dataframe tbody tr th:only-of-type {\n        vertical-align: middle;\n    }\n\n    .dataframe tbody tr th {\n        vertical-align: top;\n    }\n\n    .dataframe thead th {\n        text-align: right;\n    }\n</style>\n<table border=\"1\" class=\"dataframe\">\n  <thead>\n    <tr style=\"text-align: right;\">\n      <th></th>\n      <th>time</th>\n      <th>currency</th>\n      <th>current_price</th>\n      <th>day_average</th>\n      <th>night_average</th>\n      <th>yearly_average</th>\n      <th>electricity_company_cut</th>\n    </tr>\n  </thead>\n  <tbody>\n    <tr>\n      <th>0</th>\n      <td>2022-07-05T04_06_09</td>\n      <td>cent/kWh €</td>\n      <td>6.69</td>\n      <td>8.37</td>\n      <td>15.79</td>\n      <td>13.32</td>\n      <td>0.25</td>\n    </tr>\n  </tbody>\n</table>\n</div>"
     },
     "execution_count": 164,
     "metadata": {},
     "output_type": "execute_result"
    }
   ],
   "source": [
    "df1"
   ],
   "metadata": {
    "collapsed": false,
    "pycharm": {
     "name": "#%%\n"
    }
   }
  },
  {
   "cell_type": "code",
   "execution_count": 165,
   "outputs": [
    {
     "data": {
      "text/plain": "                   time    currency                 state current_month  \\\n0   2022-07-05T04_06_09  cent/kWh $                Alaska         19.48   \n1   2022-07-05T04_06_09  cent/kWh $               Alabama         12.57   \n2   2022-07-05T04_06_09  cent/kWh $              Arkansas          9.43   \n3   2022-07-05T04_06_09  cent/kWh $               Arizona          9.85   \n4   2022-07-05T04_06_09  cent/kWh $            California          19.3   \n5   2022-07-05T04_06_09  cent/kWh $              Colorado         10.53   \n6   2022-07-05T04_06_09  cent/kWh $           Connecticut         17.07   \n7   2022-07-05T04_06_09  cent/kWh $  District of Columbia         14.95   \n8   2022-07-05T04_06_09  cent/kWh $              Delaware         10.65   \n9   2022-07-05T04_06_09  cent/kWh $               Florida         10.97   \n10  2022-07-05T04_06_09  cent/kWh $               Georgia         11.28   \n11  2022-07-05T04_06_09  cent/kWh $                Hawaii          37.1   \n12  2022-07-05T04_06_09  cent/kWh $                  Iowa          9.24   \n13  2022-07-05T04_06_09  cent/kWh $                 Idaho           7.9   \n14  2022-07-05T04_06_09  cent/kWh $              Illinois         10.92   \n15  2022-07-05T04_06_09  cent/kWh $               Indiana         12.46   \n16  2022-07-05T04_06_09  cent/kWh $                Kansas         11.08   \n17  2022-07-05T04_06_09  cent/kWh $              Kentucky         11.33   \n18  2022-07-05T04_06_09  cent/kWh $             Louisiana         10.77   \n19  2022-07-05T04_06_09  cent/kWh $         Massachusetts         18.96   \n20  2022-07-05T04_06_09  cent/kWh $              Maryland          11.4   \n21  2022-07-05T04_06_09  cent/kWh $                 Maine         16.69   \n22  2022-07-05T04_06_09  cent/kWh $              Michigan          12.2   \n23  2022-07-05T04_06_09  cent/kWh $             Minnesota          11.6   \n24  2022-07-05T04_06_09  cent/kWh $              Missouri          8.83   \n25  2022-07-05T04_06_09  cent/kWh $           Mississippi         12.18   \n26  2022-07-05T04_06_09  cent/kWh $               Montana         10.18   \n27  2022-07-05T04_06_09  cent/kWh $        North Carolina          9.26   \n28  2022-07-05T04_06_09  cent/kWh $          North Dakota          8.59   \n29  2022-07-05T04_06_09  cent/kWh $              Nebraska          8.65   \n30  2022-07-05T04_06_09  cent/kWh $         New Hampshire         18.02   \n31  2022-07-05T04_06_09  cent/kWh $            New Jersey         13.42   \n32  2022-07-05T04_06_09  cent/kWh $            New Mexico         10.49   \n33  2022-07-05T04_06_09  cent/kWh $                Nevada          8.56   \n34  2022-07-05T04_06_09  cent/kWh $              New York         16.21   \n35  2022-07-05T04_06_09  cent/kWh $                  Ohio         10.01   \n36  2022-07-05T04_06_09  cent/kWh $              Oklahoma           8.8   \n37  2022-07-05T04_06_09  cent/kWh $                Oregon          9.23   \n38  2022-07-05T04_06_09  cent/kWh $          Pennsylvania          9.89   \n39  2022-07-05T04_06_09  cent/kWh $          Rhode Island         17.15   \n40  2022-07-05T04_06_09  cent/kWh $        South Carolina         11.28   \n41  2022-07-05T04_06_09  cent/kWh $          South Dakota          9.74   \n42  2022-07-05T04_06_09  cent/kWh $             Tennessee         11.35   \n43  2022-07-05T04_06_09  cent/kWh $                 Texas          8.51   \n44  2022-07-05T04_06_09  cent/kWh $                  Utah          8.32   \n45  2022-07-05T04_06_09  cent/kWh $              Virginia          8.46   \n46  2022-07-05T04_06_09  cent/kWh $               Vermont         17.43   \n47  2022-07-05T04_06_09  cent/kWh $            Washington          9.55   \n48  2022-07-05T04_06_09  cent/kWh $             Wisconsin         11.45   \n49  2022-07-05T04_06_09  cent/kWh $         West Virginia         10.15   \n50  2022-07-05T04_06_09  cent/kWh $               Wyoming          9.37   \n\n   previous_month change (%)  \n0            19.2       1.4%  \n1           12.36       1.7%  \n2             9.2       2.4%  \n3           10.48      -6.4%  \n4           19.29       0.1%  \n5           10.41       1.1%  \n6              21     -23.0%  \n7           14.79       1.1%  \n8           10.52       1.2%  \n9           11.36      -3.6%  \n10           10.9       3.4%  \n11          35.68       3.8%  \n12            9.4      -1.7%  \n13           7.78       1.5%  \n14          10.73       1.7%  \n15           12.3       1.3%  \n16          10.68       3.6%  \n17          11.43      -0.9%  \n18          10.47       2.8%  \n19          19.69      -3.9%  \n20           12.3      -7.9%  \n21          16.14       3.3%  \n22          12.36      -1.3%  \n23          11.46       1.2%  \n24           8.39       5.0%  \n25          11.91       2.2%  \n26           9.81       3.6%  \n27           9.01       2.7%  \n28           8.76      -2.0%  \n29           8.38       3.1%  \n30          18.58      -3.1%  \n31          13.05       2.8%  \n32          10.43       0.6%  \n33           8.62      -0.7%  \n34           17.4      -7.3%  \n35          10.22      -2.1%  \n36           9.13      -3.8%  \n37           9.18       0.5%  \n38          10.13      -2.4%  \n39          18.48      -7.8%  \n40           11.3      -0.2%  \n41           9.97      -2.4%  \n42          11.21       1.2%  \n43           8.47       0.5%  \n44           8.11       2.5%  \n45           8.36       1.2%  \n46          16.85       3.3%  \n47           9.45       1.0%  \n48           11.5      -0.4%  \n49           10.2      -0.5%  \n50           9.16       2.2%  ",
      "text/html": "<div>\n<style scoped>\n    .dataframe tbody tr th:only-of-type {\n        vertical-align: middle;\n    }\n\n    .dataframe tbody tr th {\n        vertical-align: top;\n    }\n\n    .dataframe thead th {\n        text-align: right;\n    }\n</style>\n<table border=\"1\" class=\"dataframe\">\n  <thead>\n    <tr style=\"text-align: right;\">\n      <th></th>\n      <th>time</th>\n      <th>currency</th>\n      <th>state</th>\n      <th>current_month</th>\n      <th>previous_month</th>\n      <th>change (%)</th>\n    </tr>\n  </thead>\n  <tbody>\n    <tr>\n      <th>0</th>\n      <td>2022-07-05T04_06_09</td>\n      <td>cent/kWh $</td>\n      <td>Alaska</td>\n      <td>19.48</td>\n      <td>19.2</td>\n      <td>1.4%</td>\n    </tr>\n    <tr>\n      <th>1</th>\n      <td>2022-07-05T04_06_09</td>\n      <td>cent/kWh $</td>\n      <td>Alabama</td>\n      <td>12.57</td>\n      <td>12.36</td>\n      <td>1.7%</td>\n    </tr>\n    <tr>\n      <th>2</th>\n      <td>2022-07-05T04_06_09</td>\n      <td>cent/kWh $</td>\n      <td>Arkansas</td>\n      <td>9.43</td>\n      <td>9.2</td>\n      <td>2.4%</td>\n    </tr>\n    <tr>\n      <th>3</th>\n      <td>2022-07-05T04_06_09</td>\n      <td>cent/kWh $</td>\n      <td>Arizona</td>\n      <td>9.85</td>\n      <td>10.48</td>\n      <td>-6.4%</td>\n    </tr>\n    <tr>\n      <th>4</th>\n      <td>2022-07-05T04_06_09</td>\n      <td>cent/kWh $</td>\n      <td>California</td>\n      <td>19.3</td>\n      <td>19.29</td>\n      <td>0.1%</td>\n    </tr>\n    <tr>\n      <th>5</th>\n      <td>2022-07-05T04_06_09</td>\n      <td>cent/kWh $</td>\n      <td>Colorado</td>\n      <td>10.53</td>\n      <td>10.41</td>\n      <td>1.1%</td>\n    </tr>\n    <tr>\n      <th>6</th>\n      <td>2022-07-05T04_06_09</td>\n      <td>cent/kWh $</td>\n      <td>Connecticut</td>\n      <td>17.07</td>\n      <td>21</td>\n      <td>-23.0%</td>\n    </tr>\n    <tr>\n      <th>7</th>\n      <td>2022-07-05T04_06_09</td>\n      <td>cent/kWh $</td>\n      <td>District of Columbia</td>\n      <td>14.95</td>\n      <td>14.79</td>\n      <td>1.1%</td>\n    </tr>\n    <tr>\n      <th>8</th>\n      <td>2022-07-05T04_06_09</td>\n      <td>cent/kWh $</td>\n      <td>Delaware</td>\n      <td>10.65</td>\n      <td>10.52</td>\n      <td>1.2%</td>\n    </tr>\n    <tr>\n      <th>9</th>\n      <td>2022-07-05T04_06_09</td>\n      <td>cent/kWh $</td>\n      <td>Florida</td>\n      <td>10.97</td>\n      <td>11.36</td>\n      <td>-3.6%</td>\n    </tr>\n    <tr>\n      <th>10</th>\n      <td>2022-07-05T04_06_09</td>\n      <td>cent/kWh $</td>\n      <td>Georgia</td>\n      <td>11.28</td>\n      <td>10.9</td>\n      <td>3.4%</td>\n    </tr>\n    <tr>\n      <th>11</th>\n      <td>2022-07-05T04_06_09</td>\n      <td>cent/kWh $</td>\n      <td>Hawaii</td>\n      <td>37.1</td>\n      <td>35.68</td>\n      <td>3.8%</td>\n    </tr>\n    <tr>\n      <th>12</th>\n      <td>2022-07-05T04_06_09</td>\n      <td>cent/kWh $</td>\n      <td>Iowa</td>\n      <td>9.24</td>\n      <td>9.4</td>\n      <td>-1.7%</td>\n    </tr>\n    <tr>\n      <th>13</th>\n      <td>2022-07-05T04_06_09</td>\n      <td>cent/kWh $</td>\n      <td>Idaho</td>\n      <td>7.9</td>\n      <td>7.78</td>\n      <td>1.5%</td>\n    </tr>\n    <tr>\n      <th>14</th>\n      <td>2022-07-05T04_06_09</td>\n      <td>cent/kWh $</td>\n      <td>Illinois</td>\n      <td>10.92</td>\n      <td>10.73</td>\n      <td>1.7%</td>\n    </tr>\n    <tr>\n      <th>15</th>\n      <td>2022-07-05T04_06_09</td>\n      <td>cent/kWh $</td>\n      <td>Indiana</td>\n      <td>12.46</td>\n      <td>12.3</td>\n      <td>1.3%</td>\n    </tr>\n    <tr>\n      <th>16</th>\n      <td>2022-07-05T04_06_09</td>\n      <td>cent/kWh $</td>\n      <td>Kansas</td>\n      <td>11.08</td>\n      <td>10.68</td>\n      <td>3.6%</td>\n    </tr>\n    <tr>\n      <th>17</th>\n      <td>2022-07-05T04_06_09</td>\n      <td>cent/kWh $</td>\n      <td>Kentucky</td>\n      <td>11.33</td>\n      <td>11.43</td>\n      <td>-0.9%</td>\n    </tr>\n    <tr>\n      <th>18</th>\n      <td>2022-07-05T04_06_09</td>\n      <td>cent/kWh $</td>\n      <td>Louisiana</td>\n      <td>10.77</td>\n      <td>10.47</td>\n      <td>2.8%</td>\n    </tr>\n    <tr>\n      <th>19</th>\n      <td>2022-07-05T04_06_09</td>\n      <td>cent/kWh $</td>\n      <td>Massachusetts</td>\n      <td>18.96</td>\n      <td>19.69</td>\n      <td>-3.9%</td>\n    </tr>\n    <tr>\n      <th>20</th>\n      <td>2022-07-05T04_06_09</td>\n      <td>cent/kWh $</td>\n      <td>Maryland</td>\n      <td>11.4</td>\n      <td>12.3</td>\n      <td>-7.9%</td>\n    </tr>\n    <tr>\n      <th>21</th>\n      <td>2022-07-05T04_06_09</td>\n      <td>cent/kWh $</td>\n      <td>Maine</td>\n      <td>16.69</td>\n      <td>16.14</td>\n      <td>3.3%</td>\n    </tr>\n    <tr>\n      <th>22</th>\n      <td>2022-07-05T04_06_09</td>\n      <td>cent/kWh $</td>\n      <td>Michigan</td>\n      <td>12.2</td>\n      <td>12.36</td>\n      <td>-1.3%</td>\n    </tr>\n    <tr>\n      <th>23</th>\n      <td>2022-07-05T04_06_09</td>\n      <td>cent/kWh $</td>\n      <td>Minnesota</td>\n      <td>11.6</td>\n      <td>11.46</td>\n      <td>1.2%</td>\n    </tr>\n    <tr>\n      <th>24</th>\n      <td>2022-07-05T04_06_09</td>\n      <td>cent/kWh $</td>\n      <td>Missouri</td>\n      <td>8.83</td>\n      <td>8.39</td>\n      <td>5.0%</td>\n    </tr>\n    <tr>\n      <th>25</th>\n      <td>2022-07-05T04_06_09</td>\n      <td>cent/kWh $</td>\n      <td>Mississippi</td>\n      <td>12.18</td>\n      <td>11.91</td>\n      <td>2.2%</td>\n    </tr>\n    <tr>\n      <th>26</th>\n      <td>2022-07-05T04_06_09</td>\n      <td>cent/kWh $</td>\n      <td>Montana</td>\n      <td>10.18</td>\n      <td>9.81</td>\n      <td>3.6%</td>\n    </tr>\n    <tr>\n      <th>27</th>\n      <td>2022-07-05T04_06_09</td>\n      <td>cent/kWh $</td>\n      <td>North Carolina</td>\n      <td>9.26</td>\n      <td>9.01</td>\n      <td>2.7%</td>\n    </tr>\n    <tr>\n      <th>28</th>\n      <td>2022-07-05T04_06_09</td>\n      <td>cent/kWh $</td>\n      <td>North Dakota</td>\n      <td>8.59</td>\n      <td>8.76</td>\n      <td>-2.0%</td>\n    </tr>\n    <tr>\n      <th>29</th>\n      <td>2022-07-05T04_06_09</td>\n      <td>cent/kWh $</td>\n      <td>Nebraska</td>\n      <td>8.65</td>\n      <td>8.38</td>\n      <td>3.1%</td>\n    </tr>\n    <tr>\n      <th>30</th>\n      <td>2022-07-05T04_06_09</td>\n      <td>cent/kWh $</td>\n      <td>New Hampshire</td>\n      <td>18.02</td>\n      <td>18.58</td>\n      <td>-3.1%</td>\n    </tr>\n    <tr>\n      <th>31</th>\n      <td>2022-07-05T04_06_09</td>\n      <td>cent/kWh $</td>\n      <td>New Jersey</td>\n      <td>13.42</td>\n      <td>13.05</td>\n      <td>2.8%</td>\n    </tr>\n    <tr>\n      <th>32</th>\n      <td>2022-07-05T04_06_09</td>\n      <td>cent/kWh $</td>\n      <td>New Mexico</td>\n      <td>10.49</td>\n      <td>10.43</td>\n      <td>0.6%</td>\n    </tr>\n    <tr>\n      <th>33</th>\n      <td>2022-07-05T04_06_09</td>\n      <td>cent/kWh $</td>\n      <td>Nevada</td>\n      <td>8.56</td>\n      <td>8.62</td>\n      <td>-0.7%</td>\n    </tr>\n    <tr>\n      <th>34</th>\n      <td>2022-07-05T04_06_09</td>\n      <td>cent/kWh $</td>\n      <td>New York</td>\n      <td>16.21</td>\n      <td>17.4</td>\n      <td>-7.3%</td>\n    </tr>\n    <tr>\n      <th>35</th>\n      <td>2022-07-05T04_06_09</td>\n      <td>cent/kWh $</td>\n      <td>Ohio</td>\n      <td>10.01</td>\n      <td>10.22</td>\n      <td>-2.1%</td>\n    </tr>\n    <tr>\n      <th>36</th>\n      <td>2022-07-05T04_06_09</td>\n      <td>cent/kWh $</td>\n      <td>Oklahoma</td>\n      <td>8.8</td>\n      <td>9.13</td>\n      <td>-3.8%</td>\n    </tr>\n    <tr>\n      <th>37</th>\n      <td>2022-07-05T04_06_09</td>\n      <td>cent/kWh $</td>\n      <td>Oregon</td>\n      <td>9.23</td>\n      <td>9.18</td>\n      <td>0.5%</td>\n    </tr>\n    <tr>\n      <th>38</th>\n      <td>2022-07-05T04_06_09</td>\n      <td>cent/kWh $</td>\n      <td>Pennsylvania</td>\n      <td>9.89</td>\n      <td>10.13</td>\n      <td>-2.4%</td>\n    </tr>\n    <tr>\n      <th>39</th>\n      <td>2022-07-05T04_06_09</td>\n      <td>cent/kWh $</td>\n      <td>Rhode Island</td>\n      <td>17.15</td>\n      <td>18.48</td>\n      <td>-7.8%</td>\n    </tr>\n    <tr>\n      <th>40</th>\n      <td>2022-07-05T04_06_09</td>\n      <td>cent/kWh $</td>\n      <td>South Carolina</td>\n      <td>11.28</td>\n      <td>11.3</td>\n      <td>-0.2%</td>\n    </tr>\n    <tr>\n      <th>41</th>\n      <td>2022-07-05T04_06_09</td>\n      <td>cent/kWh $</td>\n      <td>South Dakota</td>\n      <td>9.74</td>\n      <td>9.97</td>\n      <td>-2.4%</td>\n    </tr>\n    <tr>\n      <th>42</th>\n      <td>2022-07-05T04_06_09</td>\n      <td>cent/kWh $</td>\n      <td>Tennessee</td>\n      <td>11.35</td>\n      <td>11.21</td>\n      <td>1.2%</td>\n    </tr>\n    <tr>\n      <th>43</th>\n      <td>2022-07-05T04_06_09</td>\n      <td>cent/kWh $</td>\n      <td>Texas</td>\n      <td>8.51</td>\n      <td>8.47</td>\n      <td>0.5%</td>\n    </tr>\n    <tr>\n      <th>44</th>\n      <td>2022-07-05T04_06_09</td>\n      <td>cent/kWh $</td>\n      <td>Utah</td>\n      <td>8.32</td>\n      <td>8.11</td>\n      <td>2.5%</td>\n    </tr>\n    <tr>\n      <th>45</th>\n      <td>2022-07-05T04_06_09</td>\n      <td>cent/kWh $</td>\n      <td>Virginia</td>\n      <td>8.46</td>\n      <td>8.36</td>\n      <td>1.2%</td>\n    </tr>\n    <tr>\n      <th>46</th>\n      <td>2022-07-05T04_06_09</td>\n      <td>cent/kWh $</td>\n      <td>Vermont</td>\n      <td>17.43</td>\n      <td>16.85</td>\n      <td>3.3%</td>\n    </tr>\n    <tr>\n      <th>47</th>\n      <td>2022-07-05T04_06_09</td>\n      <td>cent/kWh $</td>\n      <td>Washington</td>\n      <td>9.55</td>\n      <td>9.45</td>\n      <td>1.0%</td>\n    </tr>\n    <tr>\n      <th>48</th>\n      <td>2022-07-05T04_06_09</td>\n      <td>cent/kWh $</td>\n      <td>Wisconsin</td>\n      <td>11.45</td>\n      <td>11.5</td>\n      <td>-0.4%</td>\n    </tr>\n    <tr>\n      <th>49</th>\n      <td>2022-07-05T04_06_09</td>\n      <td>cent/kWh $</td>\n      <td>West Virginia</td>\n      <td>10.15</td>\n      <td>10.2</td>\n      <td>-0.5%</td>\n    </tr>\n    <tr>\n      <th>50</th>\n      <td>2022-07-05T04_06_09</td>\n      <td>cent/kWh $</td>\n      <td>Wyoming</td>\n      <td>9.37</td>\n      <td>9.16</td>\n      <td>2.2%</td>\n    </tr>\n  </tbody>\n</table>\n</div>"
     },
     "execution_count": 165,
     "metadata": {},
     "output_type": "execute_result"
    }
   ],
   "source": [
    "df2"
   ],
   "metadata": {
    "collapsed": false,
    "pycharm": {
     "name": "#%%\n"
    }
   }
  }
 ],
 "metadata": {
  "kernelspec": {
   "display_name": "Python 3",
   "language": "python",
   "name": "python3"
  },
  "language_info": {
   "codemirror_mode": {
    "name": "ipython",
    "version": 2
   },
   "file_extension": ".py",
   "mimetype": "text/x-python",
   "name": "python",
   "nbconvert_exporter": "python",
   "pygments_lexer": "ipython2",
   "version": "2.7.6"
  }
 },
 "nbformat": 4,
 "nbformat_minor": 0
}